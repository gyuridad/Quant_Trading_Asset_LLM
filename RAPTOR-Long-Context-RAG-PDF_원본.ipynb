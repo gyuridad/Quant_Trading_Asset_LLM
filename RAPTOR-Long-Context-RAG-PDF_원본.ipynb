{
 "cells": [
  {
   "cell_type": "markdown",
   "id": "f7554354",
   "metadata": {},
   "source": [
    "# RAPTOR: Recursive Abstractive Processing for Tree-Organized Retrieval\n",
    "### 줄거리를 알아야 답변할 수 있는 질문에 대해서는 기존 RAG 방식에는 한계가 존재\n",
    "### -> 이를 해결하기 위한 방법으로 요약본을 따로 만든다\n",
    "\n",
    "[RAPTOR](https://arxiv.org/pdf/2401.18059.pdf) 논문은 문서의 색인 생성 및 검색에 대한 흥미로운 접근 방식을 제시합니다.\n",
    "\n",
    "[테디노트 논문 요약글(노션)](https://teddylee777.notion.site/RAPTOR-e835d306fc664dc2ad76191dee1cd859?pvs=4)\n",
    "  ![alt text](111.png)\n",
    "- `leafs` 는 가장 low-level 의 시작 문서 집합입니다. 이 문서들은 임베딩되어 클러스터링됩니다.\n",
    "- 그런 다음 클러스터는 유사한 문서들 간의 정보를 더 높은 수준(더 추상적인)으로 요약합니다.\n",
    "\n",
    "이 과정은 재귀적으로 수행되어, 원본 문서(`leafs`)에서 더 추상적인 요약으로 이어지는 \"트리\"를 형성합니다.\n",
    "\n",
    "`leafs`는 다음과 같은 문서들로 구성될 수 있습니다.\n",
    "\n",
    "- 단일 문서에서의 텍스트 청크(논문에서 보여준 것처럼)\n",
    "- 전체 문서(아래에서 보여주는 것처럼)\n",
    "\n",
    "이번 튜토리얼에서는 긴 문서(PDF) 에 대해서 RAPTOR 방법론을 적용해 보도록 하겠습니다.\n"
   ]
  },
  {
   "cell_type": "markdown",
   "id": "4aa9e677",
   "metadata": {},
   "source": [
    "## 실습에 활용한 문서\n",
    "\n",
    "소프트웨어정책연구소(SPRi) - 2023년 12월호\n",
    "\n",
    "- 저자: 유재흥(AI정책연구실 책임연구원), 이지수(AI정책연구실 위촉연구원)\n",
    "- 링크: https://spri.kr/posts/view/23669\n",
    "- 파일명: `SPRI_AI_Brief_2023년12월호_F.pdf`\n",
    "\n",
    "_실습을 위해 다운로드 받은 파일을 `data` 폴더로 복사해 주시기 바랍니다_\n"
   ]
  },
  {
   "cell_type": "markdown",
   "id": "ac3b0092",
   "metadata": {},
   "source": [
    "## 환경 설정"
   ]
  },
  {
   "cell_type": "markdown",
   "id": "2d2bfd93",
   "metadata": {},
   "source": [
    "**추가 패키지 설치**\n",
    "\n",
    "아래 주석을 해제하고 실행하여 추가 패키지를 설치 후 진행해 주세요."
   ]
  },
  {
   "cell_type": "code",
   "execution_count": 1,
   "id": "ad741a5e",
   "metadata": {},
   "outputs": [],
   "source": [
    "# !pip install -U umap-learn"
   ]
  },
  {
   "cell_type": "markdown",
   "id": "6a8b1b8d",
   "metadata": {},
   "source": [
    "상단의 **restart** 버튼을 눌러 재시작 한 뒤 다시 처음부터 진행해 주세요."
   ]
  },
  {
   "cell_type": "code",
   "execution_count": 1,
   "id": "45420489",
   "metadata": {},
   "outputs": [
    {
     "data": {
      "text/plain": [
       "True"
      ]
     },
     "execution_count": 1,
     "metadata": {},
     "output_type": "execute_result"
    }
   ],
   "source": [
    "# API 키를 환경변수로 관리하기 위한 설정 파일\n",
    "from dotenv import load_dotenv\n",
    "import warnings\n",
    "\n",
    "# 경고 메시지 무시\n",
    "warnings.filterwarnings(\"ignore\")\n",
    "\n",
    "# API 키 정보 로드\n",
    "load_dotenv()"
   ]
  },
  {
   "cell_type": "code",
   "execution_count": 2,
   "id": "572c2efd",
   "metadata": {},
   "outputs": [
    {
     "name": "stdout",
     "output_type": "stream",
     "text": [
      "LangSmith 추적을 시작합니다.\n",
      "[프로젝트명]\n",
      "CH12-RAPTOR\n"
     ]
    }
   ],
   "source": [
    "# LangSmith 추적을 설정합니다. https://smith.langchain.com\n",
    "# !pip install -qU langchain-teddynote\n",
    "from langchain_teddynote import logging\n",
    "\n",
    "# 프로젝트 이름을 입력합니다.\n",
    "logging.langsmith(\"CH12-RAPTOR\")"
   ]
  },
  {
   "cell_type": "markdown",
   "id": "792c9f09",
   "metadata": {},
   "source": [
    "## 데이터 전처리\n",
    "\n",
    "`doc`은 PDF 파일입니다. 토큰 수는 100 토큰 미만에서 10,000 토큰 이상까지 다양합니다."
   ]
  },
  {
   "cell_type": "markdown",
   "id": "55ba7426",
   "metadata": {},
   "source": [
    "웹 문서에서 텍스트 데이터를 추출하고, 텍스트의 토큰 수를 계산하여 히스토그램으로 시각화합니다."
   ]
  },
  {
   "cell_type": "code",
   "execution_count": 3,
   "id": "1d3506db",
   "metadata": {},
   "outputs": [
    {
     "name": "stdout",
     "output_type": "stream",
     "text": [
      "문서의 페이지수: 23\n"
     ]
    },
    {
     "data": {
      "image/png": "[encoded data removed]",
      "text/plain": [
       "<Figure size 1000x600 with 1 Axes>"
      ]
     },
     "metadata": {},
     "output_type": "display_data"
    }
   ],
   "source": [
    "from langchain_community.document_loaders import PDFPlumberLoader\n",
    "import tiktoken\n",
    "import matplotlib.pyplot as plt\n",
    "\n",
    "\n",
    "# tiktoken은 OpenAI 토큰 인코딩 도구\n",
    "# \"cl100k_base\" 같은 이름을 넘기면 해당 모델에 맞는 **토큰화 방식(encoding)**을 가져옴\n",
    "# 토큰 수 계산\n",
    "def num_tokens_from_string(string: str, encoding_name: str):\n",
    "    encoding = tiktoken.get_encoding(encoding_name)\n",
    "    num_tokens = len(encoding.encode(string))\n",
    "    return num_tokens\n",
    "\n",
    "\n",
    "# 문서 로드(Load Documents)\n",
    "loader = PDFPlumberLoader(\"data/SPRI_AI_Brief_2023년12월호_F.pdf\")\n",
    "docs = loader.load()\n",
    "print(f\"문서의 페이지수: {len(docs)}\")\n",
    "\n",
    "# 문서 텍스트\n",
    "docs_texts = [d.page_content for d in docs]\n",
    "\n",
    "# 각 문서에 대한 토큰 수 계산\n",
    "counts = [num_tokens_from_string(d, \"cl100k_base\") for d in docs_texts]\n",
    "\n",
    "# 토큰 수의 히스토그램을 그립니다.\n",
    "plt.figure(figsize=(10, 6))\n",
    "plt.hist(counts, bins=30, color=\"blue\", edgecolor=\"black\", alpha=0.7)\n",
    "plt.title(\"Token Count Distribution\")\n",
    "plt.xlabel(\"Token Count\")\n",
    "plt.ylabel(\"Frequency\")\n",
    "plt.grid(axis=\"y\", alpha=0.75)\n",
    "\n",
    "# 히스토그램을 표시합니다.\n",
    "plt.show()"
   ]
  },
  {
   "cell_type": "markdown",
   "id": "66c9d8ad",
   "metadata": {},
   "source": [
    "문서 텍스트를 정렬합니다. 이때 메타데이터의 `source` 를 기준으로 정렬한 뒤, 모든 문서를 연결합니다."
   ]
  },
  {
   "cell_type": "code",
   "execution_count": 4,
   "id": "af1b3aa2",
   "metadata": {},
   "outputs": [
    {
     "data": {
      "text/plain": [
       "{'source': 'data/SPRI_AI_Brief_2023년12월호_F.pdf',\n",
       " 'file_path': 'data/SPRI_AI_Brief_2023년12월호_F.pdf',\n",
       " 'page': 1,\n",
       " 'total_pages': 23,\n",
       " 'Author': 'dj',\n",
       " 'Creator': 'Hwp 2018 10.0.0.13462',\n",
       " 'Producer': 'Hancom PDF 1.3.0.542',\n",
       " 'CreationDate': \"D:20231208132838+09'00'\",\n",
       " 'ModDate': \"D:20231208132838+09'00'\",\n",
       " 'PDFVersion': '1.4'}"
      ]
     },
     "execution_count": 4,
     "metadata": {},
     "output_type": "execute_result"
    }
   ],
   "source": [
    "docs[1].metadata"
   ]
  },
  {
   "cell_type": "code",
   "execution_count": 5,
   "id": "ff0a783a",
   "metadata": {},
   "outputs": [
    {
     "name": "stdout",
     "output_type": "stream",
     "text": [
      "전체 토큰 수: 24131\n"
     ]
    }
   ],
   "source": [
    "# 문서를 출처 메타데이터 기준으로 정렬합니다.\n",
    "d_sorted = sorted(docs, key=lambda x: x.metadata[\"source\"])\n",
    "d_reversed = list(reversed(d_sorted))\n",
    "\n",
    "# 역순으로 배열된 문서의 내용을 연결합니다.\n",
    "concatenated_content = \"\\n\\n\\n --- \\n\\n\\n\".join(\n",
    "    [doc.page_content for doc in d_reversed]\n",
    ")\n",
    "\n",
    "print(\n",
    "    \"전체 토큰 수: %s\"  # 모든 문맥에서의 토큰 수를 출력합니다.\n",
    "    % num_tokens_from_string(concatenated_content, \"cl100k_base\")\n",
    ")"
   ]
  },
  {
   "cell_type": "code",
   "execution_count": 6,
   "id": "a56b2a82",
   "metadata": {},
   "outputs": [
    {
     "data": {
      "text/plain": [
       "[Document(metadata={'source': 'data/SPRI_AI_Brief_2023년12월호_F.pdf', 'file_path': 'data/SPRI_AI_Brief_2023년12월호_F.pdf', 'page': 0, 'total_pages': 23, 'Author': 'dj', 'Creator': 'Hwp 2018 10.0.0.13462', 'Producer': 'Hancom PDF 1.3.0.542', 'CreationDate': \"D:20231208132838+09'00'\", 'ModDate': \"D:20231208132838+09'00'\", 'PDFVersion': '1.4'}, page_content='12\\n2023년 월호\\n'),\n",
       " Document(metadata={'source': 'data/SPRI_AI_Brief_2023년12월호_F.pdf', 'file_path': 'data/SPRI_AI_Brief_2023년12월호_F.pdf', 'page': 1, 'total_pages': 23, 'Author': 'dj', 'Creator': 'Hwp 2018 10.0.0.13462', 'Producer': 'Hancom PDF 1.3.0.542', 'CreationDate': \"D:20231208132838+09'00'\", 'ModDate': \"D:20231208132838+09'00'\", 'PDFVersion': '1.4'}, page_content='2023년 12월호\\nⅠ\\n. 인공지능 산업 동향 브리프\\n1. 정책/법제\\n▹ 미국, 안전하고 신뢰할 수 있는 AI 개발과 사용에 관한 행정명령 발표 ·························1\\n▹ G7, 히로시마 AI 프로세스를 통해 AI 기업 대상 국제 행동강령에 합의···························2\\n▹ 영국 AI 안전성 정상회의에 참가한 28개국, AI 위험에 공동 대응 선언···························3\\n▹ 미국 법원, 예술가들이 생성 AI 기업에 제기한 저작권 소송 기각·····································4\\n▹ 미국 연방거래위원회, 저작권청에 소비자 보호와 경쟁 측면의 AI 의견서 제출·················5\\n▹ EU AI 법 3자 협상, 기반모델 규제 관련 견해차로 난항···················································6\\n2. 기업/산업\\n▹ 미국 프런티어 모델 포럼, 1,000만 달러 규모의 AI 안전 기금 조성································7\\n▹ 코히어, 데이터 투명성 확보를 위한 데이터 출처 탐색기 공개 ·······································8\\n▹ 알리바바 클라우드, 최신 LLM ‘통이치엔원 2.0’ 공개 ······················································9\\n▹ 삼성전자, 자체 개발 생성 AI ‘삼성 가우스’ 공개 ···························································10\\n▹ 구글, 앤스로픽에 20억 달러 투자로 생성 AI 협력 강화 ················································11\\n▹ IDC, 2027년 AI 소프트웨어 매출 2,500억 달러 돌파 전망···········································12\\n▹ 빌 게이츠, AI 에이전트로 인한 컴퓨터 사용의 패러다임 변화 전망································13\\n▹ 유튜브, 2024년부터 AI 생성 콘텐츠 표시 의무화····························································14\\n3. 기술/연구\\n▹ 영국 과학혁신기술부, AI 안전 연구소 설립 발표······························································15\\n▹ 구글 딥마인드, 범용 AI 모델의 기능과 동작에 대한 분류 체계 발표······························16\\n▹ 갈릴레오의 LLM 환각 지수 평가에서 GPT-4가 가장 우수 ···········································17\\n4. 인력/교육\\n▹ 영국 옥스퍼드 인터넷 연구소, AI 기술자의 임금이 평균 21% 높아·······························18\\nⅡ\\n. 주요 행사\\n▹CES 2024·····························································································································19\\n▹AIMLA 2024·························································································································19\\n▹AAAI Conference on Artificial Intelligence··································································19\\n'),\n",
       " Document(metadata={'source': 'data/SPRI_AI_Brief_2023년12월호_F.pdf', 'file_path': 'data/SPRI_AI_Brief_2023년12월호_F.pdf', 'page': 2, 'total_pages': 23, 'Author': 'dj', 'Creator': 'Hwp 2018 10.0.0.13462', 'Producer': 'Hancom PDF 1.3.0.542', 'CreationDate': \"D:20231208132838+09'00'\", 'ModDate': \"D:20231208132838+09'00'\", 'PDFVersion': '1.4'}, page_content='Ⅰ\\n. 인공지능 산업 동향 브리프\\n'),\n",
       " Document(metadata={'source': 'data/SPRI_AI_Brief_2023년12월호_F.pdf', 'file_path': 'data/SPRI_AI_Brief_2023년12월호_F.pdf', 'page': 3, 'total_pages': 23, 'Author': 'dj', 'Creator': 'Hwp 2018 10.0.0.13462', 'Producer': 'Hancom PDF 1.3.0.542', 'CreationDate': \"D:20231208132838+09'00'\", 'ModDate': \"D:20231208132838+09'00'\", 'PDFVersion': '1.4'}, page_content='1. 정책/법제 2. 기업/산업 3. 기술/연구 4. 인력/교육\\n미국, 안전하고 신뢰할 수 있는 AI 개발과 사용에 관한 행정명령 발표\\nKEY Contents\\nn 미국 바이든 대통령이 ‘안전하고 신뢰할 수 있는 AI 개발과 사용에 관한 행정명령’에 서명하고\\n광범위한 행정 조치를 명시\\nn 행정명령은 △AI의 안전과 보안 기준 마련 △개인정보보호 △형평성과 시민권 향상 △소비자\\n보호 △노동자 지원 △혁신과 경쟁 촉진 △국제협력을 골자로 함\\n£바이든 대통령, AI 행정명령 통해 안전하고 신뢰할 수 있는 AI 개발과 활용 추진\\nn 미국 바이든 대통령이 2023년 10월 30일 연방정부 차원에서 안전하고 신뢰할 수 있는 AI 개발과\\n사용을 보장하기 위한 행정명령을 발표\\n∙ 행정명령은 △AI의 안전과 보안 기준 마련 △개인정보보호 △형평성과 시민권 향상 △소비자 보호\\n△노동자 지원 △혁신과 경쟁 촉진 △국제협력에 관한 내용을 포괄\\nn (AI 안전과 보안 기준) 강력한 AI 시스템을 개발하는 기업에게 안전 테스트 결과와 시스템에 관한\\n주요 정보를 미국 정부와 공유할 것을 요구하고, AI 시스템의 안전성과 신뢰성 확인을 위한 표준 및\\nAI 생성 콘텐츠 표시를 위한 표준과 모범사례 확립을 추진\\n∙ △1026 플롭스(FLOPS, Floating Point Operation Per Second)를 초과하는 컴퓨팅 성능 또는 생물학적\\n서열 데이터를 주로 사용하고 1023플롭스를 초과하는 컴퓨팅 성능을 사용하는 모델 △단일 데이터센터에서\\n1,000Gbit/s 이상의 네트워킹으로 연결되며 AI 훈련에서 이론상 최대 1020 플롭스를 처리할 수 있는\\n컴퓨팅 용량을 갖춘 컴퓨팅 클러스터가 정보공유 요구대상\\nn (형평성과 시민권 향상) 법률, 주택, 보건 분야에서 AI의 무책임한 사용으로 인한 차별과 편견 및 기타\\n문제를 방지하는 조치를 확대\\n∙ 형사사법 시스템에서 AI 사용 모범사례를 개발하고, 주택 임대 시 AI 알고리즘 차별을 막기 위한 명확한\\n지침을 제공하며, 보건복지 부문에서 책임 있는 AI 배포와 사용을 위한 전략을 마련\\nn (소비자 보호와 근로자 지원) 의료 분야에서 책임 있는 AI 사용을 촉진하고 맞춤형 개인교습 등 학교\\n내 AI 교육 도구 관련 자원을 개발하며, AI로 인한 근로자 피해를 완화하고 이점을 극대화하는 원칙과\\n모범사례를 마련\\nn (혁신과 경쟁 촉진) 국가AI연구자원(National Artificial Intelligence Research Resource, NAIRR)*을\\n통해 미국 전역의 AI 연구를 촉진하고, 중소기업과 개발자에 기술과 인프라를 지원\\n* 국가 차원에서 AI 연구 인프라를 확충해 더 많은 AI 연구자에게 인프라를 지원하는 프로그램\\n∙ 비자 기준과 인터뷰 절차의 현대화와 간소화로 AI 관련 주요 분야의 전문 지식을 갖춘 외국인들이 미국에서\\n공부하고 취업할 수 있도록 지원\\n☞ 출처 : The White House, Executive Order on the Safe, Secure, and Trustworthy Development and Use of\\nArtificial Intelligence (E.O. 14110), 2023.10.30.\\n'),\n",
       " Document(metadata={'source': 'data/SPRI_AI_Brief_2023년12월호_F.pdf', 'file_path': 'data/SPRI_AI_Brief_2023년12월호_F.pdf', 'page': 4, 'total_pages': 23, 'Author': 'dj', 'Creator': 'Hwp 2018 10.0.0.13462', 'Producer': 'Hancom PDF 1.3.0.542', 'CreationDate': \"D:20231208132838+09'00'\", 'ModDate': \"D:20231208132838+09'00'\", 'PDFVersion': '1.4'}, page_content='SPRi AI Brief |\\n2023-12월호\\nG7, 히로시마 AI 프로세스를 통해 AI 기업 대상 국제 행동강령에 합의\\nKEY Contents\\nn G7이 첨단 AI 시스템을 개발하는 기업을 대상으로 AI 위험 식별과 완화를 위해 자발적인\\n채택을 권고하는 AI 국제 행동강령을 마련\\nn 행동강령은 AI 수명주기 전반에 걸친 위험 평가와 완화, 투명성과 책임성의 보장, 정보공유와\\n이해관계자 간 협력, 보안 통제, 콘텐츠 인증과 출처 확인 등의 조치를 요구\\n£G7, 첨단 AI 시스템의 위험 관리를 위한 국제 행동강령 마련\\nn 주요 7개국(G7)*은 2023년 10월 30일 ‘히로시마 AI 프로세스’를 통해 AI 기업 대상의 AI 국제\\n행동강령(International Code of Conduct for Advanced AI Systems)에 합의\\n∙ G7은 2023년 5월 일본 히로시마에서 개최된 정상회의에서 생성 AI에 관한 국제규범 마련과\\n정보공유를 위해 ‘히로시마 AI 프로세스’를 출범**\\n∙ 기업의 자발적 채택을 위해 마련된 이번 행동강령은 기반모델과 생성 AI를 포함한 첨단 AI 시스템의\\n위험 식별과 완화에 필요한 조치를 포함\\n* 주요 7개국(G7)은 미국, 일본, 독일, 영국, 프랑스, 이탈리아, 캐나다를 의미\\n** 5월 정상회의에는 한국, 호주, 베트남 등을 포함한 8개국이 초청을 받았으나, AI 국제 행동강령에는 우선 G7 국가만 포함하여 채택\\nn G7은 행동강령을 통해 아래의 조치를 제시했으며, 빠르게 발전하는 기술에 대응할 수 있도록\\n이해관계자 협의를 통해 필요에 따라 개정할 예정\\n∙ 첨단 AI 시스템의 개발 과정에서 AI 수명주기 전반에 걸쳐 위험을 평가 및 완화하는 조치를 채택하고,\\n첨단 AI 시스템의 출시와 배포 이후 취약점과 오용 사고, 오용 유형을 파악해 완화\\n∙ 첨단 AI 시스템의 성능과 한계를 공개하고 적절하거나 부적절한 사용영역을 알리는 방법으로 투명성을\\n보장하고 책임성을 강화\\n∙ 산업계, 정부, 시민사회, 학계를 포함해 첨단 AI 시스템을 개발하는 조직 간 정보공유와 사고 발생 시\\n신고를 위해 협력하고, 위험 기반 접근방식을 토대로 개인정보보호 정책과 위험 완화 조치를 포함하는\\nAI 거버넌스와 위험 관리 정책을 마련\\n∙ AI 수명주기 전반에 걸쳐 물리보안, 사이버보안, 내부자 위협 보안을 포함한 강력한 보안 통제 구현\\n∙ 사용자가 AI 생성 콘텐츠를 식별할 수 있도록 워터마크를 비롯하여 기술적으로 가능한 기법으로\\n신뢰할 수 있는 콘텐츠 인증과 출처 확인 메커니즘을 개발 및 구축\\n∙ 사회적 위험과 안전·보안 문제를 완화하는 연구와 효과적인 완화 대책에 우선 투자하고, 기후 위기\\n대응, 세계 보건과 교육 등 세계적 난제 해결을 위한 첨단 AI 시스템을 우선 개발\\n∙ 국제 기술 표준의 개발 및 채택을 가속화하고, 개인정보와 지식재산권 보호를 위해 데이터 입력과 수집\\n시 적절한 보호 장치 구현\\n☞ 출처: G7, Hiroshima Process International Code of Conduct for Advanced AI Systems, 2023.10.30.\\n2\\n'),\n",
       " Document(metadata={'source': 'data/SPRI_AI_Brief_2023년12월호_F.pdf', 'file_path': 'data/SPRI_AI_Brief_2023년12월호_F.pdf', 'page': 5, 'total_pages': 23, 'Author': 'dj', 'Creator': 'Hwp 2018 10.0.0.13462', 'Producer': 'Hancom PDF 1.3.0.542', 'CreationDate': \"D:20231208132838+09'00'\", 'ModDate': \"D:20231208132838+09'00'\", 'PDFVersion': '1.4'}, page_content='1. 정책/법제 2. 기업/산업 3. 기술/연구 4. 인력/교육\\n영국 AI 안전성 정상회의에 참가한 28개국, AI 위험에 공동 대응 선언\\nKEY Contents\\nn 영국 블레츨리 파크에서 개최된 AI 안전성 정상회의에 참가한 28개국들이 AI 안전 보장을\\n위한 협력 방안을 담은 블레츨리 선언을 발표\\nn 첨단 AI를 개발하는 국가와 기업들은 AI 시스템에 대한 안전 테스트 계획에 합의했으며,\\n영국의 AI 안전 연구소가 전 세계 국가와 협력해 테스트를 주도할 예정\\n£AI 안전성 정상회의 참가국들, 블레츨리 선언 통해 AI 안전 보장을 위한 협력에 합의\\nn 2023년 11월 1~2일 영국 블레츨리 파크에서 열린 AI 안전성 정상회의(AI Safety Summit)에\\n참가한 28개국 대표들이 AI 위험 관리를 위한 ‘블레츨리 선언’을 발표\\n∙ 선언은 AI 안전 보장을 위해 국가, 국제기구, 기업, 시민사회, 학계를 포함한 모든 이해관계자의 협력이\\n중요하다고 강조했으며, 특히 최첨단 AI 시스템 개발 기업은 안전 평가를 비롯한 적절한 조치를 취하여\\nAI 시스템의 안전을 보장할 책임이 있다고 지적\\n∙ 각국은 AI 안전 보장을 위해 첨단 AI 개발기업의 투명성 향상, 적절한 평가지표와 안전 테스트 도구\\n개발, 공공부문 역량 구축과 과학 연구개발 등의 분야에서 협력하기로 합의\\n£영국 총리, 정부 주도의 첨단 AI 시스템 안전 테스트 계획 발표\\nn 리시 수낙 영국 총리는 AI 안전성 정상회의를 마무리하며 첨단 AI 모델에 대한 안전성 시험 계획\\n수립과 테스트 수행을 주도할 영국 AI 안전 연구소의 출범을 발표\\n∙ 첨단 AI 모델의 안전 테스트는 국가 안보와 안전, 사회적 피해를 포함한 여러 잠재적 유해 기능에 대한\\n시험을 포함하며, 참석자들은 정부 주도의 외부 안전 테스트에 합의\\n∙ 각국 정부는 테스트와 기타 안전 연구를 위한 공공부문 역량에 투자하고, 테스트 결과가 다른 국가와\\n관련된 경우 해당 국가와 결과를 공유하며, 적절한 시기에 공동 표준 개발을 위해 노력하기로 합의\\nn 참가국들은 튜링상을 수상한 AI 학자인 요슈아 벤지오 교수가 주도하는 ‘과학의 현황(State of\\nthe Science)’ 보고서 작성에도 합의했으며, 보고서를 통해 첨단 AI의 위험과 가능성에 관한\\n기존 연구를 과학적으로 평가하고 향후 AI 안전 연구를 위한 우선순위를 제시할 계획\\nn 한국은 영국 정부와 6개월 뒤에 온라인으로 AI 미니 정상회의를 공동 개최하기로 합의했으며,\\n프랑스 정부와는 1년 후 대면 정상회의를 개최할 예정\\n☞ 출처: Gov.uk, The Bletchley Declaration by Countries Attending the AI Safety Summit, 1-2 November 2023, 2023.11.01.\\nGov.uk, World leaders, top AI companies set out plan for safety testing of frontier as first global AI Safety Summit\\nconcludes, 2023.11.02.\\n'),\n",
       " Document(metadata={'source': 'data/SPRI_AI_Brief_2023년12월호_F.pdf', 'file_path': 'data/SPRI_AI_Brief_2023년12월호_F.pdf', 'page': 6, 'total_pages': 23, 'Author': 'dj', 'Creator': 'Hwp 2018 10.0.0.13462', 'Producer': 'Hancom PDF 1.3.0.542', 'CreationDate': \"D:20231208132838+09'00'\", 'ModDate': \"D:20231208132838+09'00'\", 'PDFVersion': '1.4'}, page_content='SPRi AI Brief |\\n2023-12월호\\n미국 법원, 예술가들이 생성 AI 기업에 제기한 저작권 소송 기각\\nKEY Contents\\nn 미국 캘리포니아 북부지방법원은 미드저니, 스태빌리티AI, 디비언트아트를 대상으로 예술가\\n3인이 제기한 저작권 침해 소송을 기각\\nn 법원은 기각 이유로 고소장에 제시된 상당수 작품이 저작권청에 등록되지 않았으며, AI로\\n생성된 이미지와 특정 작품 간 유사성을 입증하기 어렵다는 점을 제시\\n£예술가들의 AI 저작권 침해 소송, 저작권 미등록과 증거불충분으로 기각\\nn 미국 캘리포니아 북부지방법원의 윌리엄 오릭(William Orrick) 판사는 2023년 10월 30일 미드저니\\n(Midjourney), 스태빌리티AI(Stability AI), 디비언트아트(DeviantArt)에 제기된 저작권 침해 소송을 기각\\n∙ 2023년 1월 예술가 사라 앤더슨(Sarah Anderson), 캘리 맥커넌(Kelly McKernan), 칼라\\n오르티즈(Karla Ortiz)는 이미지 생성 AI 서비스를 개발한 3개 기업을 상대로 저작권 침해 소송을 제기\\n∙ 예술가들은 3개 기업이 AI 모델을 학습시키기 위해 원작자 동의 없이 작품을 학습 데이터셋에\\n포함하여 저작권을 침해했다고 주장했으며, 법원은 지난 4월 피소 기업들이 제출한 기각 신청을\\n수용해 소송을 기각\\nn 오릭 판사는 판결문에서 소송을 기각한 핵심 이유로 예술가들의 저작권 미등록을 제시\\n∙ 판결문은 소송을 제기한 캘리 맥커넌과 칼라 오르티즈가 미국 저작권청에 예술 작품에 대한 저작권을\\n제출하지 않았다는 점을 지적했으며, 사라 앤더슨은 고소장에 인용된 수백 개의 작품 중 16개 작품에\\n대해서만 저작권을 보유\\nn 판결문은 또한 생성 AI 모델 훈련에 사용된 모든 이미지에 저작권이 있다거나, 생성 AI로 만든\\n이미지가 저작물을 이용해 훈련되었으므로 저작물의 파생 이미지라는 주장은 개연성이 부족하다고\\n지적\\n∙ AI는 새로운 이미지를 생성할 때 다양한 예술가의 작품을 참조하므로, 생성된 이미지와 저작권을 가진\\n특정 작품과의 실질적 유사성을 입증할 수 없다면 저작권 침해를 인정받기 어려움\\nn 오릭 판사는 원고 측에 고소장을 수정하고 저작권이 침해된 특정 이미지를 중심으로 소송 범위를\\n줄여 소송을 다시 제기할 것을 요청\\n∙ 단, 사라 앤더슨이 저작권을 보유한 16개 작품을 무단으로 복제한 스태빌리티AI에 대한 저작권 침해\\n소송은 인정되어 계속 진행됨\\n☞ 출처: Venturebeat, Midjourney, Stability AI and DeviantArt win a victory in copyright case by artists- but the\\nfight continues, 2023.10.30.\\n4\\n'),\n",
       " Document(metadata={'source': 'data/SPRI_AI_Brief_2023년12월호_F.pdf', 'file_path': 'data/SPRI_AI_Brief_2023년12월호_F.pdf', 'page': 7, 'total_pages': 23, 'Author': 'dj', 'Creator': 'Hwp 2018 10.0.0.13462', 'Producer': 'Hancom PDF 1.3.0.542', 'CreationDate': \"D:20231208132838+09'00'\", 'ModDate': \"D:20231208132838+09'00'\", 'PDFVersion': '1.4'}, page_content='1. 정책/법제 2. 기업/산업 3. 기술/연구 4. 인력/교육\\n미국 연방거래위원회, 저작권청에 소비자 보호와 경쟁 측면의 AI 의견서 제출\\nKEY Contents\\nn 미국 FTC는 저작권청이 실시한 저작권과 AI 관련 질의공고에 대하여 소비자 보호와 경쟁\\n측면의 의견을 제시\\nn FTC는 생성 AI로 인한 창작자와 소비자 피해의 가능성에 우려를 표시하는 한편, 일부\\n빅테크가 막대한 재원을 활용해 시장 지배력을 더욱 강화할 수 있다는 우려를 제기\\n£FTC, 생성 AI로 인한 소비자와 창작자의 피해 및 빅테크의 시장 지배력 강화 우려\\nn 미국 연방거래위원회(FTC)가 2023년 10월 30일 저작권청(U.S. Copyright Office, USCO)이\\n지난 9월 발표한 저작권과 AI 관련 질의공고(Notice of Inquiry, NOI)에 대한 의견서를 발표\\n∙ 저작권청은 생성 AI와 관련된 저작권법과 정책 이슈를 조사하고 있으며, 폭넓은 의견 수렴을 통해\\n입법과 규제 조치의 필요성을 검토할 계획\\n∙ FTC는 생성 AI의 개발과 배포가 소비자, 근로자, 중소기업에 피해를 줄 수 있다며 소비자의 개인정보\\n침해, 차별과 편견의 자동화, 사기 범죄 등 AI 사용과 관련된 위험에 주목\\nn FTC는 저작권법에 따른 권리와 책임 범위를 넘어서는 저작권 문제에 주목하여 생성 AI로 인해\\n창작자의 경쟁력이 불공정한 피해를 볼 수 있으며, 소비자가 특정 창작자의 작품을 생성 AI가\\n만들었다고 오해할 소지가 있다고 지적\\n∙ 저작권법에 저촉되는 행위는 불공정 경쟁이나 기만행위에도 해당될 수 있으며, 창작자의 평판 악화,\\n저작물의 가치 저하나 개인정보 유출로 소비자에 상당한 피해를 초래 가능\\nn FTC는 일부 빅테크가 막대한 재원을 활용해 생성 AI 사용자의 이탈을 막고 저작권이 있는 상용\\n데이터에 대한 독점 라이선스를 확보해 시장 지배력을 더욱 강화할 수 있다는 우려도 제기\\n∙ 이와 관련 FTC는 아마존 AI 비서 ‘알렉사(Alexa)’와 스마트홈 보안 기기 ‘링(Ring)’이 소비자의 사적\\n정보를 알고리즘 훈련에 사용하여 프라이버시를 침해한 혐의를 조사하는 등 법적 권한을 활용해 AI\\n관련 불법 행위에 대처하고 있음\\n* FTC는 2023년 5월 31일 동의를 받지 않고 어린이들의 음성과 위치 정보를 활용한 ‘알렉사’와 고객의 사적 영상에 대하여\\n직원에게 무제한 접근 권한을 부여한 ‘링’에 3,080만 달러(약 420억 원)의 과징금을 부과\\nn FTC는 빠르게 발전하는 생성 AI가 여러 산업과 비즈니스에 변화를 가져올 수 있지만, 현행법상\\nAI에 관한 예외 조항은 없다며, 모든 권한을 활용해 소비자를 보호하고 개방적이고 공정한 경쟁\\n시장을 유지하겠다고 강조\\n☞ 출처: FTC, In Comment Submitted to U.S. Copyright Office, FTC Raises AI-related Competition and\\nConsumer Protection Issues, Stressing That It Will Use Its Authority to Protect Competition and\\nConsumers in AI Markets, 2023.10.30.\\n'),\n",
       " Document(metadata={'source': 'data/SPRI_AI_Brief_2023년12월호_F.pdf', 'file_path': 'data/SPRI_AI_Brief_2023년12월호_F.pdf', 'page': 8, 'total_pages': 23, 'Author': 'dj', 'Creator': 'Hwp 2018 10.0.0.13462', 'Producer': 'Hancom PDF 1.3.0.542', 'CreationDate': \"D:20231208132838+09'00'\", 'ModDate': \"D:20231208132838+09'00'\", 'PDFVersion': '1.4'}, page_content='SPRi AI Brief |\\n2023-12월호\\nEU AI 법 3자 협상, 기반모델 규제 관련 견해차로 난항\\nKEY Contents\\nn 유럽의회, EU 집행위원회, EU 이사회가 진행 중인 AI 법 최종협상에서 프랑스, 이탈리아,\\n독일이 기반모델에 대한 규제에 반대하며 협상이 난관에 봉착\\nn 프랑스, 이탈리아, 독일 3개국은 기반모델 개발기업에 대하여 자율적 행동강령을 도입하고\\n준수를 의무화하는 방안을 제안\\n£AI 법 3자 협상, 이사회 일부 국가가 기반모델 규제에 반대하며 차질\\nn 유럽의회, EU 집행위원회, EU 이사회가 ‘AI 법(AI act)’에 대한 최종협상을 진행 중인 가운데,\\n일부 국가가 기반모델에 대한 규제에 반대하며 협상이 난관에 봉착\\n∙ 10월 24일 열린 3자 협상 회의에서는 사회에 더 큰 영향을 미치는 강력한 AI 모델에 더 엄격한 규칙을\\n적용하는 계층적 접근방식에 따라 기반 모델 규제에 대한 기본적인 합의에 도달\\n∙ 그러나 11월 10일 열린 통신작업반 회의에서 EU 이사회의 프랑스, 독일, 이탈리아 대표가\\n기반모델에 대한 모든 유형의 규제에 반대하며 협상이 중단됨\\nn 유럽 정책 미디어 유랙티브(Euractive)에 따르면 프랑스 AI 기업 미스트랄(Mistral)이 로비를 통해\\n기반모델에 대한 규제 반대를 주도\\n∙ 독일의 대표적인 AI 기업 알레프 알파(Aleph Alpha) 역시 독일 정부에 압력을 행사하고 있으며, 이들\\n기업은 EU의 AI 규제로 인해 미국과 중국의 경쟁사보다 뒤처질 것을 우려\\n£독일, 프랑스, 이탈리아 3개국, 기반모델에 대한 ‘의무적 자율규제’ 제안\\nn 통신작업반 회의가 결렬된 이후 독일, 프랑스, 이탈리아는 2023년 11월 19일 비공식 문서를 통해\\n‘의무적 자율규제(Mandatory Self-regulation)’ 방식의 기반모델 규제를 제안\\n∙ 3개국은 기반모델 전반에 대한 규제가 기술 중립적이고 위험 기반의 AI 규제 원칙에 어긋난다고\\n주장하며 기반모델 전반에 대한 규제가 아닌, 특정 용도로 사용될 수 있는 AI 시스템에 대한 규제를 요구\\n∙ 3개국은 자발적인 행동강령을 도입하고 준수를 의무화하는 방안을 제안하며, 기반모델 개발기업에\\n머신러닝 기술 정보와 모델의 기능과 한계를 요약한 ‘모델 카드’ 작성을 요구하겠다고 설명\\n∙ 3개국은 AI 감독기관이 모델 카드를 토대로 기반모델 개발기업의 행동강령 준수 여부를 확인하되,\\n위반 시 곧바로 제재를 가하지 않고 위반행위 분석과 영향 평가를 시행한 후 제재하는 방안을 제안\\n☞ 출처: Euractiv, EU’s AI Act negotiations hit the brakes over foundation models, 2023.11.1.\\nEuractiv, France, Germany, Italy push for ‘mandatory self-regulation’ for foundation models in EU’s AI law, 2023.11.19.\\n6\\n'),\n",
       " Document(metadata={'source': 'data/SPRI_AI_Brief_2023년12월호_F.pdf', 'file_path': 'data/SPRI_AI_Brief_2023년12월호_F.pdf', 'page': 9, 'total_pages': 23, 'Author': 'dj', 'Creator': 'Hwp 2018 10.0.0.13462', 'Producer': 'Hancom PDF 1.3.0.542', 'CreationDate': \"D:20231208132838+09'00'\", 'ModDate': \"D:20231208132838+09'00'\", 'PDFVersion': '1.4'}, page_content='1. 정책/법제 2. 기업/산업 3. 기술/연구 4. 인력/교육\\n미국 프런티어 모델 포럼, 1,000만 달러 규모의 AI 안전 기금 조성\\nKEY Contents\\nn 구글, 앤스로픽, 마이크로소프트, 오픈AI가 참여하는 프런티어 모델 포럼이 자선단체와 함께 AI\\n안전 연구를 위한 1,000만 달러 규모의 AI 안전 기금을 조성\\nn 프런티어 모델 포럼은 AI 모델의 취약점을 발견하고 검증하는 레드팀 활동을 지원하기 위한\\n모델 평가 기법 개발에 자금을 중점 지원할 계획\\n£프런티어 모델 포럼, 자선단체와 함께 AI 안전 연구를 위한 기금 조성\\nn 구글, 앤스로픽, 마이크로소프트, 오픈AI가 출범한 프런티어 모델 포럼이 2023년 10월 25일 AI 안전\\n연구를 위한 기금을 조성한다고 발표\\n∙ 참여사들은 맥거번 재단(Patrick J. McGovern Foundation), 데이비드 앤 루실 패커드 재단(The\\nDavid and Lucile Packard Foundation) 등의 자선단체와 함께 AI 안전 연구를 위한 기금에\\n1,000만 달러 이상을 기부\\n∙ 또한 신기술의 거버넌스와 안전 분야에서 전문성을 갖춘 브루킹스 연구소 출신의 크리스 메서롤(Chris\\nMeserole)을 포럼의 상무이사로 임명\\nn 최근 AI 기술이 급속히 발전하면서 AI 안전에 관한 연구가 부족한 시점에, 포럼은 이러한 격차를 해소\\n하기 위해 AI 안전 기금을 조성\\n∙ 참여사들은 지난 7월 백악관 주재의 AI 안전 서약에서 외부자의 AI 시스템 취약점 발견과 신고를\\n촉진하기로 약속했으며, 약속을 이행하기 위해 기금을 활용해 외부 연구집단의 AI 시스템 평가에\\n자금을 지원할 계획\\n£AI 안전 기금으로 AI 레드팀을 위한 모델 평가 기법 개발을 중점 지원할 계획\\nn 프런티어 모델 포럼은 AI 안전 기금을 통해 AI 레드팀 활동을 위한 새로운 모델 평가 기법의 개발을\\n중점 지원할 예정\\n∙ 포럼에 따르면 AI 레드팀에 대한 자금 지원은 AI 모델의 안전과 보안 기준의 개선과 함께 AI 시스템\\n위험 대응 방안에 관한 산업계와 정부, 시민사회의 통찰력 확보에 도움이 될 전망으로, 포럼은 향후 몇\\n달 안에 기금 지원을 위한 제안 요청을 받을 계획\\nn 프런티어 모델 포럼은 출범 이후 업계 전반에 걸쳐 AI 레드팀 구성에 관한 모범사례 공유를 추진하는\\n한편, 첨단 AI 모델의 취약점이나 잠재적으로 위험한 기능 및 위험 완화 관련 정보를 공유할 수\\n있는 공개 절차도 개발 중\\n☞ 출처: Google, Anthropic, Google, Microsoft and OpenAI announce Executive Director of the Frontier Model\\nForum and over $10 million for a new AI Safety Fund, 2023.10.25.\\n'),\n",
       " Document(metadata={'source': 'data/SPRI_AI_Brief_2023년12월호_F.pdf', 'file_path': 'data/SPRI_AI_Brief_2023년12월호_F.pdf', 'page': 10, 'total_pages': 23, 'Author': 'dj', 'Creator': 'Hwp 2018 10.0.0.13462', 'Producer': 'Hancom PDF 1.3.0.542', 'CreationDate': \"D:20231208132838+09'00'\", 'ModDate': \"D:20231208132838+09'00'\", 'PDFVersion': '1.4'}, page_content='SPRi AI Brief |\\n2023-12월호\\n코히어, 데이터 투명성 확보를 위한 데이터 출처 탐색기 공개\\nKEY Contents\\nn 코히어와 12개 기관이 광범위한 데이터셋에 대한 감사를 통해 원본 데이터 출처, 재라이선스 상태,\\n작성자 등 다양한 정보를 제공하는 ‘데이터 출처 탐색기’ 플랫폼을 출시\\nn 대화형 플랫폼을 통해 개발자는 데이터셋의 라이선스 상태를 쉽게 파악할 수 있으며 데이터셋의\\n구성과 계보도 추적 가능\\n£데이터 출처 탐색기, 광범위한 데이터셋 정보 제공을 통해 데이터 투명성 향상\\nn AI 기업 코히어(Cohere)가 매사추세츠 공과⼤(MIT), 하버드⼤ 로스쿨, 카네기멜론⼤ 등 12개 기관과\\n함께 2023년 10월 25일 ‘데이터 출처 탐색기(Data Provenance Explorer)’ 플랫폼을 공개\\n∙ AI 모델 훈련에 사용되는 데이터셋의 불분명한 출처로 인해 데이터 투명성이 확보되지 않아 다양한\\n법적·윤리적 문제가 발생\\n∙ 이에 연구진은 가장 널리 사용되는 2,000여 개의 미세조정 데이터셋을 감사 및 추적하여 데이터셋에\\n원본 데이터소스에 대한 태그, 재라이선스(Relicensing) 상태, 작성자, 기타 데이터 속성을 지정하고\\n이러한 정보에 접근할 수 있는 플랫폼을 출시\\n∙ 대화형 플랫폼 형태의 데이터 출처 탐색기를 통해 데이터셋의 라이선스 상태를 쉽게 파악할 수 있으며,\\n주요 데이터셋의 구성과 데이터 계보도 추적 가능\\nn 연구진은 오픈소스 데이터셋에 대한 광범위한 감사를 통해 데이터 투명성에 영향을 미치는 주요\\n요인을 발견\\n∙ 깃허브(GitHub), 페이퍼위드코드(Papers with Code)와 같은 크라우드소싱 플랫폼에서 수집한\\n데이터로 훈련된 오픈소스 LLM에서는 데이터 라이선스의 누락 비율이 72~83%에 달함\\n∙ 또한 크라우드소싱 플랫폼이 할당한 라이선스는 데이터셋 원저작자의 의도보다 더 광범위한 사용을\\n허용한 경우가 상당수\\n∙ 데이터 생태계 분석 결과, 부정확하거나 모호한 라이선스 문서화 등 데이터 출처 입증과 관련된 관행\\n전반에서 구조적 문제가 드러남\\nn 연구진은 데이터 출처 탐색기만으로는 해결이 어려운 법적 이슈도 존재한다며 일관된 법적 프레임\\n워크의 필요성을 제기\\n∙ 일례로 데이터를 수집한 지역, 모델 훈련 지역, 모델 배포 지역마다 규제가 다르면 어떤 법률을\\n적용해야 하는지 실무자의 판단이 어려울 수 있으며, 서로 다른 라이선스를 적용받는 개별 데이터셋을\\n하나로 통합해 사용하는 경우에도 각각의 라이선스 조건 준수에 어려움이 발생\\n☞ 출처 : Cohere, Data Provenance Explorer Launches to Tackle Data Transparency Crisis, 2023.10.25.\\n8\\n'),\n",
       " Document(metadata={'source': 'data/SPRI_AI_Brief_2023년12월호_F.pdf', 'file_path': 'data/SPRI_AI_Brief_2023년12월호_F.pdf', 'page': 11, 'total_pages': 23, 'Author': 'dj', 'Creator': 'Hwp 2018 10.0.0.13462', 'Producer': 'Hancom PDF 1.3.0.542', 'CreationDate': \"D:20231208132838+09'00'\", 'ModDate': \"D:20231208132838+09'00'\", 'PDFVersion': '1.4'}, page_content='1. 정책/법제 2. 기업/산업 3. 기술/연구 4. 인력/교육\\n알리바바 클라우드, 최신 LLM ‘통이치엔원 2.0’ 공개\\nKEY Contents\\nn 알리바바 클라우드가 복잡한 지침 이해, 광고문구 작성, 추론, 암기 등에서 성능이 향상된 최신\\nLLM ‘통이치엔원 2.0’을 공개\\nn 알리바바 클라우드는 산업별로 특화된 생성 AI 모델을 공개하는 한편, 모델 개발과 애플리케이션\\n구축 절차를 간소화하는 올인원 AI 모델 구축 플랫폼도 출시\\n£알리바바의 통이치엔원 2.0, 주요 벤치마크 테스트에서 여타 LLM 능가\\nn 중국의 알리바바 클라우드가 2023년 10월 31일 열린 연례 기술 컨퍼런스에서 최신 LLM ‘통이\\n치엔원(Tongyi Qianwen) 2.0’을 공개\\n∙ 알리바바 클라우드는 통이치엔원 2.0이 2023년 4월 출시된 1.0 버전보다 복잡한 지침 이해,\\n광고문구 작성, 추론, 암기 등에서 성능이 향상되었다고 설명\\n∙ 통이치엔원 2.0은 언어 이해 테스트(MMLU), 수학(GSM8k), 질문 답변(ARC-C)과 같은 벤치마크\\n테스트에서 라마(Llama-2-70B)와 GPT-3.5를 비롯한 주요 AI 모델을 능가\\n∙ 통이치엔원 2.0은 알리바바 클라우드의 웹사이트와 모바일 앱을 통해 대중에 제공되며 개발자는\\nAPI를 통해 사용 가능\\nn 알리바바 클라우드는 여러 산업 영역에서 생성 AI를 활용해 사업 성과를 개선할 수 있도록 지원\\n하는 산업별 모델도 출시\\n∙ 산업 영역은 고객지원, 법률 상담, 의료, 금융, 문서관리, 오디오와 동영상 관리, 코드 개발, 캐릭터\\n제작을 포함\\nn 알리바바 클라우드는 급증하는 생성 AI 수요에 대응해 모델 개발과 애플리케이션 구축 절차를\\n간소화하는 올인원 AI 모델 구축 플랫폼 ‘젠AI(GenAI)’도 공개\\n∙ 이 플랫폼은 데이터 관리, 모델 배포와 평가, 신속한 엔지니어링을 위한 종합 도구 모음을 제공하여\\n다양한 기업들이 맞춤형 AI 모델을 한층 쉽게 개발할 수 있도록 지원\\n∙ 생성 AI 개발에 필요한 컴퓨팅과 데이터 처리 요구사항을 지원하기 위해 AI 플랫폼(PAI),\\n데이터베이스 솔루션, 컨테이너 서비스와 같은 클라우드 신제품도 발표\\nn 알리바바 클라우드는 AI 개발을 촉진하기 위해 올해 말까지 720억 개 매개변수를 가진 통이치엔원\\n모델을 오픈소스화한다는 계획도 공개\\n☞ 출처 : Alibaba Cloud, Alibaba Cloud Launches Tongyi Qianwen 2.0 and Industry-specific Models to Support\\nCustomers Reap Benefits of Generative AI, 2023.10.31.\\n'),\n",
       " Document(metadata={'source': 'data/SPRI_AI_Brief_2023년12월호_F.pdf', 'file_path': 'data/SPRI_AI_Brief_2023년12월호_F.pdf', 'page': 12, 'total_pages': 23, 'Author': 'dj', 'Creator': 'Hwp 2018 10.0.0.13462', 'Producer': 'Hancom PDF 1.3.0.542', 'CreationDate': \"D:20231208132838+09'00'\", 'ModDate': \"D:20231208132838+09'00'\", 'PDFVersion': '1.4'}, page_content='SPRi AI Brief |\\n2023-12월호\\n삼성전자, 자체 개발 생성 AI ‘삼성 가우스’ 공개\\nKEY Contents\\nn 삼성전자가 온디바이스에서 작동 가능하며 언어, 코드, 이미지의 3개 모델로 구성된 자체 개발 생성\\nAI 모델 ‘삼성 가우스’를 공개\\nn 삼성전자는 삼성 가우스를 다양한 제품에 단계적으로 탑재할 계획으로, 온디바이스 작동이 가능한\\n삼성 가우스는 외부로 사용자 정보가 유출될 위험이 없다는 장점을 보유\\n£언어, 코드, 이미지의 3개 모델로 구성된 삼성 가우스, 온디바이스 작동 지원\\nn 삼성전자가 2023년 11월 8일 열린 ‘삼성 AI 포럼 2023’ 행사에서 자체 개발한 생성 AI 모델\\n‘삼성 가우스’를 최초 공개\\n∙ 정규분포 이론을 정립한 천재 수학자 가우스(Gauss)의 이름을 본뜬 삼성 가우스는 다양한 상황에\\n최적화된 크기의 모델 선택이 가능\\n∙ 삼성 가우스는 라이선스나 개인정보를 침해하지 않는 안전한 데이터를 통해 학습되었으며,\\n온디바이스에서 작동하도록 설계되어 외부로 사용자의 정보가 유출되지 않는 장점을 보유\\n∙ 삼성전자는 삼성 가우스를 활용한 온디바이스 AI 기술도 소개했으며, 생성 AI 모델을 다양한 제품에\\n단계적으로 탑재할 계획\\nn 삼성 가우스는 △텍스트를 생성하는 언어모델 △코드를 생성하는 코드 모델 △이미지를 생성하는\\n이미지 모델의 3개 모델로 구성\\n∙ 언어 모델은 클라우드와 온디바이스 대상 다양한 모델로 구성되며, 메일 작성, 문서 요약, 번역 업무의\\n처리를 지원\\n∙ 코드 모델 기반의 AI 코딩 어시스턴트 ‘코드아이(code.i)’는 대화형 인터페이스로 서비스를 제공하며\\n사내 소프트웨어 개발에 최적화\\n∙ 이미지 모델은 창의적인 이미지를 생성하고 기존 이미지를 원하는 대로 바꿀 수 있도록 지원하며\\n저해상도 이미지의 고해상도 전환도 지원\\nn IT 전문지 테크리퍼블릭(TechRepublic)은 온디바이스 AI가 주요 기술 트렌드로 부상했다며,\\n2024년부터 가우스를 탑재한 삼성 스마트폰이 메타의 라마(Llama)2를 탑재한 퀄컴 기기 및 구글\\n어시스턴트를 적용한 구글 픽셀(Pixel)과 경쟁할 것으로 예상\\n☞ 출처 : 삼성전자, ‘삼성 AI 포럼’서 자체 개발 생성형 AI ‘삼성 가우스’ 공개, 2023.11.08.\\n삼성전자, ‘삼성 개발자 콘퍼런스 코리아 2023’ 개최, 2023.11.14.\\nTechRepublic, Samsung Gauss: Samsung Research Reveals Generative AI, 2023.11.08.\\n10\\n'),\n",
       " Document(metadata={'source': 'data/SPRI_AI_Brief_2023년12월호_F.pdf', 'file_path': 'data/SPRI_AI_Brief_2023년12월호_F.pdf', 'page': 13, 'total_pages': 23, 'Author': 'dj', 'Creator': 'Hwp 2018 10.0.0.13462', 'Producer': 'Hancom PDF 1.3.0.542', 'CreationDate': \"D:20231208132838+09'00'\", 'ModDate': \"D:20231208132838+09'00'\", 'PDFVersion': '1.4'}, page_content='1. 정책/법제 2. 기업/산업 3. 기술/연구 4. 인력/교육\\n구글, 앤스로픽에 20억 달러 투자로 생성 AI 협력 강화\\nKEY Contents\\nn 구글이 앤스로픽에 최대 20억 달러 투자에 합의하고 5억 달러를 우선 투자했으며, 앤스로픽은\\n구글과 클라우드 서비스 사용 계약도 체결\\nn 3대 클라우드 사업자인 구글, 마이크로소프트, 아마존은 차세대 AI 모델의 대표 기업인\\n앤스로픽 및 오픈AI와 협력을 확대하는 추세\\n£구글, 앤스로픽에 최대 20억 달러 투자 합의 및 클라우드 서비스 제공\\nn 구글이 2023년 10월 27일 앤스로픽에 최대 20억 달러를 투자하기로 합의했으며, 이 중 5억\\n달러를 우선 투자하고 향후 15억 달러를 추가로 투자할 방침\\n∙ 구글은 2023년 2월 앤스로픽에 이미 5억 5,000만 달러를 투자한 바 있으며, 아마존도 지난 9월\\n앤스로픽에 최대 40억 달러의 투자 계획을 공개\\n∙ 한편, 2023년 11월 8일 블룸버그 보도에 따르면 앤스로픽은 구글의 클라우드 서비스 사용을 위해\\n4년간 30억 달러 규모의 계약을 체결\\n∙ 오픈AI 창업자 그룹의 일원이었던 다리오(Dario Amodei)와 다니엘라 아모데이(Daniela Amodei)\\n남매가 2021년 설립한 앤스로픽은 챗GPT의 대항마 ‘클로드(Claude)’ LLM을 개발\\nn 아마존과 구글의 앤스로픽 투자에 앞서, 마이크로소프트는 차세대 AI 모델의 대표 주자인 오픈\\nAI와 협력을 확대\\n∙ 마이크로소프트는 오픈AI에 앞서 투자한 30억 달러에 더해 2023년 1월 추가로 100억 달러를\\n투자하기로 하면서 오픈AI의 지분 49%를 확보했으며, 오픈AI는 마이크로소프트의 애저(Azure)\\n클라우드 플랫폼을 사용해 AI 모델을 훈련\\n£구글, 클라우드 경쟁력 강화를 위해 생성 AI 투자 확대\\nn 구글은 수익률이 높은 클라우드 컴퓨팅 시장에서 아마존과 마이크로소프트를 따라잡고자 생성 AI를\\n통한 기업 고객의 클라우드 지출 확대를 위해 AI 투자를 지속\\n∙ 구글은 앤스로픽 외에도 AI 동영상 제작 도구를 개발하는 런웨이(Runway)와 오픈소스 소프트웨어\\n기업 허깅 페이스(Hugging Face)에도 투자\\n∙ 구글은 챗GPT의 기반 기술과 직접 경쟁할 수 있는 차세대 LLM ‘제미니(Gemini)’를 포함한 자체 AI\\n시스템 개발에도 수십억 달러를 투자했으며, 2024년 제미니를 출시할 계획\\n☞ 출처 : The Wall Street Journal, Google Commits $2 Billion in Funding to AI Startup Anthropic, 2023.10.27.\\nBloomberg, AI Startup Anthropic to Use Google Chips in Expanded Partnership, 2023.11.09.\\n'),\n",
       " Document(metadata={'source': 'data/SPRI_AI_Brief_2023년12월호_F.pdf', 'file_path': 'data/SPRI_AI_Brief_2023년12월호_F.pdf', 'page': 14, 'total_pages': 23, 'Author': 'dj', 'Creator': 'Hwp 2018 10.0.0.13462', 'Producer': 'Hancom PDF 1.3.0.542', 'CreationDate': \"D:20231208132838+09'00'\", 'ModDate': \"D:20231208132838+09'00'\", 'PDFVersion': '1.4'}, page_content='SPRi AI Brief |\\n2023-12월호\\nIDC, 2027년 AI 소프트웨어 매출 2,500억 달러 돌파 전망\\nKEY Contents\\nn IDC의 예측에 의하면 AI 소프트웨어 시장은 2027년 2,510억 달러로 달할 전망이며, 생성\\nAI 플랫폼과 애플리케이션은 2027년까지 283억 달러의 매출을 창출할 전망\\nn 2023년 기준 AI 소프트웨어 매출의 3분의 1을 차지하는 최대 시장인 AI 애플리케이션은\\n2027년까지 21.1%의 연평균 성장률을 기록할 전망\\n£기업들의 AI 투자 증가에 힘입어 AI 소프트웨어 시장 급성장 예상\\nn 시장조사기관 IDC는 AI 소프트웨어 시장이 2022년 640억 달러에서 2027년 2,510억 달러로 연평\\n균 성장률 31.4%를 기록하며 급성장할 것으로 예상\\n∙ AI 소프트웨어 시장은 AI 플랫폼, AI 애플리케이션, AI 시스템 인프라 소프트웨어(SIS), AI 애플리케이션\\n개발·배포(AI AD&D) 소프트웨어를 포괄\\n∙ 협업, 콘텐츠 관리, 전사적 자원관리(ERM), 공급망 관리, 생산 및 운영, 엔지니어링, 고객관계관리(CRM)를\\n포함하는 AI 애플리케이션은 AI 소프트웨어의 최대 시장으로 2023년 전체 매출의 약 3분의 1을 차지하며\\n2027년까지 21.1%의 연평균 성장률을 기록할 전망\\n∙ AI 비서를 포함한 AI 모델과 애플리케이션의 개발을 뒷받침하는 AI 플랫폼은 두 번째로 시장 규모가 큰\\n분야로, 2027년까지 35.8%의 연평균 성장률이 예상됨\\n∙ 분석, 비즈니스 인텔리전스, 데이터 관리와 통합을 포함하는 AI SIS는 기존 소프트웨어 시스템과 통합되어\\n방대한 데이터를 활용한 의사결정과 운영 최적화를 지원하며, 현재 매출 규모는 비교적 작지만 5년간\\n연평균 성장률은 32.6%로 시장 전체를 웃돌 전망\\n∙ 애플리케이션 개발, 소프트웨어 품질과 수명주기 관리 소프트웨어, 애플리케이션 플랫폼을 포함하는 AI\\nAD&D는 향후 5년간 카테고리 중 가장 높은 38.7%의 연평균 성장률이 예상됨\\nn IDC에 따르면 경제적 불확실성과 시장 역학의 변화에도 AI와 자동화 기술에 대한 기업들의 투자\\n의지는 확고하며, 기업들은 AI 도입이 사업 성공과 경쟁우위에 필수적이라고 인식\\n∙ IDC 설문조사에 따르면 향후 12개월 동안 응답자의 3분의 1은 기업이 특정 사용 사례나 응용 영역에서\\n외부 AI 소프트웨어의 구매를 고려하거나 외부 AI 소프트웨어와 내부 자원의 결합을 고려\\nn 한편, AI 소프트웨어 시장에 포함되지 않는 생성 AI 플랫폼과 애플리케이션은 2027년까지 283억\\n달러의 매출을 창출할 전망\\n☞ 출처 : IDC, IDC Forecasts Revenue for Artificial Intelligence Software Will Reach $279 Billion Worldwide in\\n2027, 2023.10.31.\\n12\\n'),\n",
       " Document(metadata={'source': 'data/SPRI_AI_Brief_2023년12월호_F.pdf', 'file_path': 'data/SPRI_AI_Brief_2023년12월호_F.pdf', 'page': 15, 'total_pages': 23, 'Author': 'dj', 'Creator': 'Hwp 2018 10.0.0.13462', 'Producer': 'Hancom PDF 1.3.0.542', 'CreationDate': \"D:20231208132838+09'00'\", 'ModDate': \"D:20231208132838+09'00'\", 'PDFVersion': '1.4'}, page_content='1. 정책/법제 2. 기업/산업 3. 기술/연구 4. 인력/교육\\n빌 게이츠, AI 에이전트로 인한 컴퓨터 사용의 패러다임 변화 전망\\nKEY Contents\\nn 빌 게이츠가 5년 내 일상언어로 모든 작업을 처리할 수 있는 AI 에이전트가 보급되며 컴퓨터를\\n사용하는 방식이 완전히 바뀔 것으로 예상\\nn 에이전트의 보급은 컴퓨터 분야를 넘어 산업 전 영역에 영향을 미칠 전망으로 특히 의료와\\n교육, 생산성, 엔터테인먼트·쇼핑 영역에서 고가로 제공되던 서비스가 대중화될 전망\\n£5년 내 기기에 일상언어로 말하기만 하면 되는 AI 에이전트의 보급 예상\\nn 빌 게이츠 마이크로소프트 창업자가 2023년 11월 9일 공식 블로그를 통해 AI 에이전트가 컴퓨터\\n사용방식과 소프트웨어 산업을 완전히 변화시킬 것이라는 전망을 제시\\n∙ 자연어에 반응하고 사용자에 대한 지식을 바탕으로 다양한 작업을 수행하는 소프트웨어를 의미하는\\n에이전트는 컴퓨터 사용방식이 키보드 입력에서 아이콘 클릭으로 바뀐 이후 최대의 컴퓨팅 혁명을\\n가져올 전망\\n∙ 현재는 컴퓨터 작업 시 작업 내용에 따라 각각 다른 앱을 사용해야 하지만 5년 내 에이전트의 발전으로\\n기기에 일상언어로 말하기만 하면 되는 미래가 도래할 것\\n∙ 온라인에 접속하는 모든 사람이 AI 기반의 개인 비서를 사용할 수 있게 되며, 에이전트는 사용자에 대한\\n풍부한 지식을 바탕으로 맞춤화된 대응이 가능하며 시간이 지날수록 개선됨\\n∙ 일례로 여행 계획 수립 시 AI 챗봇이 예산에 맞는 호텔을 제안하는데 머문다면, 에이전트는 사용자의 여행\\n패턴을 분석해 여행지를 제안하고 관심사에 따른 활동을 추천하며 선호하는 스타일의 레스토랑 예약도 가능\\n£AI 에이전트가 의료와 교육, 생산성, 엔터테인먼트·쇼핑 영역의 서비스 대중화를 주도할 것\\nn 에이전트로 인해 주목할 만한 변화는 고비용 서비스의 대중화로 특히 △의료 △교육 △생산성 △\\n엔터테인먼트·쇼핑의 4개 영역에서 대규모 변화 예상\\n∙ (의료) 에이전트가 환자 분류를 지원하고 건강 문제에 대한 조언을 제공하며 치료의 필요 여부를 결정하면서\\n의료진의 의사결정과 생산성 향상에 기여\\n∙ (교육) 에이전트가 1대 1 가정교사의 역할을 맡아 모든 학생에게 평등한 교육 기회를 제공할 수 있으며,\\n아이가 좋아하는 게임이나 노래 등을 활용해 시청각 기반의 풍부한 맞춤형 교육 경험을 제공\\n∙ (생산성) 사용자의 아이디어를 기반으로 에이전트가 사업계획과 발표 자료 작성, 제품 이미지 생성을\\n지원하며, 임원의 개인 비서와 같은 역할도 수행\\n∙ (엔터테인먼트·쇼핑) 쇼핑 시 에이전트가 모든 리뷰를 읽고 요약해 최적의 제품을 추천하고 사용자 대신\\n주문할 수 있으며 사용자의 관심사에 맞춤화된 뉴스와 엔터테인먼트를 구독 가능\\n☞ 출처 : GatesNotes, AI is about to completely change how you use computers, 2023.11.09.\\n'),\n",
       " Document(metadata={'source': 'data/SPRI_AI_Brief_2023년12월호_F.pdf', 'file_path': 'data/SPRI_AI_Brief_2023년12월호_F.pdf', 'page': 16, 'total_pages': 23, 'Author': 'dj', 'Creator': 'Hwp 2018 10.0.0.13462', 'Producer': 'Hancom PDF 1.3.0.542', 'CreationDate': \"D:20231208132838+09'00'\", 'ModDate': \"D:20231208132838+09'00'\", 'PDFVersion': '1.4'}, page_content='SPRi AI Brief |\\n2023-12월호\\n유튜브, 2024년부터 AI 생성 콘텐츠 표시 의무화\\nKEY Contents\\nn 유튜브가 몇 달 안에 생성 AI를 사용한 콘텐츠에 AI 라벨 표시를 의무화하기로 했으며, 이를\\n준수하지 않는 콘텐츠는 삭제하고 크리에이터에 대한 수익 배분도 중단할 수 있다고 설명\\nn 유튜브는 AI 생성 콘텐츠가 신원 파악이 가능한 개인을 모방한 경우 개인정보 침해 신고\\n절차에 따라 콘텐츠 삭제 요청도 받을 계획\\n£유튜브, 생성 AI 콘텐츠에 AI 라벨 표시 안 하면 콘텐츠 삭제\\nn 유튜브가 2023년 11월 14일 공식 블로그를 통해 몇 달 안에 생성 AI를 사용한 콘텐츠에 AI\\n라벨을 표시하는 새로운 규칙을 시행한다고 발표\\n∙ 실제로 일어나지 않은 사건을 사실적으로 묘사하거나 실제로 하지 않은 말이나 행동을 보여주는 콘텐츠와\\n같이 AI 도구를 사용해 사실적으로 변경되거나 합성된 콘텐츠에는 AI 라벨을 표시 필요\\n∙ 유튜브는 이러한 규칙이 선거나 분쟁 상황, 공중 보건, 공직자 관련 문제와 같이 민감한 주제를 다루는\\n콘텐츠에서 특히 중요하다고 강조했으며, 크리에이터가 AI로 제작한 콘텐츠에 AI 라벨을 표시하지 않으면\\n해당 콘텐츠는 삭제되고 광고 수익을 배분하는 유튜브 파트너 프로그램도 정지될 수 있음\\n∙ 유튜브는 두 가지 방식으로 AI를 이용한 콘텐츠의 변경이나 합성 여부를 시청자에게 전달할 계획으로\\n동영상 설명 패널에 라벨을 표시하는 방식이 기본이며, 민감한 주제를 다루는 특정 유형의 콘텐츠는 동영상\\n플레이어에 더욱 눈에 띄는 라벨을 적용\\n∙ 유튜브는 커뮤니티 정책에 위반되는 일부 합성 콘텐츠에 대해서는 라벨 지정 여부와 관계없이 삭제할\\n방침으로, 가령 사실적인 폭력을 보여주는 합성 동영상이 시청자에게 충격이나 혐오감을 줄 수 있다면\\n삭제될 수 있음\\n£유튜브, 특정인을 모방한 AI 생성 콘텐츠에 대한 삭제 요청에도 대응 계획\\nn 유튜브는 몇 달 내에 신원 파악이 가능한 개인의 얼굴이나 음성을 모방한 AI 생성 콘텐츠에 대하\\n여 개인정보 침해 신고 절차를 마련해 삭제 요청을 받을 계획\\n∙ 단, 모든 콘텐츠가 삭제 대상은 아니며 유튜브는 콘텐츠가 패러디나 풍자인지, 해당 영상에서 삭제 요청을\\n한 특정인을 식별할 수 있는지, 공직자나 유명인이 등장하는지 등 다양한 요소를 고려할 예정\\n∙ 유튜브는 음반사가 아티스트의 고유한 노래나 목소리를 모방한 AI 생성 음악에 대하여 삭제를 요청할 수\\n있는 기능도 도입할 방침\\n☞ 출처 : Youtube, Our approach to responsible AI innovation, 2023.11.14.\\n14\\n'),\n",
       " Document(metadata={'source': 'data/SPRI_AI_Brief_2023년12월호_F.pdf', 'file_path': 'data/SPRI_AI_Brief_2023년12월호_F.pdf', 'page': 17, 'total_pages': 23, 'Author': 'dj', 'Creator': 'Hwp 2018 10.0.0.13462', 'Producer': 'Hancom PDF 1.3.0.542', 'CreationDate': \"D:20231208132838+09'00'\", 'ModDate': \"D:20231208132838+09'00'\", 'PDFVersion': '1.4'}, page_content='1. 정책/법제 2. 기업/산업 3. 기술/연구 4. 인력/교육\\n영국 과학혁신기술부, AI 안전 연구소 설립 발표\\nKEY Contents\\nn 영국 과학혁신기술부가 첨단 AI 시스템에 대한 평가를 통해 안전성을 보장하기 위한 AI\\n안전 연구소를 설립한다고 발표\\nn AI 안전 연구소는 핵심 기능으로 첨단 AI 시스템 평가 개발과 시행, AI 안전 연구 촉진,\\n정보교류 활성화를 추진할 계획\\n£영국 AI 안전 연구소, 첨단 AI 시스템 평가와 AI 안전 연구, 정보 교류 추진\\nn 영국 과학혁신기술부가 2023년 11월 2일 첨단 AI 안전에 중점을 둔 국가 연구기관으로 AI\\n안전 연구소(AI Safety Institute)를 설립한다고 발표\\n∙ AI 안전 연구소는 첨단 AI의 위험을 이해하고 거버넌스 마련에 필요한 사회·기술적 인프라 개발을 통해\\n영국을 AI 안전 연구의 글로벌 허브로 확립하는 것을 목표로 함\\n∙ 영국 정부는 향후 10년간 연구소에 공공자금을 투자해 연구를 지원할 계획으로, 연구소는 △첨단 AI 시스템\\n평가 개발과 시행 △AI 안전 연구 촉진 △정보 교류 활성화를 핵심 기능으로 함\\nn (첨단 AI 시스템 평가 개발과 시행) 시스템의 안전 관련 속성을 중심으로 안전과 보안 기능을 이해\\n하고 사회적 영향을 평가\\n∙ 평가 우선순위는 △사이버범죄 조장, 허위 정보 유포 등 악의적으로 활용될 수 있는 기능 △사회에 미치는\\n영향 △시스템 안전과 보안 △인간의 통제력 상실 가능성 순\\n∙ 연구소는 외부 기관과 협력해 자체 시스템 평가를 개발 및 수행하고, 평가와 관련된 의견 공유 및 지침\\n마련을 위해 전문가 커뮤니티를 소집할 계획\\nn (AI 안전 연구 촉진) 외부 연구자를 소집하고 다양한 예비 연구 프로젝트를 통해 AI 안전 기초연구를 수행\\n∙ AI 시스템의 효과적 거버넌스를 위한 도구 개발* 및 안전한 AI 시스템 개발을 위한 새로운 접근 방식 연구를 수행\\n* 편향된 훈련 데이터에 대한 분석기술, 민감한 정보를 포함하는 AI 시스템에 대한 미세 조정 방법\\nn (정보 교류 활성화) 현행 개인정보보호와 데이터 규제 하에서 연구소와 정책입안자, 국제 파트너,\\n학계, 시민사회 및 일반 대중과 정보 공유 채널을 구축\\n∙ AI 안전성 정상회의(AI Safety Summit)에서 합의된 대로 첨단 AI 모델의 평가 후 해당 모델이 배포된\\n타국의 정부 및 연구소와 평가 결과를 공유하고, 학계와 대중이 AI 시스템의 피해와 취약점을 보고할 수\\n있는 명확한 절차를 수립\\n☞ 출처 : Gov.uk, Introducing the AI Safety Institute, 2023.11.02.\\nVenturebeat, Researchers turn to Harry Potter to make AI forget about copyrighted material, 2023.10.06.\\n'),\n",
       " Document(metadata={'source': 'data/SPRI_AI_Brief_2023년12월호_F.pdf', 'file_path': 'data/SPRI_AI_Brief_2023년12월호_F.pdf', 'page': 18, 'total_pages': 23, 'Author': 'dj', 'Creator': 'Hwp 2018 10.0.0.13462', 'Producer': 'Hancom PDF 1.3.0.542', 'CreationDate': \"D:20231208132838+09'00'\", 'ModDate': \"D:20231208132838+09'00'\", 'PDFVersion': '1.4'}, page_content='구글 딥마인드, 범용 AI 모델의 기능과 동작에 대한 분류 체계 발표\\nKEY Contents\\nn 구글 딥마인드 연구진이 성능과 범용성, 자율성을 기준으로 범용 AI(AGI)의 수준을\\n0~5단계까지 총 6단계로 구분한 프레임워크를 공개\\nn 현재 AGI는 단백질 구조를 예측하는 알파폴드와 같은 특정 용도에서는 5단계 수준을 달성했지만\\n광범위하게 활용될 수 있는 범용에서는 1단계 수준에 머물러 있음\\n£챗GPT와 구글 바드와 같은 AI 챗봇은 범용 AI 1단계 수준\\nn 구글 딥마인드 연구진은 2023년 11월 4일 범용 AI(Artificial General Intelligence, AGI) 모델을 용도와\\n성능에 따라 분류하는 프레임워크를 제시한 논문을 발표\\n∙ 프레임워크의 목적은 AGI의 성능, 범용성, 자율성 수준을 정의하여 모델 간 비교와 위험 평가, AGI\\n달성까지의 진행 상황을 측정할 수 있는 공통 기준을 제공하기 위함\\nn 연구진은 AGI 개념 정의에 필요한 기준을 수립하기 위한 6가지 원칙을 아래와 같이 도출\\n∙ (프로세스가 아닌 기능에 중점) AI가 어떻게 작동하는지보다 무엇을 할 수 있는지가 더 중요\\n∙ (범용성과 성능을 모두 평가) 진정한 AGI는 인간을 능가하는 폭넓은 범용성과 기술의 깊이를 모두 요구\\n∙ (인지와 메타인지 작업에 중점) 물리적 작업의 수행 능력은 AGI의 필수 전제조건이 아니며, 인지 작업과\\n메타인지 작업(예; 새로운 작업의 학습 능력, 인간에게 도움을 요청할 시점을 아는 능력)이 핵심\\n∙ (실제 구현보다 잠재력에 집중) 통제된 상황에서 발휘되는 성능에 따라 AGI를 규정하고 테스트를 진행\\n∙ (생태학적 타당도를 갖춘 벤치마크 사용) AGI에 대한 벤치마크는 사람들이 경제적· 사회적 또는 예술적으로\\n가치 있게 여기는 실질적인 작업을 대상으로 성능 평가 필요\\n∙ (종점이 아닌 AGI를 향한 경로에 중점) 단계별 접근방식을 통해 AGI의 발전 상태를 점진적으로 측정\\nn 연구진은 상기 원칙에 따라 AI를 성능에 따라 0~5단계와 광범위한 목적에 활용될 수 있는 범용 AI 및 특정\\n과업에 활용되는 특수 AI로 분류했으며, 특수 AI에서는 5단계까지 달성되었으나, 범용 AI는 현재 1단계 수준\\n<구글 딥마인드의 범용 AI 분류 프레임워크>\\n성능 특수 AI 예시 범용 AI 예시\\n0단계: AI 아님 계산기 소프트웨어, 컴파일러 아마존 메커니컬 터크\\n1단계: 신진(숙련되지 않은 인간) GOFAI(Good Old Fashioned Artificial Intelligence) 챗GPT, 바드, 라마2\\n스마트 스피커(애플 시리, 아마존 알렉사, 구글\\n2단계: 유능(숙련된 인간의 50% 이상) 미달성\\n어시스턴트), IBM 왓슨\\n3단계: 전문가(숙련된 인간의 90% 이상) 문법 교정기(그래머리), 생성 이미지 모델(달리2) 미달성\\n4단계: 거장(숙련된 인간의 99% 이상) 딥블루, 알파고 미달성\\n5단계: 초인간(인간을 100% 능가) 알파폴드, 알파제로, 스톡피시 미달성\\n☞ 출처 : Arxiv.org, Levels of AGI: Operationalizing Progress on the Path to AGI, 2023.11.04.\\n16\\n'),\n",
       " Document(metadata={'source': 'data/SPRI_AI_Brief_2023년12월호_F.pdf', 'file_path': 'data/SPRI_AI_Brief_2023년12월호_F.pdf', 'page': 19, 'total_pages': 23, 'Author': 'dj', 'Creator': 'Hwp 2018 10.0.0.13462', 'Producer': 'Hancom PDF 1.3.0.542', 'CreationDate': \"D:20231208132838+09'00'\", 'ModDate': \"D:20231208132838+09'00'\", 'PDFVersion': '1.4'}, page_content='1. 정책/법제 2. 기업/산업 3. 기술/연구 4. 인력/교육\\n갈릴레오의 LLM 환각 지수 평가에서 GPT-4가 가장 우수\\nKEY Contents\\nn 주요 LLM의 환각 현상을 평가한 ‘LLM 환각 지수’에 따르면 GPT-4는 작업 유형과 관계없이\\n가장 우수한 성능을 보였으며 GPT-3.5도 거의 동등한 성능을 발휘\\nn 오픈소스 모델 중에서는 메타의 라마2가 RAG 없는 질문과 답변 및 긴 형식의 텍스트\\n생성에서 가장 우수한 성능을 발휘\\n£주요 LLM 중 GPT-4가 가장 환각 현상 적고 GPT-3.5 터보도 비슷한 성능 기록\\nn 머신러닝 데이터 관리 기업 갈릴레오(Galileo)가 2023년 11월 15일 주요 LLM의 환각 현상을 평가한\\n‘LLM 환각 지수(LLM Hallucination Index)’를 발표\\n∙ 생성 AI의 환각 현상은 AI 시스템이 잘못된 정보를 생성하거나, 현실과 다른 부정확한 결과를 내놓는\\n현상으로, 기업의 AI 도입을 가로막는 주요 장애물이며, 환각 지수는 신뢰할 수 있는 생성 AI 구축을 위해\\n환각을 평가하고 측정하는 구조화된 접근방식을 제공\\n∙ 환각 지수는 △검색 증강 생성(Retrieval-Augmented Generation, RAG)*을 포함한 질문과 답변 △RAG\\n없는 질문과 답변 △긴 형식의 텍스트(보고서나 기사, 에세이) 생성의 3개 작업 유형에 대하여 환각을\\n기준으로 LLM의 순위를 평가\\n* 기존에 학습된 데이터가 아닌 외부 소스(데이터셋, 데이터베이스, 문서 등)에서 가져온 정보를 검색해 활용하는 기술\\nn 3개의 작업 유형 평가 전체에서 오픈AI의 GPT-4가 최고의 성능을 기록했으며, GPT-3.5 터보도\\nGPT-4와 거의 동등한 성능을 발휘\\n∙ 메타의 라마2(Llama-2-70b)는 RAG 없는 질문과 답변 유형에서 오픈소스 모델 가운데 가장 우수했고 긴\\n형식의 텍스트 생성에서도 GPT-4에 준하는 성능을 기록했으나, RAG 포함 질문과 답변에서는 허깅\\n페이스의 제퍼(Zephyr-7b)가 라마2를 능가\\n<갈릴레오의 LLM 환각 지수(RAG 포함 질문과 답변 기준)>\\n☞ 출처: Galileo, LLM Hallucination Index, 2023.11.15.\\n'),\n",
       " Document(metadata={'source': 'data/SPRI_AI_Brief_2023년12월호_F.pdf', 'file_path': 'data/SPRI_AI_Brief_2023년12월호_F.pdf', 'page': 20, 'total_pages': 23, 'Author': 'dj', 'Creator': 'Hwp 2018 10.0.0.13462', 'Producer': 'Hancom PDF 1.3.0.542', 'CreationDate': \"D:20231208132838+09'00'\", 'ModDate': \"D:20231208132838+09'00'\", 'PDFVersion': '1.4'}, page_content='영국 옥스퍼드 인터넷 연구소, AI 기술자의 임금이 평균 21% 높아\\nKEY Contents\\nn 옥스퍼드 인터넷 연구소의 연구에 따르면 특정 기술의 경제적 가치는 다른 기술과 결합\\n가능성이 높을수록 높게 평가됨\\nn AI의 확산은 기술의 경제적 가치에 크게 영향을 미치며, AI 기술을 가진 근로자는 평균 21%,\\n최대 40% 높은 임금을 받을 수 있음\\n£AI 기술 중 머신러닝, 텐서플로우, 딥러닝의 임금 프리미엄이 높게 평가\\nn 옥스퍼드 인터넷 연구소(Oxford Internet Institute)가 2023년 10월 24일 962개 기술과 2만 5천\\n명을 대상으로 한 연구에서 AI를 포함한 주요 기술의 경제적 가치를 분석한 결과를 발표\\n∙ 연구에 따르면 한 기술의 경제적 가치는 근로자의 여타 역량과 얼마나 잘 결합하는지를 보여주는\\n‘상보성(complementarity)’에 따라 결정됨\\n∙ 특정 기술은 다른 기술과 결합 가능성이 높을수록 경제적 가치가 높아지며, 일례로 데이터 분석과 같은\\n기술은 여타 고부가가치 기술과 결합할 수 있어 가치가 높지만, 사진 리터칭 같은 기술은 특정 기술과만\\n결합할 수 있어 가치가 낮게 평가됨\\n∙ 대부분 직업은 여러 기술의 조합이 필요하며, 근로자의 재교육에서 경제적 효율성을 높이려면 기존 기술과\\n신기술 간 상보성을 극대화할 필요\\nn AI의 확산은 기술의 경제적 가치에 크게 영향을 미치는 요소로, AI 기술을 가진 근로자는 평균적으로\\n21% 높은 임금을 획득 가능\\n∙ AI 기술 중 근로자에 대한 경제적 가치(시간당 임금 증가율 기준) 측면에서 상위 5개 기술은\\n머신러닝(+40%), 텐서플로우(+38%), 딥러닝(+27%), 자연어처리(+19%), 데이터 과학(+17%) 순\\n<AI 기술 유형 평균 기술 대비 갖는 임금 프리미엄>\\n☞ 출처 : Oxford Internet Institute, AI comes out on top: Oxford Study identifies the economic value of specific skills, 2023.10.24.\\n18\\n'),\n",
       " Document(metadata={'source': 'data/SPRI_AI_Brief_2023년12월호_F.pdf', 'file_path': 'data/SPRI_AI_Brief_2023년12월호_F.pdf', 'page': 21, 'total_pages': 23, 'Author': 'dj', 'Creator': 'Hwp 2018 10.0.0.13462', 'Producer': 'Hancom PDF 1.3.0.542', 'CreationDate': \"D:20231208132838+09'00'\", 'ModDate': \"D:20231208132838+09'00'\", 'PDFVersion': '1.4'}, page_content='Ⅱ\\n. 주요 행사 일정\\n행사명 행사 주요 개요\\n- 미국 소비자기술 협회(CTA)가 주관하는 세계 최대 가전·IT·소\\n비재 전시회로 5G, AR&VR, 디지털헬스, 교통·모빌리티 등\\n주요 카테고리 중심으로 기업들이 최신의 기술 제품군을 전시\\n- CTA 사피로 회장은 가장 주목받는 섹터로 AI를 조명하였으며,\\n모든 산업을 포괄한다는 의미에서 ‘올 온(All on)’을 주제로 한\\nCES 2024\\n이번 전시에는 500곳 이상의 한국기업 참가 예정\\n기간 장소 홈페이지\\n2024.1.9~12 미국, 라스베가스 https://www.ces.tech/\\n- 머신러닝 및 응용에 관한 국제 컨퍼런스(AIMLA 2024)는\\n인공지능 및 머신러닝의 이론, 방법론 및 실용적 접근에 관한\\n지식과 최신 연구 결과 공유\\n- 이론 및 실무 측면에서 인공지능, 기계학습의 주요 분야를\\n논의하고, 학계, 산업계의 연구자와 실무자들에게 해당 분\\nAIMLA 2024\\n야의 최첨단 개발 소식 공유\\n기간 장소 홈페이지\\nhttps://ccnet2024.org/aimla\\n2024.1.27~28 덴마크, 코펜하겐\\n/index\\n- AI 발전 협회 컨퍼런스(AAAI)는 AI 연구를 촉진하고, AI 분야\\n연구원, 실무자, 과학자, 학생 및 공학자 간 교류의 기회 제공\\n- 컨퍼런스에서 AI 관련 기술 발표, 특별 트랙, 초청 연사,\\nAAAI Conference\\n워크숍, 튜토리얼, 포스터 세션, 주제 발표, 대회, 전시 프\\non Artificial\\n로그램 등 진행\\nIntelligence\\n기간 장소 홈페이지\\nhttps://aaai.org/aaai-confere\\n2024.2.20~27 캐나다, 밴쿠버\\nnce/\\n'),\n",
       " Document(metadata={'source': 'data/SPRI_AI_Brief_2023년12월호_F.pdf', 'file_path': 'data/SPRI_AI_Brief_2023년12월호_F.pdf', 'page': 22, 'total_pages': 23, 'Author': 'dj', 'Creator': 'Hwp 2018 10.0.0.13462', 'Producer': 'Hancom PDF 1.3.0.542', 'CreationDate': \"D:20231208132838+09'00'\", 'ModDate': \"D:20231208132838+09'00'\", 'PDFVersion': '1.4'}, page_content='홈페이지 : https://spri.kr/\\n보고서와 관련된 문의는 AI정책연구실(jayoo@spri.kr, 031-739-7352)으로 연락주시기 바랍니다.\\n')]"
      ]
     },
     "execution_count": 6,
     "metadata": {},
     "output_type": "execute_result"
    }
   ],
   "source": [
    "d_sorted"
   ]
  },
  {
   "cell_type": "code",
   "execution_count": 7,
   "id": "f1da6fd2",
   "metadata": {},
   "outputs": [
    {
     "data": {
      "text/plain": [
       "[Document(metadata={'source': 'data/SPRI_AI_Brief_2023년12월호_F.pdf', 'file_path': 'data/SPRI_AI_Brief_2023년12월호_F.pdf', 'page': 22, 'total_pages': 23, 'Author': 'dj', 'Creator': 'Hwp 2018 10.0.0.13462', 'Producer': 'Hancom PDF 1.3.0.542', 'CreationDate': \"D:20231208132838+09'00'\", 'ModDate': \"D:20231208132838+09'00'\", 'PDFVersion': '1.4'}, page_content='홈페이지 : https://spri.kr/\\n보고서와 관련된 문의는 AI정책연구실(jayoo@spri.kr, 031-739-7352)으로 연락주시기 바랍니다.\\n'),\n",
       " Document(metadata={'source': 'data/SPRI_AI_Brief_2023년12월호_F.pdf', 'file_path': 'data/SPRI_AI_Brief_2023년12월호_F.pdf', 'page': 21, 'total_pages': 23, 'Author': 'dj', 'Creator': 'Hwp 2018 10.0.0.13462', 'Producer': 'Hancom PDF 1.3.0.542', 'CreationDate': \"D:20231208132838+09'00'\", 'ModDate': \"D:20231208132838+09'00'\", 'PDFVersion': '1.4'}, page_content='Ⅱ\\n. 주요 행사 일정\\n행사명 행사 주요 개요\\n- 미국 소비자기술 협회(CTA)가 주관하는 세계 최대 가전·IT·소\\n비재 전시회로 5G, AR&VR, 디지털헬스, 교통·모빌리티 등\\n주요 카테고리 중심으로 기업들이 최신의 기술 제품군을 전시\\n- CTA 사피로 회장은 가장 주목받는 섹터로 AI를 조명하였으며,\\n모든 산업을 포괄한다는 의미에서 ‘올 온(All on)’을 주제로 한\\nCES 2024\\n이번 전시에는 500곳 이상의 한국기업 참가 예정\\n기간 장소 홈페이지\\n2024.1.9~12 미국, 라스베가스 https://www.ces.tech/\\n- 머신러닝 및 응용에 관한 국제 컨퍼런스(AIMLA 2024)는\\n인공지능 및 머신러닝의 이론, 방법론 및 실용적 접근에 관한\\n지식과 최신 연구 결과 공유\\n- 이론 및 실무 측면에서 인공지능, 기계학습의 주요 분야를\\n논의하고, 학계, 산업계의 연구자와 실무자들에게 해당 분\\nAIMLA 2024\\n야의 최첨단 개발 소식 공유\\n기간 장소 홈페이지\\nhttps://ccnet2024.org/aimla\\n2024.1.27~28 덴마크, 코펜하겐\\n/index\\n- AI 발전 협회 컨퍼런스(AAAI)는 AI 연구를 촉진하고, AI 분야\\n연구원, 실무자, 과학자, 학생 및 공학자 간 교류의 기회 제공\\n- 컨퍼런스에서 AI 관련 기술 발표, 특별 트랙, 초청 연사,\\nAAAI Conference\\n워크숍, 튜토리얼, 포스터 세션, 주제 발표, 대회, 전시 프\\non Artificial\\n로그램 등 진행\\nIntelligence\\n기간 장소 홈페이지\\nhttps://aaai.org/aaai-confere\\n2024.2.20~27 캐나다, 밴쿠버\\nnce/\\n'),\n",
       " Document(metadata={'source': 'data/SPRI_AI_Brief_2023년12월호_F.pdf', 'file_path': 'data/SPRI_AI_Brief_2023년12월호_F.pdf', 'page': 20, 'total_pages': 23, 'Author': 'dj', 'Creator': 'Hwp 2018 10.0.0.13462', 'Producer': 'Hancom PDF 1.3.0.542', 'CreationDate': \"D:20231208132838+09'00'\", 'ModDate': \"D:20231208132838+09'00'\", 'PDFVersion': '1.4'}, page_content='영국 옥스퍼드 인터넷 연구소, AI 기술자의 임금이 평균 21% 높아\\nKEY Contents\\nn 옥스퍼드 인터넷 연구소의 연구에 따르면 특정 기술의 경제적 가치는 다른 기술과 결합\\n가능성이 높을수록 높게 평가됨\\nn AI의 확산은 기술의 경제적 가치에 크게 영향을 미치며, AI 기술을 가진 근로자는 평균 21%,\\n최대 40% 높은 임금을 받을 수 있음\\n£AI 기술 중 머신러닝, 텐서플로우, 딥러닝의 임금 프리미엄이 높게 평가\\nn 옥스퍼드 인터넷 연구소(Oxford Internet Institute)가 2023년 10월 24일 962개 기술과 2만 5천\\n명을 대상으로 한 연구에서 AI를 포함한 주요 기술의 경제적 가치를 분석한 결과를 발표\\n∙ 연구에 따르면 한 기술의 경제적 가치는 근로자의 여타 역량과 얼마나 잘 결합하는지를 보여주는\\n‘상보성(complementarity)’에 따라 결정됨\\n∙ 특정 기술은 다른 기술과 결합 가능성이 높을수록 경제적 가치가 높아지며, 일례로 데이터 분석과 같은\\n기술은 여타 고부가가치 기술과 결합할 수 있어 가치가 높지만, 사진 리터칭 같은 기술은 특정 기술과만\\n결합할 수 있어 가치가 낮게 평가됨\\n∙ 대부분 직업은 여러 기술의 조합이 필요하며, 근로자의 재교육에서 경제적 효율성을 높이려면 기존 기술과\\n신기술 간 상보성을 극대화할 필요\\nn AI의 확산은 기술의 경제적 가치에 크게 영향을 미치는 요소로, AI 기술을 가진 근로자는 평균적으로\\n21% 높은 임금을 획득 가능\\n∙ AI 기술 중 근로자에 대한 경제적 가치(시간당 임금 증가율 기준) 측면에서 상위 5개 기술은\\n머신러닝(+40%), 텐서플로우(+38%), 딥러닝(+27%), 자연어처리(+19%), 데이터 과학(+17%) 순\\n<AI 기술 유형 평균 기술 대비 갖는 임금 프리미엄>\\n☞ 출처 : Oxford Internet Institute, AI comes out on top: Oxford Study identifies the economic value of specific skills, 2023.10.24.\\n18\\n'),\n",
       " Document(metadata={'source': 'data/SPRI_AI_Brief_2023년12월호_F.pdf', 'file_path': 'data/SPRI_AI_Brief_2023년12월호_F.pdf', 'page': 19, 'total_pages': 23, 'Author': 'dj', 'Creator': 'Hwp 2018 10.0.0.13462', 'Producer': 'Hancom PDF 1.3.0.542', 'CreationDate': \"D:20231208132838+09'00'\", 'ModDate': \"D:20231208132838+09'00'\", 'PDFVersion': '1.4'}, page_content='1. 정책/법제 2. 기업/산업 3. 기술/연구 4. 인력/교육\\n갈릴레오의 LLM 환각 지수 평가에서 GPT-4가 가장 우수\\nKEY Contents\\nn 주요 LLM의 환각 현상을 평가한 ‘LLM 환각 지수’에 따르면 GPT-4는 작업 유형과 관계없이\\n가장 우수한 성능을 보였으며 GPT-3.5도 거의 동등한 성능을 발휘\\nn 오픈소스 모델 중에서는 메타의 라마2가 RAG 없는 질문과 답변 및 긴 형식의 텍스트\\n생성에서 가장 우수한 성능을 발휘\\n£주요 LLM 중 GPT-4가 가장 환각 현상 적고 GPT-3.5 터보도 비슷한 성능 기록\\nn 머신러닝 데이터 관리 기업 갈릴레오(Galileo)가 2023년 11월 15일 주요 LLM의 환각 현상을 평가한\\n‘LLM 환각 지수(LLM Hallucination Index)’를 발표\\n∙ 생성 AI의 환각 현상은 AI 시스템이 잘못된 정보를 생성하거나, 현실과 다른 부정확한 결과를 내놓는\\n현상으로, 기업의 AI 도입을 가로막는 주요 장애물이며, 환각 지수는 신뢰할 수 있는 생성 AI 구축을 위해\\n환각을 평가하고 측정하는 구조화된 접근방식을 제공\\n∙ 환각 지수는 △검색 증강 생성(Retrieval-Augmented Generation, RAG)*을 포함한 질문과 답변 △RAG\\n없는 질문과 답변 △긴 형식의 텍스트(보고서나 기사, 에세이) 생성의 3개 작업 유형에 대하여 환각을\\n기준으로 LLM의 순위를 평가\\n* 기존에 학습된 데이터가 아닌 외부 소스(데이터셋, 데이터베이스, 문서 등)에서 가져온 정보를 검색해 활용하는 기술\\nn 3개의 작업 유형 평가 전체에서 오픈AI의 GPT-4가 최고의 성능을 기록했으며, GPT-3.5 터보도\\nGPT-4와 거의 동등한 성능을 발휘\\n∙ 메타의 라마2(Llama-2-70b)는 RAG 없는 질문과 답변 유형에서 오픈소스 모델 가운데 가장 우수했고 긴\\n형식의 텍스트 생성에서도 GPT-4에 준하는 성능을 기록했으나, RAG 포함 질문과 답변에서는 허깅\\n페이스의 제퍼(Zephyr-7b)가 라마2를 능가\\n<갈릴레오의 LLM 환각 지수(RAG 포함 질문과 답변 기준)>\\n☞ 출처: Galileo, LLM Hallucination Index, 2023.11.15.\\n'),\n",
       " Document(metadata={'source': 'data/SPRI_AI_Brief_2023년12월호_F.pdf', 'file_path': 'data/SPRI_AI_Brief_2023년12월호_F.pdf', 'page': 18, 'total_pages': 23, 'Author': 'dj', 'Creator': 'Hwp 2018 10.0.0.13462', 'Producer': 'Hancom PDF 1.3.0.542', 'CreationDate': \"D:20231208132838+09'00'\", 'ModDate': \"D:20231208132838+09'00'\", 'PDFVersion': '1.4'}, page_content='구글 딥마인드, 범용 AI 모델의 기능과 동작에 대한 분류 체계 발표\\nKEY Contents\\nn 구글 딥마인드 연구진이 성능과 범용성, 자율성을 기준으로 범용 AI(AGI)의 수준을\\n0~5단계까지 총 6단계로 구분한 프레임워크를 공개\\nn 현재 AGI는 단백질 구조를 예측하는 알파폴드와 같은 특정 용도에서는 5단계 수준을 달성했지만\\n광범위하게 활용될 수 있는 범용에서는 1단계 수준에 머물러 있음\\n£챗GPT와 구글 바드와 같은 AI 챗봇은 범용 AI 1단계 수준\\nn 구글 딥마인드 연구진은 2023년 11월 4일 범용 AI(Artificial General Intelligence, AGI) 모델을 용도와\\n성능에 따라 분류하는 프레임워크를 제시한 논문을 발표\\n∙ 프레임워크의 목적은 AGI의 성능, 범용성, 자율성 수준을 정의하여 모델 간 비교와 위험 평가, AGI\\n달성까지의 진행 상황을 측정할 수 있는 공통 기준을 제공하기 위함\\nn 연구진은 AGI 개념 정의에 필요한 기준을 수립하기 위한 6가지 원칙을 아래와 같이 도출\\n∙ (프로세스가 아닌 기능에 중점) AI가 어떻게 작동하는지보다 무엇을 할 수 있는지가 더 중요\\n∙ (범용성과 성능을 모두 평가) 진정한 AGI는 인간을 능가하는 폭넓은 범용성과 기술의 깊이를 모두 요구\\n∙ (인지와 메타인지 작업에 중점) 물리적 작업의 수행 능력은 AGI의 필수 전제조건이 아니며, 인지 작업과\\n메타인지 작업(예; 새로운 작업의 학습 능력, 인간에게 도움을 요청할 시점을 아는 능력)이 핵심\\n∙ (실제 구현보다 잠재력에 집중) 통제된 상황에서 발휘되는 성능에 따라 AGI를 규정하고 테스트를 진행\\n∙ (생태학적 타당도를 갖춘 벤치마크 사용) AGI에 대한 벤치마크는 사람들이 경제적· 사회적 또는 예술적으로\\n가치 있게 여기는 실질적인 작업을 대상으로 성능 평가 필요\\n∙ (종점이 아닌 AGI를 향한 경로에 중점) 단계별 접근방식을 통해 AGI의 발전 상태를 점진적으로 측정\\nn 연구진은 상기 원칙에 따라 AI를 성능에 따라 0~5단계와 광범위한 목적에 활용될 수 있는 범용 AI 및 특정\\n과업에 활용되는 특수 AI로 분류했으며, 특수 AI에서는 5단계까지 달성되었으나, 범용 AI는 현재 1단계 수준\\n<구글 딥마인드의 범용 AI 분류 프레임워크>\\n성능 특수 AI 예시 범용 AI 예시\\n0단계: AI 아님 계산기 소프트웨어, 컴파일러 아마존 메커니컬 터크\\n1단계: 신진(숙련되지 않은 인간) GOFAI(Good Old Fashioned Artificial Intelligence) 챗GPT, 바드, 라마2\\n스마트 스피커(애플 시리, 아마존 알렉사, 구글\\n2단계: 유능(숙련된 인간의 50% 이상) 미달성\\n어시스턴트), IBM 왓슨\\n3단계: 전문가(숙련된 인간의 90% 이상) 문법 교정기(그래머리), 생성 이미지 모델(달리2) 미달성\\n4단계: 거장(숙련된 인간의 99% 이상) 딥블루, 알파고 미달성\\n5단계: 초인간(인간을 100% 능가) 알파폴드, 알파제로, 스톡피시 미달성\\n☞ 출처 : Arxiv.org, Levels of AGI: Operationalizing Progress on the Path to AGI, 2023.11.04.\\n16\\n'),\n",
       " Document(metadata={'source': 'data/SPRI_AI_Brief_2023년12월호_F.pdf', 'file_path': 'data/SPRI_AI_Brief_2023년12월호_F.pdf', 'page': 17, 'total_pages': 23, 'Author': 'dj', 'Creator': 'Hwp 2018 10.0.0.13462', 'Producer': 'Hancom PDF 1.3.0.542', 'CreationDate': \"D:20231208132838+09'00'\", 'ModDate': \"D:20231208132838+09'00'\", 'PDFVersion': '1.4'}, page_content='1. 정책/법제 2. 기업/산업 3. 기술/연구 4. 인력/교육\\n영국 과학혁신기술부, AI 안전 연구소 설립 발표\\nKEY Contents\\nn 영국 과학혁신기술부가 첨단 AI 시스템에 대한 평가를 통해 안전성을 보장하기 위한 AI\\n안전 연구소를 설립한다고 발표\\nn AI 안전 연구소는 핵심 기능으로 첨단 AI 시스템 평가 개발과 시행, AI 안전 연구 촉진,\\n정보교류 활성화를 추진할 계획\\n£영국 AI 안전 연구소, 첨단 AI 시스템 평가와 AI 안전 연구, 정보 교류 추진\\nn 영국 과학혁신기술부가 2023년 11월 2일 첨단 AI 안전에 중점을 둔 국가 연구기관으로 AI\\n안전 연구소(AI Safety Institute)를 설립한다고 발표\\n∙ AI 안전 연구소는 첨단 AI의 위험을 이해하고 거버넌스 마련에 필요한 사회·기술적 인프라 개발을 통해\\n영국을 AI 안전 연구의 글로벌 허브로 확립하는 것을 목표로 함\\n∙ 영국 정부는 향후 10년간 연구소에 공공자금을 투자해 연구를 지원할 계획으로, 연구소는 △첨단 AI 시스템\\n평가 개발과 시행 △AI 안전 연구 촉진 △정보 교류 활성화를 핵심 기능으로 함\\nn (첨단 AI 시스템 평가 개발과 시행) 시스템의 안전 관련 속성을 중심으로 안전과 보안 기능을 이해\\n하고 사회적 영향을 평가\\n∙ 평가 우선순위는 △사이버범죄 조장, 허위 정보 유포 등 악의적으로 활용될 수 있는 기능 △사회에 미치는\\n영향 △시스템 안전과 보안 △인간의 통제력 상실 가능성 순\\n∙ 연구소는 외부 기관과 협력해 자체 시스템 평가를 개발 및 수행하고, 평가와 관련된 의견 공유 및 지침\\n마련을 위해 전문가 커뮤니티를 소집할 계획\\nn (AI 안전 연구 촉진) 외부 연구자를 소집하고 다양한 예비 연구 프로젝트를 통해 AI 안전 기초연구를 수행\\n∙ AI 시스템의 효과적 거버넌스를 위한 도구 개발* 및 안전한 AI 시스템 개발을 위한 새로운 접근 방식 연구를 수행\\n* 편향된 훈련 데이터에 대한 분석기술, 민감한 정보를 포함하는 AI 시스템에 대한 미세 조정 방법\\nn (정보 교류 활성화) 현행 개인정보보호와 데이터 규제 하에서 연구소와 정책입안자, 국제 파트너,\\n학계, 시민사회 및 일반 대중과 정보 공유 채널을 구축\\n∙ AI 안전성 정상회의(AI Safety Summit)에서 합의된 대로 첨단 AI 모델의 평가 후 해당 모델이 배포된\\n타국의 정부 및 연구소와 평가 결과를 공유하고, 학계와 대중이 AI 시스템의 피해와 취약점을 보고할 수\\n있는 명확한 절차를 수립\\n☞ 출처 : Gov.uk, Introducing the AI Safety Institute, 2023.11.02.\\nVenturebeat, Researchers turn to Harry Potter to make AI forget about copyrighted material, 2023.10.06.\\n'),\n",
       " Document(metadata={'source': 'data/SPRI_AI_Brief_2023년12월호_F.pdf', 'file_path': 'data/SPRI_AI_Brief_2023년12월호_F.pdf', 'page': 16, 'total_pages': 23, 'Author': 'dj', 'Creator': 'Hwp 2018 10.0.0.13462', 'Producer': 'Hancom PDF 1.3.0.542', 'CreationDate': \"D:20231208132838+09'00'\", 'ModDate': \"D:20231208132838+09'00'\", 'PDFVersion': '1.4'}, page_content='SPRi AI Brief |\\n2023-12월호\\n유튜브, 2024년부터 AI 생성 콘텐츠 표시 의무화\\nKEY Contents\\nn 유튜브가 몇 달 안에 생성 AI를 사용한 콘텐츠에 AI 라벨 표시를 의무화하기로 했으며, 이를\\n준수하지 않는 콘텐츠는 삭제하고 크리에이터에 대한 수익 배분도 중단할 수 있다고 설명\\nn 유튜브는 AI 생성 콘텐츠가 신원 파악이 가능한 개인을 모방한 경우 개인정보 침해 신고\\n절차에 따라 콘텐츠 삭제 요청도 받을 계획\\n£유튜브, 생성 AI 콘텐츠에 AI 라벨 표시 안 하면 콘텐츠 삭제\\nn 유튜브가 2023년 11월 14일 공식 블로그를 통해 몇 달 안에 생성 AI를 사용한 콘텐츠에 AI\\n라벨을 표시하는 새로운 규칙을 시행한다고 발표\\n∙ 실제로 일어나지 않은 사건을 사실적으로 묘사하거나 실제로 하지 않은 말이나 행동을 보여주는 콘텐츠와\\n같이 AI 도구를 사용해 사실적으로 변경되거나 합성된 콘텐츠에는 AI 라벨을 표시 필요\\n∙ 유튜브는 이러한 규칙이 선거나 분쟁 상황, 공중 보건, 공직자 관련 문제와 같이 민감한 주제를 다루는\\n콘텐츠에서 특히 중요하다고 강조했으며, 크리에이터가 AI로 제작한 콘텐츠에 AI 라벨을 표시하지 않으면\\n해당 콘텐츠는 삭제되고 광고 수익을 배분하는 유튜브 파트너 프로그램도 정지될 수 있음\\n∙ 유튜브는 두 가지 방식으로 AI를 이용한 콘텐츠의 변경이나 합성 여부를 시청자에게 전달할 계획으로\\n동영상 설명 패널에 라벨을 표시하는 방식이 기본이며, 민감한 주제를 다루는 특정 유형의 콘텐츠는 동영상\\n플레이어에 더욱 눈에 띄는 라벨을 적용\\n∙ 유튜브는 커뮤니티 정책에 위반되는 일부 합성 콘텐츠에 대해서는 라벨 지정 여부와 관계없이 삭제할\\n방침으로, 가령 사실적인 폭력을 보여주는 합성 동영상이 시청자에게 충격이나 혐오감을 줄 수 있다면\\n삭제될 수 있음\\n£유튜브, 특정인을 모방한 AI 생성 콘텐츠에 대한 삭제 요청에도 대응 계획\\nn 유튜브는 몇 달 내에 신원 파악이 가능한 개인의 얼굴이나 음성을 모방한 AI 생성 콘텐츠에 대하\\n여 개인정보 침해 신고 절차를 마련해 삭제 요청을 받을 계획\\n∙ 단, 모든 콘텐츠가 삭제 대상은 아니며 유튜브는 콘텐츠가 패러디나 풍자인지, 해당 영상에서 삭제 요청을\\n한 특정인을 식별할 수 있는지, 공직자나 유명인이 등장하는지 등 다양한 요소를 고려할 예정\\n∙ 유튜브는 음반사가 아티스트의 고유한 노래나 목소리를 모방한 AI 생성 음악에 대하여 삭제를 요청할 수\\n있는 기능도 도입할 방침\\n☞ 출처 : Youtube, Our approach to responsible AI innovation, 2023.11.14.\\n14\\n'),\n",
       " Document(metadata={'source': 'data/SPRI_AI_Brief_2023년12월호_F.pdf', 'file_path': 'data/SPRI_AI_Brief_2023년12월호_F.pdf', 'page': 15, 'total_pages': 23, 'Author': 'dj', 'Creator': 'Hwp 2018 10.0.0.13462', 'Producer': 'Hancom PDF 1.3.0.542', 'CreationDate': \"D:20231208132838+09'00'\", 'ModDate': \"D:20231208132838+09'00'\", 'PDFVersion': '1.4'}, page_content='1. 정책/법제 2. 기업/산업 3. 기술/연구 4. 인력/교육\\n빌 게이츠, AI 에이전트로 인한 컴퓨터 사용의 패러다임 변화 전망\\nKEY Contents\\nn 빌 게이츠가 5년 내 일상언어로 모든 작업을 처리할 수 있는 AI 에이전트가 보급되며 컴퓨터를\\n사용하는 방식이 완전히 바뀔 것으로 예상\\nn 에이전트의 보급은 컴퓨터 분야를 넘어 산업 전 영역에 영향을 미칠 전망으로 특히 의료와\\n교육, 생산성, 엔터테인먼트·쇼핑 영역에서 고가로 제공되던 서비스가 대중화될 전망\\n£5년 내 기기에 일상언어로 말하기만 하면 되는 AI 에이전트의 보급 예상\\nn 빌 게이츠 마이크로소프트 창업자가 2023년 11월 9일 공식 블로그를 통해 AI 에이전트가 컴퓨터\\n사용방식과 소프트웨어 산업을 완전히 변화시킬 것이라는 전망을 제시\\n∙ 자연어에 반응하고 사용자에 대한 지식을 바탕으로 다양한 작업을 수행하는 소프트웨어를 의미하는\\n에이전트는 컴퓨터 사용방식이 키보드 입력에서 아이콘 클릭으로 바뀐 이후 최대의 컴퓨팅 혁명을\\n가져올 전망\\n∙ 현재는 컴퓨터 작업 시 작업 내용에 따라 각각 다른 앱을 사용해야 하지만 5년 내 에이전트의 발전으로\\n기기에 일상언어로 말하기만 하면 되는 미래가 도래할 것\\n∙ 온라인에 접속하는 모든 사람이 AI 기반의 개인 비서를 사용할 수 있게 되며, 에이전트는 사용자에 대한\\n풍부한 지식을 바탕으로 맞춤화된 대응이 가능하며 시간이 지날수록 개선됨\\n∙ 일례로 여행 계획 수립 시 AI 챗봇이 예산에 맞는 호텔을 제안하는데 머문다면, 에이전트는 사용자의 여행\\n패턴을 분석해 여행지를 제안하고 관심사에 따른 활동을 추천하며 선호하는 스타일의 레스토랑 예약도 가능\\n£AI 에이전트가 의료와 교육, 생산성, 엔터테인먼트·쇼핑 영역의 서비스 대중화를 주도할 것\\nn 에이전트로 인해 주목할 만한 변화는 고비용 서비스의 대중화로 특히 △의료 △교육 △생산성 △\\n엔터테인먼트·쇼핑의 4개 영역에서 대규모 변화 예상\\n∙ (의료) 에이전트가 환자 분류를 지원하고 건강 문제에 대한 조언을 제공하며 치료의 필요 여부를 결정하면서\\n의료진의 의사결정과 생산성 향상에 기여\\n∙ (교육) 에이전트가 1대 1 가정교사의 역할을 맡아 모든 학생에게 평등한 교육 기회를 제공할 수 있으며,\\n아이가 좋아하는 게임이나 노래 등을 활용해 시청각 기반의 풍부한 맞춤형 교육 경험을 제공\\n∙ (생산성) 사용자의 아이디어를 기반으로 에이전트가 사업계획과 발표 자료 작성, 제품 이미지 생성을\\n지원하며, 임원의 개인 비서와 같은 역할도 수행\\n∙ (엔터테인먼트·쇼핑) 쇼핑 시 에이전트가 모든 리뷰를 읽고 요약해 최적의 제품을 추천하고 사용자 대신\\n주문할 수 있으며 사용자의 관심사에 맞춤화된 뉴스와 엔터테인먼트를 구독 가능\\n☞ 출처 : GatesNotes, AI is about to completely change how you use computers, 2023.11.09.\\n'),\n",
       " Document(metadata={'source': 'data/SPRI_AI_Brief_2023년12월호_F.pdf', 'file_path': 'data/SPRI_AI_Brief_2023년12월호_F.pdf', 'page': 14, 'total_pages': 23, 'Author': 'dj', 'Creator': 'Hwp 2018 10.0.0.13462', 'Producer': 'Hancom PDF 1.3.0.542', 'CreationDate': \"D:20231208132838+09'00'\", 'ModDate': \"D:20231208132838+09'00'\", 'PDFVersion': '1.4'}, page_content='SPRi AI Brief |\\n2023-12월호\\nIDC, 2027년 AI 소프트웨어 매출 2,500억 달러 돌파 전망\\nKEY Contents\\nn IDC의 예측에 의하면 AI 소프트웨어 시장은 2027년 2,510억 달러로 달할 전망이며, 생성\\nAI 플랫폼과 애플리케이션은 2027년까지 283억 달러의 매출을 창출할 전망\\nn 2023년 기준 AI 소프트웨어 매출의 3분의 1을 차지하는 최대 시장인 AI 애플리케이션은\\n2027년까지 21.1%의 연평균 성장률을 기록할 전망\\n£기업들의 AI 투자 증가에 힘입어 AI 소프트웨어 시장 급성장 예상\\nn 시장조사기관 IDC는 AI 소프트웨어 시장이 2022년 640억 달러에서 2027년 2,510억 달러로 연평\\n균 성장률 31.4%를 기록하며 급성장할 것으로 예상\\n∙ AI 소프트웨어 시장은 AI 플랫폼, AI 애플리케이션, AI 시스템 인프라 소프트웨어(SIS), AI 애플리케이션\\n개발·배포(AI AD&D) 소프트웨어를 포괄\\n∙ 협업, 콘텐츠 관리, 전사적 자원관리(ERM), 공급망 관리, 생산 및 운영, 엔지니어링, 고객관계관리(CRM)를\\n포함하는 AI 애플리케이션은 AI 소프트웨어의 최대 시장으로 2023년 전체 매출의 약 3분의 1을 차지하며\\n2027년까지 21.1%의 연평균 성장률을 기록할 전망\\n∙ AI 비서를 포함한 AI 모델과 애플리케이션의 개발을 뒷받침하는 AI 플랫폼은 두 번째로 시장 규모가 큰\\n분야로, 2027년까지 35.8%의 연평균 성장률이 예상됨\\n∙ 분석, 비즈니스 인텔리전스, 데이터 관리와 통합을 포함하는 AI SIS는 기존 소프트웨어 시스템과 통합되어\\n방대한 데이터를 활용한 의사결정과 운영 최적화를 지원하며, 현재 매출 규모는 비교적 작지만 5년간\\n연평균 성장률은 32.6%로 시장 전체를 웃돌 전망\\n∙ 애플리케이션 개발, 소프트웨어 품질과 수명주기 관리 소프트웨어, 애플리케이션 플랫폼을 포함하는 AI\\nAD&D는 향후 5년간 카테고리 중 가장 높은 38.7%의 연평균 성장률이 예상됨\\nn IDC에 따르면 경제적 불확실성과 시장 역학의 변화에도 AI와 자동화 기술에 대한 기업들의 투자\\n의지는 확고하며, 기업들은 AI 도입이 사업 성공과 경쟁우위에 필수적이라고 인식\\n∙ IDC 설문조사에 따르면 향후 12개월 동안 응답자의 3분의 1은 기업이 특정 사용 사례나 응용 영역에서\\n외부 AI 소프트웨어의 구매를 고려하거나 외부 AI 소프트웨어와 내부 자원의 결합을 고려\\nn 한편, AI 소프트웨어 시장에 포함되지 않는 생성 AI 플랫폼과 애플리케이션은 2027년까지 283억\\n달러의 매출을 창출할 전망\\n☞ 출처 : IDC, IDC Forecasts Revenue for Artificial Intelligence Software Will Reach $279 Billion Worldwide in\\n2027, 2023.10.31.\\n12\\n'),\n",
       " Document(metadata={'source': 'data/SPRI_AI_Brief_2023년12월호_F.pdf', 'file_path': 'data/SPRI_AI_Brief_2023년12월호_F.pdf', 'page': 13, 'total_pages': 23, 'Author': 'dj', 'Creator': 'Hwp 2018 10.0.0.13462', 'Producer': 'Hancom PDF 1.3.0.542', 'CreationDate': \"D:20231208132838+09'00'\", 'ModDate': \"D:20231208132838+09'00'\", 'PDFVersion': '1.4'}, page_content='1. 정책/법제 2. 기업/산업 3. 기술/연구 4. 인력/교육\\n구글, 앤스로픽에 20억 달러 투자로 생성 AI 협력 강화\\nKEY Contents\\nn 구글이 앤스로픽에 최대 20억 달러 투자에 합의하고 5억 달러를 우선 투자했으며, 앤스로픽은\\n구글과 클라우드 서비스 사용 계약도 체결\\nn 3대 클라우드 사업자인 구글, 마이크로소프트, 아마존은 차세대 AI 모델의 대표 기업인\\n앤스로픽 및 오픈AI와 협력을 확대하는 추세\\n£구글, 앤스로픽에 최대 20억 달러 투자 합의 및 클라우드 서비스 제공\\nn 구글이 2023년 10월 27일 앤스로픽에 최대 20억 달러를 투자하기로 합의했으며, 이 중 5억\\n달러를 우선 투자하고 향후 15억 달러를 추가로 투자할 방침\\n∙ 구글은 2023년 2월 앤스로픽에 이미 5억 5,000만 달러를 투자한 바 있으며, 아마존도 지난 9월\\n앤스로픽에 최대 40억 달러의 투자 계획을 공개\\n∙ 한편, 2023년 11월 8일 블룸버그 보도에 따르면 앤스로픽은 구글의 클라우드 서비스 사용을 위해\\n4년간 30억 달러 규모의 계약을 체결\\n∙ 오픈AI 창업자 그룹의 일원이었던 다리오(Dario Amodei)와 다니엘라 아모데이(Daniela Amodei)\\n남매가 2021년 설립한 앤스로픽은 챗GPT의 대항마 ‘클로드(Claude)’ LLM을 개발\\nn 아마존과 구글의 앤스로픽 투자에 앞서, 마이크로소프트는 차세대 AI 모델의 대표 주자인 오픈\\nAI와 협력을 확대\\n∙ 마이크로소프트는 오픈AI에 앞서 투자한 30억 달러에 더해 2023년 1월 추가로 100억 달러를\\n투자하기로 하면서 오픈AI의 지분 49%를 확보했으며, 오픈AI는 마이크로소프트의 애저(Azure)\\n클라우드 플랫폼을 사용해 AI 모델을 훈련\\n£구글, 클라우드 경쟁력 강화를 위해 생성 AI 투자 확대\\nn 구글은 수익률이 높은 클라우드 컴퓨팅 시장에서 아마존과 마이크로소프트를 따라잡고자 생성 AI를\\n통한 기업 고객의 클라우드 지출 확대를 위해 AI 투자를 지속\\n∙ 구글은 앤스로픽 외에도 AI 동영상 제작 도구를 개발하는 런웨이(Runway)와 오픈소스 소프트웨어\\n기업 허깅 페이스(Hugging Face)에도 투자\\n∙ 구글은 챗GPT의 기반 기술과 직접 경쟁할 수 있는 차세대 LLM ‘제미니(Gemini)’를 포함한 자체 AI\\n시스템 개발에도 수십억 달러를 투자했으며, 2024년 제미니를 출시할 계획\\n☞ 출처 : The Wall Street Journal, Google Commits $2 Billion in Funding to AI Startup Anthropic, 2023.10.27.\\nBloomberg, AI Startup Anthropic to Use Google Chips in Expanded Partnership, 2023.11.09.\\n'),\n",
       " Document(metadata={'source': 'data/SPRI_AI_Brief_2023년12월호_F.pdf', 'file_path': 'data/SPRI_AI_Brief_2023년12월호_F.pdf', 'page': 12, 'total_pages': 23, 'Author': 'dj', 'Creator': 'Hwp 2018 10.0.0.13462', 'Producer': 'Hancom PDF 1.3.0.542', 'CreationDate': \"D:20231208132838+09'00'\", 'ModDate': \"D:20231208132838+09'00'\", 'PDFVersion': '1.4'}, page_content='SPRi AI Brief |\\n2023-12월호\\n삼성전자, 자체 개발 생성 AI ‘삼성 가우스’ 공개\\nKEY Contents\\nn 삼성전자가 온디바이스에서 작동 가능하며 언어, 코드, 이미지의 3개 모델로 구성된 자체 개발 생성\\nAI 모델 ‘삼성 가우스’를 공개\\nn 삼성전자는 삼성 가우스를 다양한 제품에 단계적으로 탑재할 계획으로, 온디바이스 작동이 가능한\\n삼성 가우스는 외부로 사용자 정보가 유출될 위험이 없다는 장점을 보유\\n£언어, 코드, 이미지의 3개 모델로 구성된 삼성 가우스, 온디바이스 작동 지원\\nn 삼성전자가 2023년 11월 8일 열린 ‘삼성 AI 포럼 2023’ 행사에서 자체 개발한 생성 AI 모델\\n‘삼성 가우스’를 최초 공개\\n∙ 정규분포 이론을 정립한 천재 수학자 가우스(Gauss)의 이름을 본뜬 삼성 가우스는 다양한 상황에\\n최적화된 크기의 모델 선택이 가능\\n∙ 삼성 가우스는 라이선스나 개인정보를 침해하지 않는 안전한 데이터를 통해 학습되었으며,\\n온디바이스에서 작동하도록 설계되어 외부로 사용자의 정보가 유출되지 않는 장점을 보유\\n∙ 삼성전자는 삼성 가우스를 활용한 온디바이스 AI 기술도 소개했으며, 생성 AI 모델을 다양한 제품에\\n단계적으로 탑재할 계획\\nn 삼성 가우스는 △텍스트를 생성하는 언어모델 △코드를 생성하는 코드 모델 △이미지를 생성하는\\n이미지 모델의 3개 모델로 구성\\n∙ 언어 모델은 클라우드와 온디바이스 대상 다양한 모델로 구성되며, 메일 작성, 문서 요약, 번역 업무의\\n처리를 지원\\n∙ 코드 모델 기반의 AI 코딩 어시스턴트 ‘코드아이(code.i)’는 대화형 인터페이스로 서비스를 제공하며\\n사내 소프트웨어 개발에 최적화\\n∙ 이미지 모델은 창의적인 이미지를 생성하고 기존 이미지를 원하는 대로 바꿀 수 있도록 지원하며\\n저해상도 이미지의 고해상도 전환도 지원\\nn IT 전문지 테크리퍼블릭(TechRepublic)은 온디바이스 AI가 주요 기술 트렌드로 부상했다며,\\n2024년부터 가우스를 탑재한 삼성 스마트폰이 메타의 라마(Llama)2를 탑재한 퀄컴 기기 및 구글\\n어시스턴트를 적용한 구글 픽셀(Pixel)과 경쟁할 것으로 예상\\n☞ 출처 : 삼성전자, ‘삼성 AI 포럼’서 자체 개발 생성형 AI ‘삼성 가우스’ 공개, 2023.11.08.\\n삼성전자, ‘삼성 개발자 콘퍼런스 코리아 2023’ 개최, 2023.11.14.\\nTechRepublic, Samsung Gauss: Samsung Research Reveals Generative AI, 2023.11.08.\\n10\\n'),\n",
       " Document(metadata={'source': 'data/SPRI_AI_Brief_2023년12월호_F.pdf', 'file_path': 'data/SPRI_AI_Brief_2023년12월호_F.pdf', 'page': 11, 'total_pages': 23, 'Author': 'dj', 'Creator': 'Hwp 2018 10.0.0.13462', 'Producer': 'Hancom PDF 1.3.0.542', 'CreationDate': \"D:20231208132838+09'00'\", 'ModDate': \"D:20231208132838+09'00'\", 'PDFVersion': '1.4'}, page_content='1. 정책/법제 2. 기업/산업 3. 기술/연구 4. 인력/교육\\n알리바바 클라우드, 최신 LLM ‘통이치엔원 2.0’ 공개\\nKEY Contents\\nn 알리바바 클라우드가 복잡한 지침 이해, 광고문구 작성, 추론, 암기 등에서 성능이 향상된 최신\\nLLM ‘통이치엔원 2.0’을 공개\\nn 알리바바 클라우드는 산업별로 특화된 생성 AI 모델을 공개하는 한편, 모델 개발과 애플리케이션\\n구축 절차를 간소화하는 올인원 AI 모델 구축 플랫폼도 출시\\n£알리바바의 통이치엔원 2.0, 주요 벤치마크 테스트에서 여타 LLM 능가\\nn 중국의 알리바바 클라우드가 2023년 10월 31일 열린 연례 기술 컨퍼런스에서 최신 LLM ‘통이\\n치엔원(Tongyi Qianwen) 2.0’을 공개\\n∙ 알리바바 클라우드는 통이치엔원 2.0이 2023년 4월 출시된 1.0 버전보다 복잡한 지침 이해,\\n광고문구 작성, 추론, 암기 등에서 성능이 향상되었다고 설명\\n∙ 통이치엔원 2.0은 언어 이해 테스트(MMLU), 수학(GSM8k), 질문 답변(ARC-C)과 같은 벤치마크\\n테스트에서 라마(Llama-2-70B)와 GPT-3.5를 비롯한 주요 AI 모델을 능가\\n∙ 통이치엔원 2.0은 알리바바 클라우드의 웹사이트와 모바일 앱을 통해 대중에 제공되며 개발자는\\nAPI를 통해 사용 가능\\nn 알리바바 클라우드는 여러 산업 영역에서 생성 AI를 활용해 사업 성과를 개선할 수 있도록 지원\\n하는 산업별 모델도 출시\\n∙ 산업 영역은 고객지원, 법률 상담, 의료, 금융, 문서관리, 오디오와 동영상 관리, 코드 개발, 캐릭터\\n제작을 포함\\nn 알리바바 클라우드는 급증하는 생성 AI 수요에 대응해 모델 개발과 애플리케이션 구축 절차를\\n간소화하는 올인원 AI 모델 구축 플랫폼 ‘젠AI(GenAI)’도 공개\\n∙ 이 플랫폼은 데이터 관리, 모델 배포와 평가, 신속한 엔지니어링을 위한 종합 도구 모음을 제공하여\\n다양한 기업들이 맞춤형 AI 모델을 한층 쉽게 개발할 수 있도록 지원\\n∙ 생성 AI 개발에 필요한 컴퓨팅과 데이터 처리 요구사항을 지원하기 위해 AI 플랫폼(PAI),\\n데이터베이스 솔루션, 컨테이너 서비스와 같은 클라우드 신제품도 발표\\nn 알리바바 클라우드는 AI 개발을 촉진하기 위해 올해 말까지 720억 개 매개변수를 가진 통이치엔원\\n모델을 오픈소스화한다는 계획도 공개\\n☞ 출처 : Alibaba Cloud, Alibaba Cloud Launches Tongyi Qianwen 2.0 and Industry-specific Models to Support\\nCustomers Reap Benefits of Generative AI, 2023.10.31.\\n'),\n",
       " Document(metadata={'source': 'data/SPRI_AI_Brief_2023년12월호_F.pdf', 'file_path': 'data/SPRI_AI_Brief_2023년12월호_F.pdf', 'page': 10, 'total_pages': 23, 'Author': 'dj', 'Creator': 'Hwp 2018 10.0.0.13462', 'Producer': 'Hancom PDF 1.3.0.542', 'CreationDate': \"D:20231208132838+09'00'\", 'ModDate': \"D:20231208132838+09'00'\", 'PDFVersion': '1.4'}, page_content='SPRi AI Brief |\\n2023-12월호\\n코히어, 데이터 투명성 확보를 위한 데이터 출처 탐색기 공개\\nKEY Contents\\nn 코히어와 12개 기관이 광범위한 데이터셋에 대한 감사를 통해 원본 데이터 출처, 재라이선스 상태,\\n작성자 등 다양한 정보를 제공하는 ‘데이터 출처 탐색기’ 플랫폼을 출시\\nn 대화형 플랫폼을 통해 개발자는 데이터셋의 라이선스 상태를 쉽게 파악할 수 있으며 데이터셋의\\n구성과 계보도 추적 가능\\n£데이터 출처 탐색기, 광범위한 데이터셋 정보 제공을 통해 데이터 투명성 향상\\nn AI 기업 코히어(Cohere)가 매사추세츠 공과⼤(MIT), 하버드⼤ 로스쿨, 카네기멜론⼤ 등 12개 기관과\\n함께 2023년 10월 25일 ‘데이터 출처 탐색기(Data Provenance Explorer)’ 플랫폼을 공개\\n∙ AI 모델 훈련에 사용되는 데이터셋의 불분명한 출처로 인해 데이터 투명성이 확보되지 않아 다양한\\n법적·윤리적 문제가 발생\\n∙ 이에 연구진은 가장 널리 사용되는 2,000여 개의 미세조정 데이터셋을 감사 및 추적하여 데이터셋에\\n원본 데이터소스에 대한 태그, 재라이선스(Relicensing) 상태, 작성자, 기타 데이터 속성을 지정하고\\n이러한 정보에 접근할 수 있는 플랫폼을 출시\\n∙ 대화형 플랫폼 형태의 데이터 출처 탐색기를 통해 데이터셋의 라이선스 상태를 쉽게 파악할 수 있으며,\\n주요 데이터셋의 구성과 데이터 계보도 추적 가능\\nn 연구진은 오픈소스 데이터셋에 대한 광범위한 감사를 통해 데이터 투명성에 영향을 미치는 주요\\n요인을 발견\\n∙ 깃허브(GitHub), 페이퍼위드코드(Papers with Code)와 같은 크라우드소싱 플랫폼에서 수집한\\n데이터로 훈련된 오픈소스 LLM에서는 데이터 라이선스의 누락 비율이 72~83%에 달함\\n∙ 또한 크라우드소싱 플랫폼이 할당한 라이선스는 데이터셋 원저작자의 의도보다 더 광범위한 사용을\\n허용한 경우가 상당수\\n∙ 데이터 생태계 분석 결과, 부정확하거나 모호한 라이선스 문서화 등 데이터 출처 입증과 관련된 관행\\n전반에서 구조적 문제가 드러남\\nn 연구진은 데이터 출처 탐색기만으로는 해결이 어려운 법적 이슈도 존재한다며 일관된 법적 프레임\\n워크의 필요성을 제기\\n∙ 일례로 데이터를 수집한 지역, 모델 훈련 지역, 모델 배포 지역마다 규제가 다르면 어떤 법률을\\n적용해야 하는지 실무자의 판단이 어려울 수 있으며, 서로 다른 라이선스를 적용받는 개별 데이터셋을\\n하나로 통합해 사용하는 경우에도 각각의 라이선스 조건 준수에 어려움이 발생\\n☞ 출처 : Cohere, Data Provenance Explorer Launches to Tackle Data Transparency Crisis, 2023.10.25.\\n8\\n'),\n",
       " Document(metadata={'source': 'data/SPRI_AI_Brief_2023년12월호_F.pdf', 'file_path': 'data/SPRI_AI_Brief_2023년12월호_F.pdf', 'page': 9, 'total_pages': 23, 'Author': 'dj', 'Creator': 'Hwp 2018 10.0.0.13462', 'Producer': 'Hancom PDF 1.3.0.542', 'CreationDate': \"D:20231208132838+09'00'\", 'ModDate': \"D:20231208132838+09'00'\", 'PDFVersion': '1.4'}, page_content='1. 정책/법제 2. 기업/산업 3. 기술/연구 4. 인력/교육\\n미국 프런티어 모델 포럼, 1,000만 달러 규모의 AI 안전 기금 조성\\nKEY Contents\\nn 구글, 앤스로픽, 마이크로소프트, 오픈AI가 참여하는 프런티어 모델 포럼이 자선단체와 함께 AI\\n안전 연구를 위한 1,000만 달러 규모의 AI 안전 기금을 조성\\nn 프런티어 모델 포럼은 AI 모델의 취약점을 발견하고 검증하는 레드팀 활동을 지원하기 위한\\n모델 평가 기법 개발에 자금을 중점 지원할 계획\\n£프런티어 모델 포럼, 자선단체와 함께 AI 안전 연구를 위한 기금 조성\\nn 구글, 앤스로픽, 마이크로소프트, 오픈AI가 출범한 프런티어 모델 포럼이 2023년 10월 25일 AI 안전\\n연구를 위한 기금을 조성한다고 발표\\n∙ 참여사들은 맥거번 재단(Patrick J. McGovern Foundation), 데이비드 앤 루실 패커드 재단(The\\nDavid and Lucile Packard Foundation) 등의 자선단체와 함께 AI 안전 연구를 위한 기금에\\n1,000만 달러 이상을 기부\\n∙ 또한 신기술의 거버넌스와 안전 분야에서 전문성을 갖춘 브루킹스 연구소 출신의 크리스 메서롤(Chris\\nMeserole)을 포럼의 상무이사로 임명\\nn 최근 AI 기술이 급속히 발전하면서 AI 안전에 관한 연구가 부족한 시점에, 포럼은 이러한 격차를 해소\\n하기 위해 AI 안전 기금을 조성\\n∙ 참여사들은 지난 7월 백악관 주재의 AI 안전 서약에서 외부자의 AI 시스템 취약점 발견과 신고를\\n촉진하기로 약속했으며, 약속을 이행하기 위해 기금을 활용해 외부 연구집단의 AI 시스템 평가에\\n자금을 지원할 계획\\n£AI 안전 기금으로 AI 레드팀을 위한 모델 평가 기법 개발을 중점 지원할 계획\\nn 프런티어 모델 포럼은 AI 안전 기금을 통해 AI 레드팀 활동을 위한 새로운 모델 평가 기법의 개발을\\n중점 지원할 예정\\n∙ 포럼에 따르면 AI 레드팀에 대한 자금 지원은 AI 모델의 안전과 보안 기준의 개선과 함께 AI 시스템\\n위험 대응 방안에 관한 산업계와 정부, 시민사회의 통찰력 확보에 도움이 될 전망으로, 포럼은 향후 몇\\n달 안에 기금 지원을 위한 제안 요청을 받을 계획\\nn 프런티어 모델 포럼은 출범 이후 업계 전반에 걸쳐 AI 레드팀 구성에 관한 모범사례 공유를 추진하는\\n한편, 첨단 AI 모델의 취약점이나 잠재적으로 위험한 기능 및 위험 완화 관련 정보를 공유할 수\\n있는 공개 절차도 개발 중\\n☞ 출처: Google, Anthropic, Google, Microsoft and OpenAI announce Executive Director of the Frontier Model\\nForum and over $10 million for a new AI Safety Fund, 2023.10.25.\\n'),\n",
       " Document(metadata={'source': 'data/SPRI_AI_Brief_2023년12월호_F.pdf', 'file_path': 'data/SPRI_AI_Brief_2023년12월호_F.pdf', 'page': 8, 'total_pages': 23, 'Author': 'dj', 'Creator': 'Hwp 2018 10.0.0.13462', 'Producer': 'Hancom PDF 1.3.0.542', 'CreationDate': \"D:20231208132838+09'00'\", 'ModDate': \"D:20231208132838+09'00'\", 'PDFVersion': '1.4'}, page_content='SPRi AI Brief |\\n2023-12월호\\nEU AI 법 3자 협상, 기반모델 규제 관련 견해차로 난항\\nKEY Contents\\nn 유럽의회, EU 집행위원회, EU 이사회가 진행 중인 AI 법 최종협상에서 프랑스, 이탈리아,\\n독일이 기반모델에 대한 규제에 반대하며 협상이 난관에 봉착\\nn 프랑스, 이탈리아, 독일 3개국은 기반모델 개발기업에 대하여 자율적 행동강령을 도입하고\\n준수를 의무화하는 방안을 제안\\n£AI 법 3자 협상, 이사회 일부 국가가 기반모델 규제에 반대하며 차질\\nn 유럽의회, EU 집행위원회, EU 이사회가 ‘AI 법(AI act)’에 대한 최종협상을 진행 중인 가운데,\\n일부 국가가 기반모델에 대한 규제에 반대하며 협상이 난관에 봉착\\n∙ 10월 24일 열린 3자 협상 회의에서는 사회에 더 큰 영향을 미치는 강력한 AI 모델에 더 엄격한 규칙을\\n적용하는 계층적 접근방식에 따라 기반 모델 규제에 대한 기본적인 합의에 도달\\n∙ 그러나 11월 10일 열린 통신작업반 회의에서 EU 이사회의 프랑스, 독일, 이탈리아 대표가\\n기반모델에 대한 모든 유형의 규제에 반대하며 협상이 중단됨\\nn 유럽 정책 미디어 유랙티브(Euractive)에 따르면 프랑스 AI 기업 미스트랄(Mistral)이 로비를 통해\\n기반모델에 대한 규제 반대를 주도\\n∙ 독일의 대표적인 AI 기업 알레프 알파(Aleph Alpha) 역시 독일 정부에 압력을 행사하고 있으며, 이들\\n기업은 EU의 AI 규제로 인해 미국과 중국의 경쟁사보다 뒤처질 것을 우려\\n£독일, 프랑스, 이탈리아 3개국, 기반모델에 대한 ‘의무적 자율규제’ 제안\\nn 통신작업반 회의가 결렬된 이후 독일, 프랑스, 이탈리아는 2023년 11월 19일 비공식 문서를 통해\\n‘의무적 자율규제(Mandatory Self-regulation)’ 방식의 기반모델 규제를 제안\\n∙ 3개국은 기반모델 전반에 대한 규제가 기술 중립적이고 위험 기반의 AI 규제 원칙에 어긋난다고\\n주장하며 기반모델 전반에 대한 규제가 아닌, 특정 용도로 사용될 수 있는 AI 시스템에 대한 규제를 요구\\n∙ 3개국은 자발적인 행동강령을 도입하고 준수를 의무화하는 방안을 제안하며, 기반모델 개발기업에\\n머신러닝 기술 정보와 모델의 기능과 한계를 요약한 ‘모델 카드’ 작성을 요구하겠다고 설명\\n∙ 3개국은 AI 감독기관이 모델 카드를 토대로 기반모델 개발기업의 행동강령 준수 여부를 확인하되,\\n위반 시 곧바로 제재를 가하지 않고 위반행위 분석과 영향 평가를 시행한 후 제재하는 방안을 제안\\n☞ 출처: Euractiv, EU’s AI Act negotiations hit the brakes over foundation models, 2023.11.1.\\nEuractiv, France, Germany, Italy push for ‘mandatory self-regulation’ for foundation models in EU’s AI law, 2023.11.19.\\n6\\n'),\n",
       " Document(metadata={'source': 'data/SPRI_AI_Brief_2023년12월호_F.pdf', 'file_path': 'data/SPRI_AI_Brief_2023년12월호_F.pdf', 'page': 7, 'total_pages': 23, 'Author': 'dj', 'Creator': 'Hwp 2018 10.0.0.13462', 'Producer': 'Hancom PDF 1.3.0.542', 'CreationDate': \"D:20231208132838+09'00'\", 'ModDate': \"D:20231208132838+09'00'\", 'PDFVersion': '1.4'}, page_content='1. 정책/법제 2. 기업/산업 3. 기술/연구 4. 인력/교육\\n미국 연방거래위원회, 저작권청에 소비자 보호와 경쟁 측면의 AI 의견서 제출\\nKEY Contents\\nn 미국 FTC는 저작권청이 실시한 저작권과 AI 관련 질의공고에 대하여 소비자 보호와 경쟁\\n측면의 의견을 제시\\nn FTC는 생성 AI로 인한 창작자와 소비자 피해의 가능성에 우려를 표시하는 한편, 일부\\n빅테크가 막대한 재원을 활용해 시장 지배력을 더욱 강화할 수 있다는 우려를 제기\\n£FTC, 생성 AI로 인한 소비자와 창작자의 피해 및 빅테크의 시장 지배력 강화 우려\\nn 미국 연방거래위원회(FTC)가 2023년 10월 30일 저작권청(U.S. Copyright Office, USCO)이\\n지난 9월 발표한 저작권과 AI 관련 질의공고(Notice of Inquiry, NOI)에 대한 의견서를 발표\\n∙ 저작권청은 생성 AI와 관련된 저작권법과 정책 이슈를 조사하고 있으며, 폭넓은 의견 수렴을 통해\\n입법과 규제 조치의 필요성을 검토할 계획\\n∙ FTC는 생성 AI의 개발과 배포가 소비자, 근로자, 중소기업에 피해를 줄 수 있다며 소비자의 개인정보\\n침해, 차별과 편견의 자동화, 사기 범죄 등 AI 사용과 관련된 위험에 주목\\nn FTC는 저작권법에 따른 권리와 책임 범위를 넘어서는 저작권 문제에 주목하여 생성 AI로 인해\\n창작자의 경쟁력이 불공정한 피해를 볼 수 있으며, 소비자가 특정 창작자의 작품을 생성 AI가\\n만들었다고 오해할 소지가 있다고 지적\\n∙ 저작권법에 저촉되는 행위는 불공정 경쟁이나 기만행위에도 해당될 수 있으며, 창작자의 평판 악화,\\n저작물의 가치 저하나 개인정보 유출로 소비자에 상당한 피해를 초래 가능\\nn FTC는 일부 빅테크가 막대한 재원을 활용해 생성 AI 사용자의 이탈을 막고 저작권이 있는 상용\\n데이터에 대한 독점 라이선스를 확보해 시장 지배력을 더욱 강화할 수 있다는 우려도 제기\\n∙ 이와 관련 FTC는 아마존 AI 비서 ‘알렉사(Alexa)’와 스마트홈 보안 기기 ‘링(Ring)’이 소비자의 사적\\n정보를 알고리즘 훈련에 사용하여 프라이버시를 침해한 혐의를 조사하는 등 법적 권한을 활용해 AI\\n관련 불법 행위에 대처하고 있음\\n* FTC는 2023년 5월 31일 동의를 받지 않고 어린이들의 음성과 위치 정보를 활용한 ‘알렉사’와 고객의 사적 영상에 대하여\\n직원에게 무제한 접근 권한을 부여한 ‘링’에 3,080만 달러(약 420억 원)의 과징금을 부과\\nn FTC는 빠르게 발전하는 생성 AI가 여러 산업과 비즈니스에 변화를 가져올 수 있지만, 현행법상\\nAI에 관한 예외 조항은 없다며, 모든 권한을 활용해 소비자를 보호하고 개방적이고 공정한 경쟁\\n시장을 유지하겠다고 강조\\n☞ 출처: FTC, In Comment Submitted to U.S. Copyright Office, FTC Raises AI-related Competition and\\nConsumer Protection Issues, Stressing That It Will Use Its Authority to Protect Competition and\\nConsumers in AI Markets, 2023.10.30.\\n'),\n",
       " Document(metadata={'source': 'data/SPRI_AI_Brief_2023년12월호_F.pdf', 'file_path': 'data/SPRI_AI_Brief_2023년12월호_F.pdf', 'page': 6, 'total_pages': 23, 'Author': 'dj', 'Creator': 'Hwp 2018 10.0.0.13462', 'Producer': 'Hancom PDF 1.3.0.542', 'CreationDate': \"D:20231208132838+09'00'\", 'ModDate': \"D:20231208132838+09'00'\", 'PDFVersion': '1.4'}, page_content='SPRi AI Brief |\\n2023-12월호\\n미국 법원, 예술가들이 생성 AI 기업에 제기한 저작권 소송 기각\\nKEY Contents\\nn 미국 캘리포니아 북부지방법원은 미드저니, 스태빌리티AI, 디비언트아트를 대상으로 예술가\\n3인이 제기한 저작권 침해 소송을 기각\\nn 법원은 기각 이유로 고소장에 제시된 상당수 작품이 저작권청에 등록되지 않았으며, AI로\\n생성된 이미지와 특정 작품 간 유사성을 입증하기 어렵다는 점을 제시\\n£예술가들의 AI 저작권 침해 소송, 저작권 미등록과 증거불충분으로 기각\\nn 미국 캘리포니아 북부지방법원의 윌리엄 오릭(William Orrick) 판사는 2023년 10월 30일 미드저니\\n(Midjourney), 스태빌리티AI(Stability AI), 디비언트아트(DeviantArt)에 제기된 저작권 침해 소송을 기각\\n∙ 2023년 1월 예술가 사라 앤더슨(Sarah Anderson), 캘리 맥커넌(Kelly McKernan), 칼라\\n오르티즈(Karla Ortiz)는 이미지 생성 AI 서비스를 개발한 3개 기업을 상대로 저작권 침해 소송을 제기\\n∙ 예술가들은 3개 기업이 AI 모델을 학습시키기 위해 원작자 동의 없이 작품을 학습 데이터셋에\\n포함하여 저작권을 침해했다고 주장했으며, 법원은 지난 4월 피소 기업들이 제출한 기각 신청을\\n수용해 소송을 기각\\nn 오릭 판사는 판결문에서 소송을 기각한 핵심 이유로 예술가들의 저작권 미등록을 제시\\n∙ 판결문은 소송을 제기한 캘리 맥커넌과 칼라 오르티즈가 미국 저작권청에 예술 작품에 대한 저작권을\\n제출하지 않았다는 점을 지적했으며, 사라 앤더슨은 고소장에 인용된 수백 개의 작품 중 16개 작품에\\n대해서만 저작권을 보유\\nn 판결문은 또한 생성 AI 모델 훈련에 사용된 모든 이미지에 저작권이 있다거나, 생성 AI로 만든\\n이미지가 저작물을 이용해 훈련되었으므로 저작물의 파생 이미지라는 주장은 개연성이 부족하다고\\n지적\\n∙ AI는 새로운 이미지를 생성할 때 다양한 예술가의 작품을 참조하므로, 생성된 이미지와 저작권을 가진\\n특정 작품과의 실질적 유사성을 입증할 수 없다면 저작권 침해를 인정받기 어려움\\nn 오릭 판사는 원고 측에 고소장을 수정하고 저작권이 침해된 특정 이미지를 중심으로 소송 범위를\\n줄여 소송을 다시 제기할 것을 요청\\n∙ 단, 사라 앤더슨이 저작권을 보유한 16개 작품을 무단으로 복제한 스태빌리티AI에 대한 저작권 침해\\n소송은 인정되어 계속 진행됨\\n☞ 출처: Venturebeat, Midjourney, Stability AI and DeviantArt win a victory in copyright case by artists- but the\\nfight continues, 2023.10.30.\\n4\\n'),\n",
       " Document(metadata={'source': 'data/SPRI_AI_Brief_2023년12월호_F.pdf', 'file_path': 'data/SPRI_AI_Brief_2023년12월호_F.pdf', 'page': 5, 'total_pages': 23, 'Author': 'dj', 'Creator': 'Hwp 2018 10.0.0.13462', 'Producer': 'Hancom PDF 1.3.0.542', 'CreationDate': \"D:20231208132838+09'00'\", 'ModDate': \"D:20231208132838+09'00'\", 'PDFVersion': '1.4'}, page_content='1. 정책/법제 2. 기업/산업 3. 기술/연구 4. 인력/교육\\n영국 AI 안전성 정상회의에 참가한 28개국, AI 위험에 공동 대응 선언\\nKEY Contents\\nn 영국 블레츨리 파크에서 개최된 AI 안전성 정상회의에 참가한 28개국들이 AI 안전 보장을\\n위한 협력 방안을 담은 블레츨리 선언을 발표\\nn 첨단 AI를 개발하는 국가와 기업들은 AI 시스템에 대한 안전 테스트 계획에 합의했으며,\\n영국의 AI 안전 연구소가 전 세계 국가와 협력해 테스트를 주도할 예정\\n£AI 안전성 정상회의 참가국들, 블레츨리 선언 통해 AI 안전 보장을 위한 협력에 합의\\nn 2023년 11월 1~2일 영국 블레츨리 파크에서 열린 AI 안전성 정상회의(AI Safety Summit)에\\n참가한 28개국 대표들이 AI 위험 관리를 위한 ‘블레츨리 선언’을 발표\\n∙ 선언은 AI 안전 보장을 위해 국가, 국제기구, 기업, 시민사회, 학계를 포함한 모든 이해관계자의 협력이\\n중요하다고 강조했으며, 특히 최첨단 AI 시스템 개발 기업은 안전 평가를 비롯한 적절한 조치를 취하여\\nAI 시스템의 안전을 보장할 책임이 있다고 지적\\n∙ 각국은 AI 안전 보장을 위해 첨단 AI 개발기업의 투명성 향상, 적절한 평가지표와 안전 테스트 도구\\n개발, 공공부문 역량 구축과 과학 연구개발 등의 분야에서 협력하기로 합의\\n£영국 총리, 정부 주도의 첨단 AI 시스템 안전 테스트 계획 발표\\nn 리시 수낙 영국 총리는 AI 안전성 정상회의를 마무리하며 첨단 AI 모델에 대한 안전성 시험 계획\\n수립과 테스트 수행을 주도할 영국 AI 안전 연구소의 출범을 발표\\n∙ 첨단 AI 모델의 안전 테스트는 국가 안보와 안전, 사회적 피해를 포함한 여러 잠재적 유해 기능에 대한\\n시험을 포함하며, 참석자들은 정부 주도의 외부 안전 테스트에 합의\\n∙ 각국 정부는 테스트와 기타 안전 연구를 위한 공공부문 역량에 투자하고, 테스트 결과가 다른 국가와\\n관련된 경우 해당 국가와 결과를 공유하며, 적절한 시기에 공동 표준 개발을 위해 노력하기로 합의\\nn 참가국들은 튜링상을 수상한 AI 학자인 요슈아 벤지오 교수가 주도하는 ‘과학의 현황(State of\\nthe Science)’ 보고서 작성에도 합의했으며, 보고서를 통해 첨단 AI의 위험과 가능성에 관한\\n기존 연구를 과학적으로 평가하고 향후 AI 안전 연구를 위한 우선순위를 제시할 계획\\nn 한국은 영국 정부와 6개월 뒤에 온라인으로 AI 미니 정상회의를 공동 개최하기로 합의했으며,\\n프랑스 정부와는 1년 후 대면 정상회의를 개최할 예정\\n☞ 출처: Gov.uk, The Bletchley Declaration by Countries Attending the AI Safety Summit, 1-2 November 2023, 2023.11.01.\\nGov.uk, World leaders, top AI companies set out plan for safety testing of frontier as first global AI Safety Summit\\nconcludes, 2023.11.02.\\n'),\n",
       " Document(metadata={'source': 'data/SPRI_AI_Brief_2023년12월호_F.pdf', 'file_path': 'data/SPRI_AI_Brief_2023년12월호_F.pdf', 'page': 4, 'total_pages': 23, 'Author': 'dj', 'Creator': 'Hwp 2018 10.0.0.13462', 'Producer': 'Hancom PDF 1.3.0.542', 'CreationDate': \"D:20231208132838+09'00'\", 'ModDate': \"D:20231208132838+09'00'\", 'PDFVersion': '1.4'}, page_content='SPRi AI Brief |\\n2023-12월호\\nG7, 히로시마 AI 프로세스를 통해 AI 기업 대상 국제 행동강령에 합의\\nKEY Contents\\nn G7이 첨단 AI 시스템을 개발하는 기업을 대상으로 AI 위험 식별과 완화를 위해 자발적인\\n채택을 권고하는 AI 국제 행동강령을 마련\\nn 행동강령은 AI 수명주기 전반에 걸친 위험 평가와 완화, 투명성과 책임성의 보장, 정보공유와\\n이해관계자 간 협력, 보안 통제, 콘텐츠 인증과 출처 확인 등의 조치를 요구\\n£G7, 첨단 AI 시스템의 위험 관리를 위한 국제 행동강령 마련\\nn 주요 7개국(G7)*은 2023년 10월 30일 ‘히로시마 AI 프로세스’를 통해 AI 기업 대상의 AI 국제\\n행동강령(International Code of Conduct for Advanced AI Systems)에 합의\\n∙ G7은 2023년 5월 일본 히로시마에서 개최된 정상회의에서 생성 AI에 관한 국제규범 마련과\\n정보공유를 위해 ‘히로시마 AI 프로세스’를 출범**\\n∙ 기업의 자발적 채택을 위해 마련된 이번 행동강령은 기반모델과 생성 AI를 포함한 첨단 AI 시스템의\\n위험 식별과 완화에 필요한 조치를 포함\\n* 주요 7개국(G7)은 미국, 일본, 독일, 영국, 프랑스, 이탈리아, 캐나다를 의미\\n** 5월 정상회의에는 한국, 호주, 베트남 등을 포함한 8개국이 초청을 받았으나, AI 국제 행동강령에는 우선 G7 국가만 포함하여 채택\\nn G7은 행동강령을 통해 아래의 조치를 제시했으며, 빠르게 발전하는 기술에 대응할 수 있도록\\n이해관계자 협의를 통해 필요에 따라 개정할 예정\\n∙ 첨단 AI 시스템의 개발 과정에서 AI 수명주기 전반에 걸쳐 위험을 평가 및 완화하는 조치를 채택하고,\\n첨단 AI 시스템의 출시와 배포 이후 취약점과 오용 사고, 오용 유형을 파악해 완화\\n∙ 첨단 AI 시스템의 성능과 한계를 공개하고 적절하거나 부적절한 사용영역을 알리는 방법으로 투명성을\\n보장하고 책임성을 강화\\n∙ 산업계, 정부, 시민사회, 학계를 포함해 첨단 AI 시스템을 개발하는 조직 간 정보공유와 사고 발생 시\\n신고를 위해 협력하고, 위험 기반 접근방식을 토대로 개인정보보호 정책과 위험 완화 조치를 포함하는\\nAI 거버넌스와 위험 관리 정책을 마련\\n∙ AI 수명주기 전반에 걸쳐 물리보안, 사이버보안, 내부자 위협 보안을 포함한 강력한 보안 통제 구현\\n∙ 사용자가 AI 생성 콘텐츠를 식별할 수 있도록 워터마크를 비롯하여 기술적으로 가능한 기법으로\\n신뢰할 수 있는 콘텐츠 인증과 출처 확인 메커니즘을 개발 및 구축\\n∙ 사회적 위험과 안전·보안 문제를 완화하는 연구와 효과적인 완화 대책에 우선 투자하고, 기후 위기\\n대응, 세계 보건과 교육 등 세계적 난제 해결을 위한 첨단 AI 시스템을 우선 개발\\n∙ 국제 기술 표준의 개발 및 채택을 가속화하고, 개인정보와 지식재산권 보호를 위해 데이터 입력과 수집\\n시 적절한 보호 장치 구현\\n☞ 출처: G7, Hiroshima Process International Code of Conduct for Advanced AI Systems, 2023.10.30.\\n2\\n'),\n",
       " Document(metadata={'source': 'data/SPRI_AI_Brief_2023년12월호_F.pdf', 'file_path': 'data/SPRI_AI_Brief_2023년12월호_F.pdf', 'page': 3, 'total_pages': 23, 'Author': 'dj', 'Creator': 'Hwp 2018 10.0.0.13462', 'Producer': 'Hancom PDF 1.3.0.542', 'CreationDate': \"D:20231208132838+09'00'\", 'ModDate': \"D:20231208132838+09'00'\", 'PDFVersion': '1.4'}, page_content='1. 정책/법제 2. 기업/산업 3. 기술/연구 4. 인력/교육\\n미국, 안전하고 신뢰할 수 있는 AI 개발과 사용에 관한 행정명령 발표\\nKEY Contents\\nn 미국 바이든 대통령이 ‘안전하고 신뢰할 수 있는 AI 개발과 사용에 관한 행정명령’에 서명하고\\n광범위한 행정 조치를 명시\\nn 행정명령은 △AI의 안전과 보안 기준 마련 △개인정보보호 △형평성과 시민권 향상 △소비자\\n보호 △노동자 지원 △혁신과 경쟁 촉진 △국제협력을 골자로 함\\n£바이든 대통령, AI 행정명령 통해 안전하고 신뢰할 수 있는 AI 개발과 활용 추진\\nn 미국 바이든 대통령이 2023년 10월 30일 연방정부 차원에서 안전하고 신뢰할 수 있는 AI 개발과\\n사용을 보장하기 위한 행정명령을 발표\\n∙ 행정명령은 △AI의 안전과 보안 기준 마련 △개인정보보호 △형평성과 시민권 향상 △소비자 보호\\n△노동자 지원 △혁신과 경쟁 촉진 △국제협력에 관한 내용을 포괄\\nn (AI 안전과 보안 기준) 강력한 AI 시스템을 개발하는 기업에게 안전 테스트 결과와 시스템에 관한\\n주요 정보를 미국 정부와 공유할 것을 요구하고, AI 시스템의 안전성과 신뢰성 확인을 위한 표준 및\\nAI 생성 콘텐츠 표시를 위한 표준과 모범사례 확립을 추진\\n∙ △1026 플롭스(FLOPS, Floating Point Operation Per Second)를 초과하는 컴퓨팅 성능 또는 생물학적\\n서열 데이터를 주로 사용하고 1023플롭스를 초과하는 컴퓨팅 성능을 사용하는 모델 △단일 데이터센터에서\\n1,000Gbit/s 이상의 네트워킹으로 연결되며 AI 훈련에서 이론상 최대 1020 플롭스를 처리할 수 있는\\n컴퓨팅 용량을 갖춘 컴퓨팅 클러스터가 정보공유 요구대상\\nn (형평성과 시민권 향상) 법률, 주택, 보건 분야에서 AI의 무책임한 사용으로 인한 차별과 편견 및 기타\\n문제를 방지하는 조치를 확대\\n∙ 형사사법 시스템에서 AI 사용 모범사례를 개발하고, 주택 임대 시 AI 알고리즘 차별을 막기 위한 명확한\\n지침을 제공하며, 보건복지 부문에서 책임 있는 AI 배포와 사용을 위한 전략을 마련\\nn (소비자 보호와 근로자 지원) 의료 분야에서 책임 있는 AI 사용을 촉진하고 맞춤형 개인교습 등 학교\\n내 AI 교육 도구 관련 자원을 개발하며, AI로 인한 근로자 피해를 완화하고 이점을 극대화하는 원칙과\\n모범사례를 마련\\nn (혁신과 경쟁 촉진) 국가AI연구자원(National Artificial Intelligence Research Resource, NAIRR)*을\\n통해 미국 전역의 AI 연구를 촉진하고, 중소기업과 개발자에 기술과 인프라를 지원\\n* 국가 차원에서 AI 연구 인프라를 확충해 더 많은 AI 연구자에게 인프라를 지원하는 프로그램\\n∙ 비자 기준과 인터뷰 절차의 현대화와 간소화로 AI 관련 주요 분야의 전문 지식을 갖춘 외국인들이 미국에서\\n공부하고 취업할 수 있도록 지원\\n☞ 출처 : The White House, Executive Order on the Safe, Secure, and Trustworthy Development and Use of\\nArtificial Intelligence (E.O. 14110), 2023.10.30.\\n'),\n",
       " Document(metadata={'source': 'data/SPRI_AI_Brief_2023년12월호_F.pdf', 'file_path': 'data/SPRI_AI_Brief_2023년12월호_F.pdf', 'page': 2, 'total_pages': 23, 'Author': 'dj', 'Creator': 'Hwp 2018 10.0.0.13462', 'Producer': 'Hancom PDF 1.3.0.542', 'CreationDate': \"D:20231208132838+09'00'\", 'ModDate': \"D:20231208132838+09'00'\", 'PDFVersion': '1.4'}, page_content='Ⅰ\\n. 인공지능 산업 동향 브리프\\n'),\n",
       " Document(metadata={'source': 'data/SPRI_AI_Brief_2023년12월호_F.pdf', 'file_path': 'data/SPRI_AI_Brief_2023년12월호_F.pdf', 'page': 1, 'total_pages': 23, 'Author': 'dj', 'Creator': 'Hwp 2018 10.0.0.13462', 'Producer': 'Hancom PDF 1.3.0.542', 'CreationDate': \"D:20231208132838+09'00'\", 'ModDate': \"D:20231208132838+09'00'\", 'PDFVersion': '1.4'}, page_content='2023년 12월호\\nⅠ\\n. 인공지능 산업 동향 브리프\\n1. 정책/법제\\n▹ 미국, 안전하고 신뢰할 수 있는 AI 개발과 사용에 관한 행정명령 발표 ·························1\\n▹ G7, 히로시마 AI 프로세스를 통해 AI 기업 대상 국제 행동강령에 합의···························2\\n▹ 영국 AI 안전성 정상회의에 참가한 28개국, AI 위험에 공동 대응 선언···························3\\n▹ 미국 법원, 예술가들이 생성 AI 기업에 제기한 저작권 소송 기각·····································4\\n▹ 미국 연방거래위원회, 저작권청에 소비자 보호와 경쟁 측면의 AI 의견서 제출·················5\\n▹ EU AI 법 3자 협상, 기반모델 규제 관련 견해차로 난항···················································6\\n2. 기업/산업\\n▹ 미국 프런티어 모델 포럼, 1,000만 달러 규모의 AI 안전 기금 조성································7\\n▹ 코히어, 데이터 투명성 확보를 위한 데이터 출처 탐색기 공개 ·······································8\\n▹ 알리바바 클라우드, 최신 LLM ‘통이치엔원 2.0’ 공개 ······················································9\\n▹ 삼성전자, 자체 개발 생성 AI ‘삼성 가우스’ 공개 ···························································10\\n▹ 구글, 앤스로픽에 20억 달러 투자로 생성 AI 협력 강화 ················································11\\n▹ IDC, 2027년 AI 소프트웨어 매출 2,500억 달러 돌파 전망···········································12\\n▹ 빌 게이츠, AI 에이전트로 인한 컴퓨터 사용의 패러다임 변화 전망································13\\n▹ 유튜브, 2024년부터 AI 생성 콘텐츠 표시 의무화····························································14\\n3. 기술/연구\\n▹ 영국 과학혁신기술부, AI 안전 연구소 설립 발표······························································15\\n▹ 구글 딥마인드, 범용 AI 모델의 기능과 동작에 대한 분류 체계 발표······························16\\n▹ 갈릴레오의 LLM 환각 지수 평가에서 GPT-4가 가장 우수 ···········································17\\n4. 인력/교육\\n▹ 영국 옥스퍼드 인터넷 연구소, AI 기술자의 임금이 평균 21% 높아·······························18\\nⅡ\\n. 주요 행사\\n▹CES 2024·····························································································································19\\n▹AIMLA 2024·························································································································19\\n▹AAAI Conference on Artificial Intelligence··································································19\\n'),\n",
       " Document(metadata={'source': 'data/SPRI_AI_Brief_2023년12월호_F.pdf', 'file_path': 'data/SPRI_AI_Brief_2023년12월호_F.pdf', 'page': 0, 'total_pages': 23, 'Author': 'dj', 'Creator': 'Hwp 2018 10.0.0.13462', 'Producer': 'Hancom PDF 1.3.0.542', 'CreationDate': \"D:20231208132838+09'00'\", 'ModDate': \"D:20231208132838+09'00'\", 'PDFVersion': '1.4'}, page_content='12\\n2023년 월호\\n')]"
      ]
     },
     "execution_count": 7,
     "metadata": {},
     "output_type": "execute_result"
    }
   ],
   "source": [
    "d_reversed"
   ]
  },
  {
   "cell_type": "markdown",
   "id": "50a33263",
   "metadata": {},
   "source": [
    "`RecursiveCharacterTextSplitter`를 사용하여 텍스트를 분할합니다."
   ]
  },
  {
   "cell_type": "code",
   "execution_count": 8,
   "id": "8982e516",
   "metadata": {},
   "outputs": [],
   "source": [
    "# 텍스트 분할을 위한 코드\n",
    "from langchain_text_splitters import RecursiveCharacterTextSplitter\n",
    "\n",
    "# 기준 토큰수\n",
    "chunk_size = 100\n",
    "\n",
    "# 텍스트 분할기 초기화\n",
    "text_splitter = RecursiveCharacterTextSplitter.from_tiktoken_encoder(\n",
    "    chunk_size=chunk_size, chunk_overlap=0\n",
    ")\n",
    "\n",
    "# 주어진 텍스트를 분할\n",
    "texts_split = text_splitter.split_text(concatenated_content)"
   ]
  },
  {
   "cell_type": "code",
   "execution_count": 9,
   "id": "5cc32eab",
   "metadata": {},
   "outputs": [
    {
     "data": {
      "text/plain": [
       "770"
      ]
     },
     "execution_count": 9,
     "metadata": {},
     "output_type": "execute_result"
    }
   ],
   "source": [
    "len(texts_split)"
   ]
  },
  {
   "cell_type": "markdown",
   "id": "dcc0990c",
   "metadata": {},
   "source": [
    "다음으로는 분할된 chunk 들을 임베딩하여 vector store 에 저장합니다."
   ]
  },
  {
   "cell_type": "code",
   "execution_count": 10,
   "id": "b7d18ea6",
   "metadata": {},
   "outputs": [],
   "source": [
    "from langchain_openai import OpenAIEmbeddings\n",
    "from langchain.embeddings import CacheBackedEmbeddings\n",
    "from langchain.storage import LocalFileStore\n",
    "\n",
    "# cache 저장 경로 지정\n",
    "store = LocalFileStore(\"./cache/\")\n",
    "\n",
    "# embeddings 인스턴스를 생성\n",
    "embeddings = OpenAIEmbeddings(model=\"text-embedding-3-small\", disallowed_special=())\n",
    "\n",
    "# CacheBackedEmbeddings 인스턴스를 생성\n",
    "# 한 번 계산한 임베딩을 다시 계산하지 않도록 디스크(./cache/)에 저장해서 속도를 빠르게 하고 비용도 줄이는 구조\n",
    "cached_embeddings = CacheBackedEmbeddings.from_bytes_store(\n",
    "    embeddings, store, namespace=embeddings.model\n",
    ")"
   ]
  },
  {
   "cell_type": "code",
   "execution_count": 18,
   "id": "cb0ff13c",
   "metadata": {},
   "outputs": [
    {
     "name": "stdout",
     "output_type": "stream",
     "text": [
      "['__abstractmethods__', '__annotations__', '__class__', '__delattr__', '__dict__', '__dir__', '__doc__', '__eq__', '__format__', '__ge__', '__getattribute__', '__getstate__', '__gt__', '__hash__', '__init__', '__init_subclass__', '__le__', '__lt__', '__module__', '__ne__', '__new__', '__reduce__', '__reduce_ex__', '__repr__', '__setattr__', '__sizeof__', '__slots__', '__str__', '__subclasshook__', '__weakref__', '_abc_impl', 'aembed_documents', 'aembed_query', 'batch_size', 'document_embedding_store', 'embed_documents', 'embed_query', 'from_bytes_store', 'query_embedding_store', 'underlying_embeddings']\n"
     ]
    }
   ],
   "source": [
    "print(dir(cached_embeddings))"
   ]
  },
  {
   "cell_type": "markdown",
   "id": "24bcae7c",
   "metadata": {},
   "source": [
    "## 모델 설정"
   ]
  },
  {
   "cell_type": "code",
   "execution_count": 11,
   "id": "a48631ba",
   "metadata": {},
   "outputs": [],
   "source": [
    "from langchain_teddynote.messages import stream_response\n",
    "from langchain_openai import ChatOpenAI\n",
    "\n",
    "\n",
    "# llm 모델 초기화\n",
    "llm = ChatOpenAI(\n",
    "    model=\"gpt-4.1-mini\",\n",
    "    temperature=0,\n",
    ")"
   ]
  },
  {
   "cell_type": "markdown",
   "id": "b89741a7",
   "metadata": {},
   "source": [
    "## 트리 구축\n",
    "\n",
    "트리 구축에서의 클러스터링 접근 방식에 대한 주요 개요입니다.\n",
    "\n",
    "**GMM (가우시안 혼합 모델)**\n",
    "\n",
    "- 다양한 클러스터에 걸쳐 데이터 포인트의 분포를 모델링합니다.\n",
    "- 모델의 베이지안 정보 기준(BIC)을 평가하여 최적의 클러스터 수를 결정합니다.\n",
    "\n",
    "**UMAP (Uniform Manifold Approximation and Projection)**\n",
    "\n",
    "- 클러스터링을 지원합니다.\n",
    "- 고차원 데이터의 차원을 축소합니다.\n",
    "- UMAP은 데이터 포인트의 유사성에 기반하여 자연스러운 그룹화를 강조하는 데 도움을 줍니다.\n",
    "\n",
    "**지역 및 전역 클러스터링**\n",
    "\n",
    "- 데이터를 저차원으로 차원 축소하여 클러스터링을 수행합니다.\n",
    "\n",
    "**임계값 설정**\n",
    "\n",
    "- GMM의 맥락에서 클러스터 멤버십을 결정하기 위해 적용됩니다.\n",
    "- 확률 분포를 기반으로 합니다(데이터 포인트를 ≥ 1 클러스터에 할당).\n",
    "\n",
    "---\n",
    "\n",
    "GMM 및 임계값 설정에 대한 코드는 아래 두 출처에서 언급된 Sarthi et al의 것입니다. \n",
    "\n",
    "**참조**\n",
    "\n",
    "- [원본 저장소](https://github.com/parthsarthi03/raptor/blob/master/raptor/cluster_tree_builder.py)\n",
    "- [소소한 조정](https://github.com/run-llama/llama_index/blob/main/llama-index-packs/llama-index-packs-raptor/llama_index/packs/raptor/clustering.py)"
   ]
  },
  {
   "cell_type": "markdown",
   "id": "a6bd9d71",
   "metadata": {},
   "source": [
    "### 차원 축소\n",
    "\n",
    "`global_cluster_embeddings`\n",
    "\n",
    "- 입력된 임베딩 벡터를 전역적으로 차원 축소하기 위해 UMAP을 적용합니다. 전역적으로 차원을 축소한 결과물을 얻어 추후 클러스터링에 활용합니다.\n",
    "\n",
    "**과정**\n",
    "\n",
    "- n_neighbors: UMAP에 사용될 이웃(neighbor) 수를 정합니다. 데이터 포인트 하나를 이해할 때 주변 데이터 포인트 개수를 나타냅니다. 입력이 없으면 데이터 개수에 따라 자동으로 계산합니다.\n",
    "- umap.UMAP(...)를 사용하여, 고차원 임베딩을 dim 차원으로 축소합니다.\n",
    "- 축소된 벡터들은 전역적(global)인 구조 파악에 도움이 되는 저차원 표현입니다.\n",
    "\n",
    "---\n",
    "\n",
    "`local_cluster_embeddings`\n",
    "\n",
    "- 선택한 데이터 부분집합에 대해 로컬(국소적) 차원 축소를 수행합니다.\n",
    "\n",
    "**과정**\n",
    "\n",
    "- 글로벌 차원 축소와 유사하지만, 로컬 차원 축소는 이미 한 번 전역 클러스터링을 통해 추출한 특정 그룹(글로벌 클러스터) 내 데이터에 대해 다시 UMAP을 적용합니다.\n",
    "- 이 과정은 전역적으로 파악된 큰 구조 안에서 더 세밀한 클러스터 구조를 파악하는 데 도움이 됩니다."
   ]
  },
  {
   "cell_type": "code",
   "execution_count": 13,
   "id": "6cb716b2",
   "metadata": {},
   "outputs": [
    {
     "name": "stdout",
     "output_type": "stream",
     "text": [
      "Collecting umap-learn\n",
      "  Downloading umap_learn-0.5.9.post2-py3-none-any.whl.metadata (25 kB)\n",
      "Requirement already satisfied: numpy>=1.23 in c:\\users\\user\\appdata\\local\\pypoetry\\cache\\virtualenvs\\langchain-kr-kbdaaxj8-py3.12\\lib\\site-packages (from umap-learn) (1.26.4)\n",
      "Requirement already satisfied: scipy>=1.3.1 in c:\\users\\user\\appdata\\local\\pypoetry\\cache\\virtualenvs\\langchain-kr-kbdaaxj8-py3.12\\lib\\site-packages (from umap-learn) (1.16.0)\n",
      "Requirement already satisfied: scikit-learn>=1.6 in c:\\users\\user\\appdata\\local\\pypoetry\\cache\\virtualenvs\\langchain-kr-kbdaaxj8-py3.12\\lib\\site-packages (from umap-learn) (1.7.0)\n",
      "Collecting numba>=0.51.2 (from umap-learn)\n",
      "  Downloading numba-0.61.2-cp312-cp312-win_amd64.whl.metadata (2.9 kB)\n",
      "Collecting pynndescent>=0.5 (from umap-learn)\n",
      "  Downloading pynndescent-0.5.13-py3-none-any.whl.metadata (6.8 kB)\n",
      "Requirement already satisfied: tqdm in c:\\users\\user\\appdata\\local\\pypoetry\\cache\\virtualenvs\\langchain-kr-kbdaaxj8-py3.12\\lib\\site-packages (from umap-learn) (4.67.1)\n",
      "Collecting llvmlite<0.45,>=0.44.0dev0 (from numba>=0.51.2->umap-learn)\n",
      "  Downloading llvmlite-0.44.0-cp312-cp312-win_amd64.whl.metadata (5.0 kB)\n",
      "Requirement already satisfied: joblib>=0.11 in c:\\users\\user\\appdata\\local\\pypoetry\\cache\\virtualenvs\\langchain-kr-kbdaaxj8-py3.12\\lib\\site-packages (from pynndescent>=0.5->umap-learn) (1.5.1)\n",
      "Requirement already satisfied: threadpoolctl>=3.1.0 in c:\\users\\user\\appdata\\local\\pypoetry\\cache\\virtualenvs\\langchain-kr-kbdaaxj8-py3.12\\lib\\site-packages (from scikit-learn>=1.6->umap-learn) (3.6.0)\n",
      "Requirement already satisfied: colorama in c:\\users\\user\\appdata\\local\\pypoetry\\cache\\virtualenvs\\langchain-kr-kbdaaxj8-py3.12\\lib\\site-packages (from tqdm->umap-learn) (0.4.6)\n",
      "Downloading umap_learn-0.5.9.post2-py3-none-any.whl (90 kB)\n",
      "Downloading numba-0.61.2-cp312-cp312-win_amd64.whl (2.8 MB)\n",
      "   ---------------------------------------- 0.0/2.8 MB ? eta -:--:--\n",
      "   ------------------------- -------------- 1.8/2.8 MB 10.0 MB/s eta 0:00:01\n",
      "   ---------------------------------------- 2.8/2.8 MB 9.7 MB/s eta 0:00:00\n",
      "Downloading llvmlite-0.44.0-cp312-cp312-win_amd64.whl (30.3 MB)\n",
      "   ---------------------------------------- 0.0/30.3 MB ? eta -:--:--\n",
      "   -- ------------------------------------- 1.8/30.3 MB 10.1 MB/s eta 0:00:03\n",
      "   ----- ---------------------------------- 3.9/30.3 MB 9.8 MB/s eta 0:00:03\n",
      "   ------- -------------------------------- 6.0/30.3 MB 9.7 MB/s eta 0:00:03\n",
      "   ---------- ----------------------------- 8.1/30.3 MB 9.9 MB/s eta 0:00:03\n",
      "   ------------- -------------------------- 10.2/30.3 MB 9.8 MB/s eta 0:00:03\n",
      "   ---------------- ----------------------- 12.3/30.3 MB 9.9 MB/s eta 0:00:02\n",
      "   ------------------- -------------------- 14.4/30.3 MB 9.8 MB/s eta 0:00:02\n",
      "   --------------------- ------------------ 16.5/30.3 MB 9.9 MB/s eta 0:00:02\n",
      "   ------------------------ --------------- 18.6/30.3 MB 9.9 MB/s eta 0:00:02\n",
      "   -------------------------- ------------- 20.4/30.3 MB 9.9 MB/s eta 0:00:01\n",
      "   ----------------------------- ---------- 22.3/30.3 MB 9.7 MB/s eta 0:00:01\n",
      "   ------------------------------- -------- 24.1/30.3 MB 9.7 MB/s eta 0:00:01\n",
      "   ---------------------------------- ----- 26.0/30.3 MB 9.6 MB/s eta 0:00:01\n",
      "   ------------------------------------ --- 28.0/30.3 MB 9.6 MB/s eta 0:00:01\n",
      "   ---------------------------------------  30.1/30.3 MB 9.6 MB/s eta 0:00:01\n",
      "   ---------------------------------------- 30.3/30.3 MB 9.5 MB/s eta 0:00:00\n",
      "Downloading pynndescent-0.5.13-py3-none-any.whl (56 kB)\n",
      "Installing collected packages: llvmlite, numba, pynndescent, umap-learn\n",
      "\n",
      "   ---------------------------------------- 0/4 [llvmlite]\n",
      "   ---------------------------------------- 0/4 [llvmlite]\n",
      "   ---------------------------------------- 0/4 [llvmlite]\n",
      "   ---------------------------------------- 0/4 [llvmlite]\n",
      "   ---------- ----------------------------- 1/4 [numba]\n",
      "   ---------- ----------------------------- 1/4 [numba]\n",
      "   ---------- ----------------------------- 1/4 [numba]\n",
      "   ---------- ----------------------------- 1/4 [numba]\n",
      "   ---------- ----------------------------- 1/4 [numba]\n",
      "   ---------- ----------------------------- 1/4 [numba]\n",
      "   ---------- ----------------------------- 1/4 [numba]\n",
      "   ---------- ----------------------------- 1/4 [numba]\n",
      "   ---------- ----------------------------- 1/4 [numba]\n",
      "   ---------- ----------------------------- 1/4 [numba]\n",
      "   ---------- ----------------------------- 1/4 [numba]\n",
      "   ---------- ----------------------------- 1/4 [numba]\n",
      "   ---------- ----------------------------- 1/4 [numba]\n",
      "   ---------- ----------------------------- 1/4 [numba]\n",
      "   ---------- ----------------------------- 1/4 [numba]\n",
      "   ---------- ----------------------------- 1/4 [numba]\n",
      "   ---------- ----------------------------- 1/4 [numba]\n",
      "   ---------- ----------------------------- 1/4 [numba]\n",
      "   ---------- ----------------------------- 1/4 [numba]\n",
      "   ---------- ----------------------------- 1/4 [numba]\n",
      "   ---------- ----------------------------- 1/4 [numba]\n",
      "   ---------- ----------------------------- 1/4 [numba]\n",
      "   ---------- ----------------------------- 1/4 [numba]\n",
      "   ---------- ----------------------------- 1/4 [numba]\n",
      "   ---------- ----------------------------- 1/4 [numba]\n",
      "   ---------- ----------------------------- 1/4 [numba]\n",
      "   ---------- ----------------------------- 1/4 [numba]\n",
      "   ---------- ----------------------------- 1/4 [numba]\n",
      "   ---------- ----------------------------- 1/4 [numba]\n",
      "   ---------- ----------------------------- 1/4 [numba]\n",
      "   ---------- ----------------------------- 1/4 [numba]\n",
      "   ---------- ----------------------------- 1/4 [numba]\n",
      "   ---------- ----------------------------- 1/4 [numba]\n",
      "   ---------- ----------------------------- 1/4 [numba]\n",
      "   ---------- ----------------------------- 1/4 [numba]\n",
      "   ---------- ----------------------------- 1/4 [numba]\n",
      "   ---------- ----------------------------- 1/4 [numba]\n",
      "   ---------- ----------------------------- 1/4 [numba]\n",
      "   ---------- ----------------------------- 1/4 [numba]\n",
      "   ---------- ----------------------------- 1/4 [numba]\n",
      "   ---------- ----------------------------- 1/4 [numba]\n",
      "   ---------- ----------------------------- 1/4 [numba]\n",
      "   ---------- ----------------------------- 1/4 [numba]\n",
      "   ---------- ----------------------------- 1/4 [numba]\n",
      "   ---------- ----------------------------- 1/4 [numba]\n",
      "   ---------- ----------------------------- 1/4 [numba]\n",
      "   ---------- ----------------------------- 1/4 [numba]\n",
      "   ---------- ----------------------------- 1/4 [numba]\n",
      "   ---------- ----------------------------- 1/4 [numba]\n",
      "   ---------- ----------------------------- 1/4 [numba]\n",
      "   -------------------- ------------------- 2/4 [pynndescent]\n",
      "   ------------------------------ --------- 3/4 [umap-learn]\n",
      "   ---------------------------------------- 4/4 [umap-learn]\n",
      "\n",
      "Successfully installed llvmlite-0.44.0 numba-0.61.2 pynndescent-0.5.13 umap-learn-0.5.9.post2\n"
     ]
    }
   ],
   "source": [
    "!pip install umap-learn"
   ]
  },
  {
   "cell_type": "markdown",
   "id": "b353da76",
   "metadata": {},
   "source": [
    "* umap 차원축소\n",
    "  ![alt text](111-1.png)"
   ]
  },
  {
   "cell_type": "code",
   "execution_count": null,
   "id": "2970a692",
   "metadata": {},
   "outputs": [],
   "source": [
    "from typing import Dict, List, Optional, Tuple\n",
    "\n",
    "import numpy as np\n",
    "import pandas as pd\n",
    "import umap\n",
    "from langchain.prompts import ChatPromptTemplate\n",
    "from langchain_core.output_parsers import StrOutputParser\n",
    "from sklearn.mixture import GaussianMixture\n",
    "\n",
    "RANDOM_SEED = 42  # 재현성을 위한 고정된 시드 값\n",
    "\n",
    "\n",
    "def global_cluster_embeddings(\n",
    "    embeddings: np.ndarray,\n",
    "    dim: int,\n",
    "    n_neighbors: Optional[int] = None,\n",
    "    metric: str = \"cosine\",\n",
    ") -> np.ndarray:\n",
    "    \"\"\"전역적으로 임베딩 벡터의 차원을 축소하는 함수입니다.\n",
    "\n",
    "    Args:\n",
    "        embeddings (np.ndarray): 차원을 축소할 임베딩 벡터들\n",
    "        dim (int): 축소할 차원의 수\n",
    "        n_neighbors (Optional[int], optional): UMAP에서 사용할 이웃의 수. 기본값은 None으로, 이 경우 데이터 크기에 따라 자동 계산됨\n",
    "        metric (str, optional): 거리 계산에 사용할 메트릭. 기본값은 \"cosine\"\n",
    "\n",
    "    Returns:\n",
    "        np.ndarray: 차원이 축소된 임베딩 벡터들\n",
    "    \"\"\"\n",
    "    # 이웃 수 계산\n",
    "    # 데이터가 몇 개 있느냐(=행 개수)에 따라 적절한 이웃 수를 자동으로 계산하는 거예요.\n",
    "    # 예: 100개 샘플이면 sqrt(99) ≈ 9.95 → 9\n",
    "    # 이건 데이터 개수가 많아질수록 자연스럽게 이웃 수도 증가하도록 설계된 경험적 규칙이에요.\n",
    "    # UMAP 논문이나 다양한 예제에서 기본값으로 자주 사용되긴 하지만,\n",
    "    # 특정 도메인(예: 뉴스 기사 vs 쇼핑 리뷰 vs 논문 초록)에서는 군집 밀도나 분포가 달라질 수 있어서 항상 최적이라고 볼 수는 없습니다.\n",
    "    if n_neighbors is None:\n",
    "        n_neighbors = int((len(embeddings) - 1) ** 0.5)\n",
    "\n",
    "    # UMAP 적용\n",
    "    return umap.UMAP(\n",
    "        n_neighbors=n_neighbors, n_components=dim, metric=metric\n",
    "    ).fit_transform(embeddings)\n",
    "\n",
    "\n",
    "### ➡️ 이 함수는 UMAP을 사용해서 각 문장의 768차원 벡터를 2차원으로 줄여요\n",
    "# 예시문장                        \t2D 좌표 (축소된 결과)\n",
    "# \"나는 오늘 아침에 커피를 마셨어.\"\t  [1.2, 3.4]\n",
    "# \"오늘 아침엔 바나나를 먹었어.\"  \t  [1.3, 3.5]\n",
    "# \"나는 인공지능을 공부하고 있어.\"\t  [-2.1, 0.8]\n",
    "# \"딥러닝은 인공지능의 한 분야야.\"\t  [-2.0, 0.9]\n",
    "# \"오늘은 비가 올 것 같아.\"       \t [0.5, 2.8]\n",
    "### ➡️ 비슷한 의미의 문장들끼리 가까운 위치에 있게 됩니다\n",
    "\n",
    "\n",
    "def local_cluster_embeddings(\n",
    "    embeddings: np.ndarray, dim: int, num_neighbors: int = 10, metric: str = \"cosine\"\n",
    ") -> np.ndarray:\n",
    "    \"\"\"로컬(국소적)하게 임베딩 벡터의 차원을 축소하는 함수입니다.\n",
    "\n",
    "    Args:\n",
    "        embeddings (np.ndarray): 차원을 축소할 임베딩 벡터들\n",
    "        dim (int): 축소할 차원의 수\n",
    "        num_neighbors (int, optional): UMAP에서 사용할 이웃의 수. 기본값은 10\n",
    "        metric (str, optional): 거리 계산에 사용할 메트릭. 기본값은 \"cosine\"\n",
    "\n",
    "    Returns:\n",
    "        np.ndarray: 차원이 축소된 임베딩 벡터들\n",
    "    \"\"\"\n",
    "    # UMAP 적용\n",
    "    return umap.UMAP(\n",
    "        n_neighbors=num_neighbors, n_components=dim, metric=metric\n",
    "    ).fit_transform(embeddings)"
   ]
  },
  {
   "cell_type": "markdown",
   "id": "d70b24c8",
   "metadata": {},
   "source": [
    "### ✅ n_neighbors 이웃값별 시각화 + 클러스터링 품질 비교해보기\n",
    "* 아래의 코드로 최적의 이웃값 찾아보기"
   ]
  },
  {
   "cell_type": "code",
   "execution_count": 21,
   "id": "d81fafab",
   "metadata": {},
   "outputs": [],
   "source": [
    "text_embeddings = cached_embeddings.embed_documents(texts_split)\n",
    "\n",
    "# 임베딩을 numpy 배열로 변환\n",
    "text_embeddings_np = np.array(text_embeddings)"
   ]
  },
  {
   "cell_type": "code",
   "execution_count": null,
   "id": "1ab9b21f",
   "metadata": {},
   "outputs": [
    {
     "data": {
      "image/png": "[encoded data removed]",
      "text/plain": [
       "<Figure size 1800x400 with 5 Axes>"
      ]
     },
     "metadata": {},
     "output_type": "display_data"
    },
    {
     "name": "stdout",
     "output_type": "stream",
     "text": [
      "n_neighbors=  5 → Silhouette Score: 0.3336\n",
      "n_neighbors= 10 → Silhouette Score: 0.3688\n",
      "n_neighbors= 30 → Silhouette Score: 0.3903\n",
      "n_neighbors= 50 → Silhouette Score: 0.3510\n",
      "n_neighbors=100 → Silhouette Score: 0.3531\n"
     ]
    }
   ],
   "source": [
    "import numpy as np\n",
    "import matplotlib.pyplot as plt\n",
    "import umap\n",
    "from sklearn.mixture import GaussianMixture\n",
    "from sklearn.metrics import silhouette_score\n",
    "\n",
    "# 👉 1. 임의의 임베딩 데이터 생성 (또는 실제 임베딩을 여기에 넣으세요)\n",
    "np.random.seed(42)\n",
    "\n",
    "# 👉 2. 비교할 n_neighbors 값 목록\n",
    "n_neighbors_list = [5, 10, 30, 50, 100]\n",
    "\n",
    "# 👉 3. 결과 저장용 리스트\n",
    "silhouette_scores = []\n",
    "\n",
    "# 👉 4. 시각화 및 실루엣 점수 측정\n",
    "fig, axes = plt.subplots(1, len(n_neighbors_list), figsize=(18, 4))\n",
    "\n",
    "for i, n in enumerate(n_neighbors_list):\n",
    "    reducer = umap.UMAP(n_neighbors=n, n_components=2, metric=\"cosine\", random_state=42)\n",
    "    reduced = reducer.fit_transform(text_embeddings_np)\n",
    "\n",
    "    # 클러스터링 (Gaussian Mixture, 3개 군집 가정)\n",
    "    gmm = GaussianMixture(n_components=3, random_state=42)\n",
    "    labels = gmm.fit_predict(reduced)\n",
    "\n",
    "    # 실루엣 점수 계산\n",
    "    score = silhouette_score(reduced, labels)\n",
    "    silhouette_scores.append(score)\n",
    "\n",
    "    # 시각화\n",
    "    axes[i].scatter(reduced[:, 0], reduced[:, 1], c=labels, cmap=\"tab10\", s=10)\n",
    "    axes[i].set_title(f\"n_neighbors={n}\\nSilhouette={score:.2f}\")\n",
    "    axes[i].axis(\"off\")\n",
    "\n",
    "plt.suptitle(\"UMAP 차원축소 + GMM 클러스터링 + Silhouette Score\", fontsize=14)\n",
    "plt.tight_layout()\n",
    "plt.show()\n",
    "\n",
    "# 👉 결과 출력\n",
    "for n, s in zip(n_neighbors_list, silhouette_scores):\n",
    "    print(f\"n_neighbors={n:3d} → Silhouette Score: {s:.4f}\")"
   ]
  },
  {
   "cell_type": "code",
   "execution_count": 26,
   "id": "7f502205",
   "metadata": {},
   "outputs": [
    {
     "data": {
      "text/plain": [
       "array([[ 31.845215 , -15.417423 ],\n",
       "       [ 33.45011  , -12.984384 ],\n",
       "       [ 27.988174 , -13.3660555],\n",
       "       ...,\n",
       "       [ 34.903835 , -14.730421 ],\n",
       "       [ 34.834705 , -14.6645565],\n",
       "       [ 33.214005 , -15.993488 ]], dtype=float32)"
      ]
     },
     "execution_count": 26,
     "metadata": {},
     "output_type": "execute_result"
    }
   ],
   "source": [
    "reduced"
   ]
  },
  {
   "cell_type": "markdown",
   "id": "48430adc",
   "metadata": {},
   "source": [
    "### 최적의 클러스터 수 계산"
   ]
  },
  {
   "cell_type": "markdown",
   "id": "ab30f112",
   "metadata": {},
   "source": [
    "`get_optimal_clusters` \n",
    "\n",
    "- 주어진 임베딩 데이터에 대해 가장 적절한 클러스터 수를 BIC 점수를 기반으로 결정합니다.\n",
    "- GMM과 BIC를 활용해 클러스터 개수를 자동으로 결정하므로, 사전에 클러스터 수를 지정할 필요가 없습니다.\n",
    "\n",
    "**과정**\n",
    "\n",
    "- 가능한 클러스터 수(1 ~ max_clusters 사이)를 순회하며 각 클러스터 개수로 GMM을 학습합니다.\n",
    "- 각 GMM에 대해 BIC 점수를 계산한 뒤 리스트에 저장합니다.\n",
    "- BIC 점수가 가장 낮은(가장 좋은 성능을 보이는) 클러스터 개수를 선택하여 반환합니다."
   ]
  },
  {
   "cell_type": "code",
   "execution_count": null,
   "id": "ade041a4",
   "metadata": {},
   "outputs": [],
   "source": [
    "### 클러스터링에 필요한 \"최적의 클러스터 수\"를 자동으로 찾아주는 도우미 함수\n",
    "def get_optimal_clusters(\n",
    "    embeddings: np.ndarray, max_clusters: int = 50, random_state: int = RANDOM_SEED\n",
    ") -> int:\n",
    "    \"\"\"BIC 점수를 기반으로 최적의 클러스터 수를 찾는 함수입니다.\n",
    "        BIC=-2⋅log(L)+p⋅log(n)\n",
    "            L: 모델의 우도 (likelihood)\n",
    "            p: 모델 파라미터 수 (복잡도)\n",
    "            n: 데이터 개수\n",
    "\n",
    "    Args:\n",
    "        embeddings (np.ndarray): 클러스터링할 임베딩 벡터들\n",
    "        max_clusters (int, optional): 탐색할 최대 클러스터 수. 기본값은 50\n",
    "        random_state (int, optional): 난수 생성을 위한 시드값. 기본값은 RANDOM_SEED\n",
    "\n",
    "    Returns:\n",
    "        int: BIC 점수가 가장 낮은(최적의) 클러스터 수\n",
    "    \"\"\"\n",
    "    # 최대 클러스터 수와 임베딩의 길이 중 작은 값을 최대 클러스터 수로 설정\n",
    "    max_clusters = min(max_clusters, len(embeddings))\n",
    "    # 1부터 최대 클러스터 수까지의 범위를 생성\n",
    "    n_clusters = np.arange(1, max_clusters)\n",
    "\n",
    "    # BIC 점수를 저장할 리스트\n",
    "    bics = []\n",
    "    for n in n_clusters:\n",
    "        gm = GaussianMixture(n_components=n, random_state=random_state)\n",
    "        gm.fit(embeddings)\n",
    "        # 학습된 모델의 BIC 점수를 리스트에 추가\n",
    "        bics.append(gm.bic(embeddings))\n",
    "\n",
    "    # BIC 점수가 가장 낮은 클러스터 수를 반환\n",
    "    return n_clusters[np.argmin(bics)]"
   ]
  },
  {
   "cell_type": "markdown",
   "id": "0bb27f24",
   "metadata": {},
   "source": [
    "### 🧮 BIC란?\n",
    "  ![alt text](222.png)"
   ]
  },
  {
   "cell_type": "code",
   "execution_count": null,
   "id": "b654f035",
   "metadata": {},
   "outputs": [
    {
     "data": {
      "text/plain": [
       "6"
      ]
     },
     "execution_count": 27,
     "metadata": {},
     "output_type": "execute_result"
    }
   ],
   "source": [
    "get_optimal_clusters(reduced)  # reduced: umap으로 차원 축소한 임베딩값"
   ]
  },
  {
   "cell_type": "markdown",
   "id": "82573eae",
   "metadata": {},
   "source": [
    "### 클러스터링 수행"
   ]
  },
  {
   "cell_type": "markdown",
   "id": "c27119b8",
   "metadata": {},
   "source": [
    "`GMM_cluster` \n",
    "\n",
    "- GMM을 이용해 주어진 임베딩에 대해 클러스터를 할당합니다.\n",
    "\n",
    "**과정**\n",
    "\n",
    "- `get_optimal_clusters` 를 통해 최적의 클러스터 수를 찾습니다.\n",
    "- `GaussianMixture` 모델을 해당 클러스터 수로 학습합니다.\n",
    "- 각 데이터 포인트가 각 클러스터에 속할 확률(predict_proba)을 구합니다.\n",
    "- 주어진 threshold를 바탕으로, 확률이 임계값을 초과하는 클러스터만 레이블로 할당합니다."
   ]
  },
  {
   "cell_type": "code",
   "execution_count": 40,
   "id": "f86a6d1d",
   "metadata": {},
   "outputs": [],
   "source": [
    "def GMM_cluster(embeddings: np.ndarray, threshold: float, random_state: int = 0):\n",
    "    # 최적의 클러스터 수 산정\n",
    "    n_clusters = get_optimal_clusters(embeddings)\n",
    "\n",
    "    # 가우시안 혼합 모델을 초기화\n",
    "    gm = GaussianMixture(n_components=n_clusters, random_state=random_state)\n",
    "    gm.fit(embeddings)\n",
    "\n",
    "    # 임베딩이 각 클러스터에 속할 확률을 예측\n",
    "    probs = gm.predict_proba(embeddings)\n",
    "\n",
    "    # 임계값을 초과하는 확률을 가진 클러스터를 레이블로 선택\n",
    "    labels = [np.where(prob > threshold)[0] for prob in probs]\n",
    "\n",
    "    # 레이블과 클러스터 수를 반환\n",
    "    return labels, n_clusters"
   ]
  },
  {
   "cell_type": "code",
   "execution_count": 31,
   "id": "443d3fa2",
   "metadata": {},
   "outputs": [
    {
     "name": "stdout",
     "output_type": "stream",
     "text": [
      "(770, 6)\n"
     ]
    }
   ],
   "source": [
    "gm = GaussianMixture(n_components=6, random_state=42)\n",
    "gm.fit(reduced)\n",
    "\n",
    "# 임베딩이 각 클러스터에 속할 확률을 예측\n",
    "probs = gm.predict_proba(reduced)\n",
    "\n",
    "# 임계값을 초과하는 확률을 가진 클러스터를 레이블로 선택\n",
    "labels = [np.where(prob > 0.1)[0] for prob in probs]\n",
    "\n",
    "print(probs.shape)"
   ]
  },
  {
   "cell_type": "code",
   "execution_count": 33,
   "id": "5be0a410",
   "metadata": {},
   "outputs": [
    {
     "name": "stdout",
     "output_type": "stream",
     "text": [
      "[array([4], dtype=int64), array([5], dtype=int64), array([2], dtype=int64), array([1, 3, 4], dtype=int64), array([5], dtype=int64), array([0, 5], dtype=int64), array([0, 3], dtype=int64), array([0, 5], dtype=int64), array([0, 5], dtype=int64), array([0, 3], dtype=int64)]\n"
     ]
    }
   ],
   "source": [
    "print(labels[:10])"
   ]
  },
  {
   "cell_type": "markdown",
   "id": "a80d9bd6",
   "metadata": {},
   "source": [
    "`perform_clustering` \n",
    "\n",
    "- 전역 차원 축소, 전역 클러스터링, 이후 로컬 차원 축소 및 로컬 클러스터링까지 전체 클러스터링 파이프라인을 수행하는 핵심 함수입니다.\n",
    "- 이전의 과정을 하나의 파이프라인으로 만들어 종합하는 역할을 수행합니다.\n",
    "\n",
    "**과정**\n",
    "\n",
    "- 입력된 embeddings가 충분한지 확인(적은 경우 단순 할당).\n",
    "- 전역 차원 축소: `global_cluster_embeddings` 로 전체 임베딩에 대해 UMAP 적용.\n",
    "- 전역 클러스터링: 전역 차원 축소 결과에 대해 `GMM_cluster` 를 사용하여 전역 클러스터 형성.\n",
    "- 각 전역 클러스터에 속하는 데이터만 추출 -> 해당 집합에 대해 로컬 차원 축소(`local_cluster_embeddings`) 수행.\n",
    "- 로컬 차원 축소 결과에 대해 다시 `GMM_cluster` 로 로컬 클러스터링 수행.\n",
    "- 최종적으로, 각 데이터 포인트에 대해서 전역 및 로컬 클러스터 레이블을 함께 반환합니다."
   ]
  },
  {
   "cell_type": "code",
   "execution_count": 38,
   "id": "32e97d75",
   "metadata": {},
   "outputs": [],
   "source": [
    "def perform_clustering(\n",
    "    embeddings: np.ndarray,\n",
    "    dim: int,\n",
    "    threshold: float,\n",
    ") -> List[np.ndarray]:\n",
    "    \"\"\"\n",
    "    임베딩에 대해 계층적 클러스터링을 수행하는 함수입니다.\n",
    "\n",
    "    전역 차원 축소와 클러스터링을 먼저 수행한 후, 각 전역 클러스터 내에서\n",
    "    로컬 차원 축소와 클러스터링을 수행합니다.\n",
    "\n",
    "    Args:\n",
    "        embeddings (np.ndarray): 클러스터링할 임베딩 벡터들\n",
    "        dim (int): 차원 축소 시 목표 차원 수\n",
    "        threshold (float): GMM 클러스터링에서 사용할 확률 임계값\n",
    "\n",
    "    Returns:\n",
    "        List[np.ndarray]: 각 데이터 포인트에 대한 로컬 클러스터 레이블 리스트.\n",
    "                         각 레이블은 해당 데이터 포인트가 속한 로컬 클러스터의 인덱스를 담은 numpy 배열입니다.\n",
    "    \"\"\"\n",
    "\n",
    "    if len(embeddings) <= dim + 1:\n",
    "        # 데이터가 충분하지 않을 때 클러스터링을 피합니다.\n",
    "        # 임베딩 수가 너무 적으면 클러스터링 무의미 → 각 데이터에 클러스터 0 하나씩 부여하고 종료\n",
    "        return [np.array([0]) for _ in range(len(embeddings))]\n",
    "\n",
    "    # 글로벌 차원 축소\n",
    "    reduced_embeddings_global = global_cluster_embeddings(embeddings, dim)\n",
    "\n",
    "    # 글로벌 클러스터링\n",
    "    global_clusters, n_global_clusters = GMM_cluster(\n",
    "        reduced_embeddings_global, threshold\n",
    "    )\n",
    "\n",
    "    # 로컬 클러스터링을 위한 초기화\n",
    "    all_local_clusters = [np.array([]) for _ in range(len(embeddings))]\n",
    "    total_clusters = 0\n",
    "\n",
    "    # 각 글로벌 클러스터를 순회하며 로컬 클러스터링 수행\n",
    "    for i in range(n_global_clusters):\n",
    "        # 현재 글로벌 클러스터에 속하는 임베딩 추출\n",
    "        global_cluster_embeddings_ = embeddings[\n",
    "            np.array([i in gc for gc in global_clusters])\n",
    "        ]\n",
    "\n",
    "        if len(global_cluster_embeddings_) == 0:\n",
    "            continue\n",
    "        if len(global_cluster_embeddings_) <= dim + 1:\n",
    "            # 작은 클러스터는 직접 할당으로 처리\n",
    "            local_clusters = [np.array([0]) for _ in global_cluster_embeddings_]\n",
    "            n_local_clusters = 1\n",
    "        else:\n",
    "            # 로컬 차원 축소 및 클러스터링\n",
    "            reduced_embeddings_local = local_cluster_embeddings(\n",
    "                global_cluster_embeddings_, dim\n",
    "            )\n",
    "            local_clusters, n_local_clusters = GMM_cluster(\n",
    "                reduced_embeddings_local, threshold\n",
    "            )\n",
    "\n",
    "        # 로컬 클러스터 ID 할당, 이미 처리된 총 클러스터 수를 조정\n",
    "        for j in range(n_local_clusters):\n",
    "            local_cluster_embeddings_ = global_cluster_embeddings_[\n",
    "                np.array([j in lc for lc in local_clusters])\n",
    "            ]\n",
    "            # 로컬 클러스터 내 특정 데이터가 전체에서 몇 번째인지 역추적해서 all_local_clusters에 클러스터 ID 저장\n",
    "            # \"로컬 클러스터에 속한 특정 임베딩 벡터가 전체 임베딩 중 몇 번째에 있는지 찾는 것\"\n",
    "            ### 예제\n",
    "            # embeddings: 전체 데이터 (예: 10개)\n",
    "            # local_cluster_embeddings_: 지금 보고 있는 로컬 클러스터 내의 일부 데이터 (예: 2개)\n",
    "            # 목적: 이 로컬 데이터들이 전체 중 어디에 있었는지 인덱스를 찾는 것\n",
    "            # embeddings = np.array([\n",
    "            #     [1, 2],   # idx 0\n",
    "            #     [3, 4],   # idx 1\n",
    "            #     [5, 6],   # idx 2\n",
    "            #     [7, 8],   # idx 3\n",
    "            # ])\n",
    "            # local_cluster_embeddings_ = np.array([\n",
    "            #     [3, 4],\n",
    "            #     [7, 8],\n",
    "            # ])\n",
    "            indices = np.where(\n",
    "                (embeddings == local_cluster_embeddings_[:, None]).all(-1)\n",
    "            )[1]\n",
    "            ### Step 1: local_cluster_embeddings_[:, None]\n",
    "            # local_cluster_embeddings_[:, None].shape = (2, 1, 2)\n",
    "            # embeddings.shape = (4, 2)\n",
    "            ### Step 2: (embeddings == local_cluster_embeddings_[:, None])\n",
    "            # # 결과 예시 (Boolean):\n",
    "            # array([\n",
    "            #   [[False, False], [True, True], [False, False], [False, False]],  # [3,4] 비교\n",
    "            #   [[False, False], [False, False], [False, False], [True, True]],  # [7,8] 비교\n",
    "            # ])\n",
    "            ### Step 3: .all(-1)\n",
    "            # array([\n",
    "            #   [False, True, False, False],  # [3,4]는 idx=1에서 일치\n",
    "            #   [False, False, False, True],  # [7,8]는 idx=3에서 일치\n",
    "            # ])\n",
    "            ### Step 4: np.where(...)[1]\n",
    "            # .where()는 True인 위치의 인덱스를 반환\n",
    "            # axis=1에 대해 True가 있는 곳의 열 인덱스 (즉, 원래 전체에서의 인덱스)\n",
    "            # np.where(...) → 결과: (array([0, 1]), array([1, 3]))\n",
    "            # → indices = [1, 3]\n",
    "            for idx in indices:\n",
    "                all_local_clusters[idx] = np.append(\n",
    "                    all_local_clusters[idx], j + total_clusters\n",
    "                )\n",
    "\n",
    "        total_clusters += n_local_clusters\n",
    "\n",
    "    return all_local_clusters\n",
    "\n",
    "\n",
    "### ✅ 전체 구조 요약\n",
    "# [전체 임베딩]\n",
    "#  └─ (1) 전역 차원 축소 → [저차원 전역 임베딩]\n",
    "#  └─ (2) 전역 GMM 클러스터링 → [전역 클러스터 그룹들]\n",
    "#      └─ (3) 각 전역 클러스터 내부:\n",
    "#          └─ 로컬 차원 축소 → [저차원 로컬 임베딩]\n",
    "#          └─ 로컬 GMM 클러스터링 → [로컬 클러스터 그룹들]\n",
    "#              └─ 최종 클러스터 ID 생성"
   ]
  },
  {
   "cell_type": "code",
   "execution_count": null,
   "id": "b2c3410e",
   "metadata": {},
   "outputs": [
    {
     "data": {
      "text/plain": [
       "(2, 1, 2)"
      ]
     },
     "execution_count": 36,
     "metadata": {},
     "output_type": "execute_result"
    }
   ],
   "source": [
    "local_cluster_embeddings_ = np.array(\n",
    "    [\n",
    "        [3, 4],\n",
    "        [7, 8],\n",
    "    ]\n",
    ")\n",
    "local_cluster_embeddings_[:, None].shape"
   ]
  },
  {
   "cell_type": "code",
   "execution_count": null,
   "id": "6c035cfa",
   "metadata": {},
   "outputs": [],
   "source": [
    "all_local_clusters = perform_clustering(text_embeddings_np, 10, 0.1)"
   ]
  },
  {
   "cell_type": "code",
   "execution_count": 44,
   "id": "ba7b6bc5",
   "metadata": {},
   "outputs": [
    {
     "data": {
      "text/plain": [
       "770"
      ]
     },
     "execution_count": 44,
     "metadata": {},
     "output_type": "execute_result"
    }
   ],
   "source": [
    "len(all_local_clusters)"
   ]
  },
  {
   "cell_type": "code",
   "execution_count": 46,
   "id": "2001aec0",
   "metadata": {},
   "outputs": [
    {
     "name": "stdout",
     "output_type": "stream",
     "text": [
      "['__add__', '__class__', '__class_getitem__', '__contains__', '__delattr__', '__delitem__', '__dir__', '__doc__', '__eq__', '__format__', '__ge__', '__getattribute__', '__getitem__', '__getstate__', '__gt__', '__hash__', '__iadd__', '__imul__', '__init__', '__init_subclass__', '__iter__', '__le__', '__len__', '__lt__', '__mul__', '__ne__', '__new__', '__reduce__', '__reduce_ex__', '__repr__', '__reversed__', '__rmul__', '__setattr__', '__setitem__', '__sizeof__', '__str__', '__subclasshook__', 'append', 'clear', 'copy', 'count', 'extend', 'index', 'insert', 'pop', 'remove', 'reverse', 'sort']\n"
     ]
    }
   ],
   "source": [
    "print(dir(all_local_clusters))"
   ]
  },
  {
   "cell_type": "code",
   "execution_count": 49,
   "id": "95d31a4b",
   "metadata": {},
   "outputs": [
    {
     "data": {
      "text/plain": [
       "[array([22.]),\n",
       " array([60.]),\n",
       " array([26., 28., 28., 30., 32., 32., 32., 32., 32., 32.]),\n",
       " array([36.]),\n",
       " array([17.]),\n",
       " array([22.]),\n",
       " array([22.]),\n",
       " array([62.]),\n",
       " array([22.]),\n",
       " array([22.])]"
      ]
     },
     "execution_count": 49,
     "metadata": {},
     "output_type": "execute_result"
    }
   ],
   "source": [
    "all_local_clusters[:10]"
   ]
  },
  {
   "cell_type": "markdown",
   "id": "e051d771",
   "metadata": {},
   "source": [
    "주어진 텍스트 리스트를 임베딩 모델을 이용해 벡터로 변환합니다."
   ]
  },
  {
   "cell_type": "code",
   "execution_count": null,
   "id": "175963c6",
   "metadata": {},
   "outputs": [],
   "source": [
    "### text_splits 문서를 cached_embeddings 으로 임베딩 벡터로 변환한 후 넘파이 배열로 변환\n",
    "def embed(texts):\n",
    "    \"\"\"\n",
    "    주어진 텍스트 리스트를 임베딩 벡터로 변환합니다.\n",
    "\n",
    "    Args:\n",
    "        texts (List[str]): 임베딩할 텍스트 리스트\n",
    "\n",
    "    Returns:\n",
    "        np.ndarray: 텍스트의 임베딩 벡터를 포함하는 numpy 배열\n",
    "                   shape은 (텍스트 개수, 임베딩 차원)입니다.\n",
    "    \"\"\"\n",
    "\n",
    "    text_embeddings = embeddings.embed_documents(texts)\n",
    "\n",
    "    # 임베딩을 numpy 배열로 변환\n",
    "    text_embeddings_np = np.array(text_embeddings)\n",
    "\n",
    "    return text_embeddings_np"
   ]
  },
  {
   "cell_type": "markdown",
   "id": "a74db77a",
   "metadata": {},
   "source": [
    "`embed_cluster_texts` \n",
    "\n",
    "- 텍스트 리스트를 임베딩하고, 위에서 정의한 클러스터링 절차를 수행한 뒤 결과를 데이터프레임 형태로 반환합니다\n",
    "\n",
    "**과정**\n",
    "\n",
    "- embed 함수를 통해 텍스트를 임베딩합니다.\n",
    "- perform_clustering를 호출하여 클러스터 라벨을 얻습니다.\n",
    "- 원본 텍스트, 임베딩, 클러스터 정보를 하나의 DataFrame에 통합하여 반환합니다."
   ]
  },
  {
   "cell_type": "code",
   "execution_count": 52,
   "id": "351f42b6",
   "metadata": {},
   "outputs": [],
   "source": [
    "def embed_cluster_texts(texts):\n",
    "    # 임베딩 생성\n",
    "    text_embeddings_np = embed(texts)\n",
    "    # 클러스터링 수행\n",
    "    cluster_labels = perform_clustering(text_embeddings_np, 10, 0.1)\n",
    "    # 결과를 저장할 DataFrame 초기화\n",
    "    df = pd.DataFrame()\n",
    "    # 원본 텍스트 저장\n",
    "    df[\"text\"] = texts\n",
    "    # DataFrame에 리스트로 임베딩 저장\n",
    "    df[\"embd\"] = list(text_embeddings_np)\n",
    "    # 클러스터 라벨 저장\n",
    "    df[\"cluster\"] = cluster_labels\n",
    "    return df"
   ]
  },
  {
   "cell_type": "code",
   "execution_count": 54,
   "id": "d99082c4",
   "metadata": {},
   "outputs": [
    {
     "data": {
      "text/html": [
       "<div>\n",
       "<style scoped>\n",
       "    .dataframe tbody tr th:only-of-type {\n",
       "        vertical-align: middle;\n",
       "    }\n",
       "\n",
       "    .dataframe tbody tr th {\n",
       "        vertical-align: top;\n",
       "    }\n",
       "\n",
       "    .dataframe thead th {\n",
       "        text-align: right;\n",
       "    }\n",
       "</style>\n",
       "<table border=\"1\" class=\"dataframe\">\n",
       "  <thead>\n",
       "    <tr style=\"text-align: right;\">\n",
       "      <th></th>\n",
       "      <th>text</th>\n",
       "      <th>embd</th>\n",
       "      <th>cluster</th>\n",
       "    </tr>\n",
       "  </thead>\n",
       "  <tbody>\n",
       "    <tr>\n",
       "      <th>0</th>\n",
       "      <td>홈페이지 : https://spri.kr/</td>\n",
       "      <td>[-0.0026174080558121204, -0.023775560781359673...</td>\n",
       "      <td>[68.0]</td>\n",
       "    </tr>\n",
       "    <tr>\n",
       "      <th>1</th>\n",
       "      <td>보고서와 관련된 문의는 AI정책연구실(jayoo@spri.kr, 031-739-73...</td>\n",
       "      <td>[0.03162676468491554, 0.002825413830578327, 0....</td>\n",
       "      <td>[112.0]</td>\n",
       "    </tr>\n",
       "    <tr>\n",
       "      <th>2</th>\n",
       "      <td>---</td>\n",
       "      <td>[0.051134202629327774, 0.002439019037410617, 0...</td>\n",
       "      <td>[34.0, 34.0, 34.0, 34.0, 34.0, 34.0, 34.0, 34....</td>\n",
       "    </tr>\n",
       "    <tr>\n",
       "      <th>3</th>\n",
       "      <td>Ⅱ\\n. 주요 행사 일정\\n행사명 행사 주요 개요</td>\n",
       "      <td>[-0.007292613387107849, -0.01674562506377697, ...</td>\n",
       "      <td>[60.0]</td>\n",
       "    </tr>\n",
       "    <tr>\n",
       "      <th>4</th>\n",
       "      <td>- 미국 소비자기술 협회(CTA)가 주관하는 세계 최대 가전·IT·소</td>\n",
       "      <td>[0.004773746244609356, 0.03261294960975647, 0....</td>\n",
       "      <td>[12.0]</td>\n",
       "    </tr>\n",
       "    <tr>\n",
       "      <th>5</th>\n",
       "      <td>비재 전시회로 5G, AR&amp;VR, 디지털헬스, 교통·모빌리티 등</td>\n",
       "      <td>[-0.002931874478235841, 0.003207497764378786, ...</td>\n",
       "      <td>[22.0]</td>\n",
       "    </tr>\n",
       "    <tr>\n",
       "      <th>6</th>\n",
       "      <td>주요 카테고리 중심으로 기업들이 최신의 기술 제품군을 전시</td>\n",
       "      <td>[-0.010457698255777359, 0.025688618421554565, ...</td>\n",
       "      <td>[105.0]</td>\n",
       "    </tr>\n",
       "    <tr>\n",
       "      <th>7</th>\n",
       "      <td>- CTA 사피로 회장은 가장 주목받는 섹터로 AI를 조명하였으며,</td>\n",
       "      <td>[0.02209290862083435, -0.019857952371239662, -...</td>\n",
       "      <td>[103.0]</td>\n",
       "    </tr>\n",
       "    <tr>\n",
       "      <th>8</th>\n",
       "      <td>모든 산업을 포괄한다는 의미에서 ‘올 온(All on)’을 주제로 한\\nCES 2024</td>\n",
       "      <td>[0.03472171723842621, -0.006243817508220673, 0...</td>\n",
       "      <td>[22.0]</td>\n",
       "    </tr>\n",
       "    <tr>\n",
       "      <th>9</th>\n",
       "      <td>이번 전시에는 500곳 이상의 한국기업 참가 예정\\n기간 장소 홈페이지</td>\n",
       "      <td>[-0.01740691065788269, -0.022478554397821426, ...</td>\n",
       "      <td>[22.0]</td>\n",
       "    </tr>\n",
       "  </tbody>\n",
       "</table>\n",
       "</div>"
      ],
      "text/plain": [
       "                                                text  \\\n",
       "0                            홈페이지 : https://spri.kr/   \n",
       "1  보고서와 관련된 문의는 AI정책연구실(jayoo@spri.kr, 031-739-73...   \n",
       "2                                                ---   \n",
       "3                        Ⅱ\\n. 주요 행사 일정\\n행사명 행사 주요 개요   \n",
       "4             - 미국 소비자기술 협회(CTA)가 주관하는 세계 최대 가전·IT·소   \n",
       "5                비재 전시회로 5G, AR&VR, 디지털헬스, 교통·모빌리티 등   \n",
       "6                   주요 카테고리 중심으로 기업들이 최신의 기술 제품군을 전시   \n",
       "7              - CTA 사피로 회장은 가장 주목받는 섹터로 AI를 조명하였으며,   \n",
       "8   모든 산업을 포괄한다는 의미에서 ‘올 온(All on)’을 주제로 한\\nCES 2024   \n",
       "9            이번 전시에는 500곳 이상의 한국기업 참가 예정\\n기간 장소 홈페이지   \n",
       "\n",
       "                                                embd  \\\n",
       "0  [-0.0026174080558121204, -0.023775560781359673...   \n",
       "1  [0.03162676468491554, 0.002825413830578327, 0....   \n",
       "2  [0.051134202629327774, 0.002439019037410617, 0...   \n",
       "3  [-0.007292613387107849, -0.01674562506377697, ...   \n",
       "4  [0.004773746244609356, 0.03261294960975647, 0....   \n",
       "5  [-0.002931874478235841, 0.003207497764378786, ...   \n",
       "6  [-0.010457698255777359, 0.025688618421554565, ...   \n",
       "7  [0.02209290862083435, -0.019857952371239662, -...   \n",
       "8  [0.03472171723842621, -0.006243817508220673, 0...   \n",
       "9  [-0.01740691065788269, -0.022478554397821426, ...   \n",
       "\n",
       "                                             cluster  \n",
       "0                                             [68.0]  \n",
       "1                                            [112.0]  \n",
       "2  [34.0, 34.0, 34.0, 34.0, 34.0, 34.0, 34.0, 34....  \n",
       "3                                             [60.0]  \n",
       "4                                             [12.0]  \n",
       "5                                             [22.0]  \n",
       "6                                            [105.0]  \n",
       "7                                            [103.0]  \n",
       "8                                             [22.0]  \n",
       "9                                             [22.0]  "
      ]
     },
     "execution_count": 54,
     "metadata": {},
     "output_type": "execute_result"
    }
   ],
   "source": [
    "df = embed_cluster_texts(texts_split)\n",
    "df.head(10)"
   ]
  },
  {
   "cell_type": "markdown",
   "id": "1a4a3ecd",
   "metadata": {},
   "source": [
    "`fmt_txt` 함수는 `pandas`의 `DataFrame`에서 텍스트 문서를 단일 문자열로 포맷팅합니다."
   ]
  },
  {
   "cell_type": "code",
   "execution_count": 55,
   "id": "903883eb",
   "metadata": {},
   "outputs": [],
   "source": [
    "def fmt_txt(df: pd.DataFrame) -> str:\n",
    "    \"\"\"\n",
    "    주어진 DataFrame에서 텍스트 문서를 단일 문자열로 포맷팅하는 함수입니다.\n",
    "\n",
    "    Args:\n",
    "        df (pd.DataFrame): 포맷팅할 텍스트 문서를 포함한 DataFrame\n",
    "\n",
    "    Returns:\n",
    "        str: 텍스트 문서들을 특정 구분자로 결합한 단일 문자열\n",
    "    \"\"\"\n",
    "    unique_txt = df[\"text\"].tolist()\n",
    "    return \"--- --- \\n --- --- \".join(unique_txt)"
   ]
  },
  {
   "cell_type": "code",
   "execution_count": 56,
   "id": "0b8d26c3",
   "metadata": {},
   "outputs": [
    {
     "data": {
      "text/plain": [
       "'홈페이지 : https://spri.kr/--- --- \\n --- --- 보고서와 관련된 문의는 AI정책연구실(jayoo@spri.kr, 031-739-7352)으로 연락주시기 바랍니다.--- --- \\n --- --- ------ --- \\n --- --- Ⅱ\\n. 주요 행사 일정\\n행사명 행사 주요 개요--- --- \\n --- --- - 미국 소비자기술 협회(CTA)가 주관하는 세계 최대 가전·IT·소--- --- \\n --- --- 비재 전시회로 5G, AR&VR, 디지털헬스, 교통·모빌리티 등--- --- \\n --- --- 주요 카테고리 중심으로 기업들이 최신의 기술 제품군을 전시--- --- \\n --- --- - CTA 사피로 회장은 가장 주목받는 섹터로 AI를 조명하였으며,--- --- \\n --- --- 모든 산업을 포괄한다는 의미에서 ‘올 온(All on)’을 주제로 한\\nCES 2024--- --- \\n --- --- 이번 전시에는 500곳 이상의 한국기업 참가 예정\\n기간 장소 홈페이지--- --- \\n --- --- 2024.1.9~12 미국, 라스베가스 https://www.ces.tech/\\n- 머신러닝 및 응용에 관한 국제 컨퍼런스(AIMLA 2024)는--- --- \\n --- --- 인공지능 및 머신러닝의 이론, 방법론 및 실용적 접근에 관한--- --- \\n --- --- 지식과 최신 연구 결과 공유--- --- \\n --- --- - 이론 및 실무 측면에서 인공지능, 기계학습의 주요 분야를--- --- \\n --- --- 논의하고, 학계, 산업계의 연구자와 실무자들에게 해당 분\\nAIMLA 2024--- --- \\n --- --- 야의 최첨단 개발 소식 공유\\n기간 장소 홈페이지\\nhttps://ccnet2024.org/aimla--- --- \\n --- --- 2024.1.27~28 덴마크, 코펜하겐\\n/index\\n- AI 발전 협회 컨퍼런스(AAAI)는 AI 연구를 촉진하고, AI 분야--- --- \\n --- --- 연구원, 실무자, 과학자, 학생 및 공학자 간 교류의 기회 제공--- --- \\n --- --- - 컨퍼런스에서 AI 관련 기술 발표, 특별 트랙, 초청 연사,\\nAAAI Conference--- --- \\n --- --- 워크숍, 튜토리얼, 포스터 세션, 주제 발표, 대회, 전시 프\\non Artificial\\n로그램 등 진행\\nIntelligence--- --- \\n --- --- 기간 장소 홈페이지\\nhttps://aaai.org/aaai-confere\\n2024.2.20~27 캐나다, 밴쿠버\\nnce/--- --- \\n --- --- ------ --- \\n --- --- 영국 옥스퍼드 인터넷 연구소, AI 기술자의 임금이 평균 21% 높아\\nKEY Contents--- --- \\n --- --- n 옥스퍼드 인터넷 연구소의 연구에 따르면 특정 기술의 경제적 가치는 다른--- --- \\n --- --- 기술과 결합--- --- \\n --- --- 가능성이 높을수록 높게 평가됨--- --- \\n --- --- n AI의 확산은 기술의 경제적 가치에 크게 영향을 미치며, AI 기술을 가진 근로자는--- --- \\n --- --- 평균 21%,--- --- \\n --- --- 최대 40% 높은 임금을 받을 수 있음--- --- \\n --- --- £AI 기술 중 머신러닝, 텐서플로우, 딥러닝의 임금 프리미엄이 높게 평가--- --- \\n --- --- n 옥스퍼드 인터넷 연구소(Oxford Internet Institute)가 2023년 10월 24일 962개 기술과 2만 5천--- --- \\n --- --- 명을 대상으로 한 연구에서 AI를 포함한 주요 기술의 경제적 가치를 분석한 결과를--- --- \\n --- --- 발표--- --- \\n --- --- ∙ 연구에 따르면 한 기술의 경제적 가치는 근로자의 여타 역량과 얼마나 잘--- --- \\n --- --- 결합하는지를 보여주는--- --- \\n --- --- ‘상보성(complementarity)’에 따라 결정됨--- --- \\n --- --- ∙ 특정 기술은 다른 기술과 결합 가능성이 높을수록 경제적 가치가 높아지며,--- --- \\n --- --- 일례로 데이터 분석과 같은--- --- \\n --- --- 기술은 여타 고부가가치 기술과 결합할 수 있어 가치가 높지만, 사진 리터칭 같은--- --- \\n --- --- 기술은 특정 기술과만--- --- \\n --- --- 결합할 수 있어 가치가 낮게 평가됨--- --- \\n --- --- ∙ 대부분 직업은 여러 기술의 조합이 필요하며, 근로자의 재교육에서 경제적--- --- \\n --- --- 효율성을 높이려면 기존 기술과--- --- \\n --- --- 신기술 간 상보성을 극대화할 필요--- --- \\n --- --- n AI의 확산은 기술의 경제적 가치에 크게 영향을 미치는 요소로, AI 기술을 가진--- --- \\n --- --- 근로자는 평균적으로--- --- \\n --- --- 21% 높은 임금을 획득 가능--- --- \\n --- --- ∙ AI 기술 중 근로자에 대한 경제적 가치(시간당 임금 증가율 기준) 측면에서 상위--- --- \\n --- --- 5개 기술은--- --- \\n --- --- 머신러닝(+40%), 텐서플로우(+38%), 딥러닝(+27%), 자연어처리(+19%), 데이터 과학(+17%) 순--- --- \\n --- --- <AI 기술 유형 평균 기술 대비 갖는 임금 프리미엄>\\n☞ 출처 : Oxford Internet Institute, AI comes out on top: Oxford Study identifies the economic value of specific skills, 2023.10.24.--- --- \\n --- --- 18--- --- \\n --- --- ------ --- \\n --- --- 1. 정책/법제 2. 기업/산업 3. 기술/연구 4. 인력/교육--- --- \\n --- --- 갈릴레오의 LLM 환각 지수 평가에서 GPT-4가 가장 우수\\nKEY Contents--- --- \\n --- --- n 주요 LLM의 환각 현상을 평가한 ‘LLM 환각 지수’에 따르면 GPT-4는 작업 유형과--- --- \\n --- --- 관계없이--- --- \\n --- --- 가장 우수한 성능을 보였으며 GPT-3.5도 거의 동등한 성능을 발휘--- --- \\n --- --- n 오픈소스 모델 중에서는 메타의 라마2가 RAG 없는 질문과 답변 및 긴 형식의 텍스트--- --- \\n --- --- 생성에서 가장 우수한 성능을 발휘--- --- \\n --- --- £주요 LLM 중 GPT-4가 가장 환각 현상 적고 GPT-3.5 터보도 비슷한 성능 기록--- --- \\n --- --- n 머신러닝 데이터 관리 기업 갈릴레오(Galileo)가 2023년 11월 15일 주요 LLM의 환각 현상을--- --- \\n --- --- 평가한--- --- \\n --- --- ‘LLM 환각 지수(LLM Hallucination Index)’를 발표--- --- \\n --- --- ∙ 생성 AI의 환각 현상은 AI 시스템이 잘못된 정보를 생성하거나, 현실과 다른 부정확한--- --- \\n --- --- 결과를 내놓는--- --- \\n --- --- 현상으로, 기업의 AI 도입을 가로막는 주요 장애물이며, 환각 지수는 신뢰할 수 있는--- --- \\n --- --- 생성 AI 구축을 위해--- --- \\n --- --- 환각을 평가하고 측정하는 구조화된 접근방식을 제공--- --- \\n --- --- ∙ 환각 지수는 △검색 증강 생성(Retrieval-Augmented Generation, RAG)*을 포함한 질문과 답변 △RAG--- --- \\n --- --- 없는 질문과 답변 △긴 형식의 텍스트(보고서나 기사, 에세이) 생성의 3개 작업--- --- \\n --- --- 유형에 대하여 환각을--- --- \\n --- --- 기준으로 LLM의 순위를 평가--- --- \\n --- --- * 기존에 학습된 데이터가 아닌 외부 소스(데이터셋, 데이터베이스, 문서 등)에서--- --- \\n --- --- 가져온 정보를 검색해 활용하는 기술--- --- \\n --- --- n 3개의 작업 유형 평가 전체에서 오픈AI의 GPT-4가 최고의 성능을 기록했으며, GPT-3.5--- --- \\n --- --- 터보도--- --- \\n --- --- GPT-4와 거의 동등한 성능을 발휘--- --- \\n --- --- ∙ 메타의 라마2(Llama-2-70b)는 RAG 없는 질문과 답변 유형에서 오픈소스 모델 가운데--- --- \\n --- --- 가장 우수했고 긴--- --- \\n --- --- 형식의 텍스트 생성에서도 GPT-4에 준하는 성능을 기록했으나, RAG 포함 질문과--- --- \\n --- --- 답변에서는 허깅--- --- \\n --- --- 페이스의 제퍼(Zephyr-7b)가 라마2를 능가--- --- \\n --- --- <갈릴레오의 LLM 환각 지수(RAG 포함 질문과 답변 기준)>\\n☞ 출처: Galileo, LLM Hallucination Index, 2023.11.15.--- --- \\n --- --- ------ --- \\n --- --- 구글 딥마인드, 범용 AI 모델의 기능과 동작에 대한 분류 체계 발표\\nKEY Contents--- --- \\n --- --- n 구글 딥마인드 연구진이 성능과 범용성, 자율성을 기준으로 범용 AI(AGI)의 수준을--- --- \\n --- --- 0~5단계까지 총 6단계로 구분한 프레임워크를 공개--- --- \\n --- --- n 현재 AGI는 단백질 구조를 예측하는 알파폴드와 같은 특정 용도에서는 5단계--- --- \\n --- --- 수준을 달성했지만--- --- \\n --- --- 광범위하게 활용될 수 있는 범용에서는 1단계 수준에 머물러 있음--- --- \\n --- --- £챗GPT와 구글 바드와 같은 AI 챗봇은 범용 AI 1단계 수준--- --- \\n --- --- n 구글 딥마인드 연구진은 2023년 11월 4일 범용 AI(Artificial General Intelligence, AGI) 모델을 용도와--- --- \\n --- --- 성능에 따라 분류하는 프레임워크를 제시한 논문을 발표--- --- \\n --- --- ∙ 프레임워크의 목적은 AGI의 성능, 범용성, 자율성 수준을 정의하여 모델 간 비교와--- --- \\n --- --- 위험 평가, AGI--- --- \\n --- --- 달성까지의 진행 상황을 측정할 수 있는 공통 기준을 제공하기 위함--- --- \\n --- --- n 연구진은 AGI 개념 정의에 필요한 기준을 수립하기 위한 6가지 원칙을 아래와 같이 도출--- --- \\n --- --- ∙ (프로세스가 아닌 기능에 중점) AI가 어떻게 작동하는지보다 무엇을 할 수 있는지가--- --- \\n --- --- 더 중요--- --- \\n --- --- ∙ (범용성과 성능을 모두 평가) 진정한 AGI는 인간을 능가하는 폭넓은 범용성과 기술의--- --- \\n --- --- 깊이를 모두 요구--- --- \\n --- --- ∙ (인지와 메타인지 작업에 중점) 물리적 작업의 수행 능력은 AGI의 필수 전제조건이--- --- \\n --- --- 아니며, 인지 작업과--- --- \\n --- --- 메타인지 작업(예; 새로운 작업의 학습 능력, 인간에게 도움을 요청할 시점을 아는--- --- \\n --- --- 능력)이 핵심--- --- \\n --- --- ∙ (실제 구현보다 잠재력에 집중) 통제된 상황에서 발휘되는 성능에 따라 AGI를--- --- \\n --- --- 규정하고 테스트를 진행--- --- \\n --- --- ∙ (생태학적 타당도를 갖춘 벤치마크 사용) AGI에 대한 벤치마크는 사람들이 경제적·--- --- \\n --- --- 사회적 또는 예술적으로--- --- \\n --- --- 가치 있게 여기는 실질적인 작업을 대상으로 성능 평가 필요--- --- \\n --- --- ∙ (종점이 아닌 AGI를 향한 경로에 중점) 단계별 접근방식을 통해 AGI의 발전 상태를--- --- \\n --- --- 점진적으로 측정--- --- \\n --- --- n 연구진은 상기 원칙에 따라 AI를 성능에 따라 0~5단계와 광범위한 목적에 활용될 수--- --- \\n --- --- 있는 범용 AI 및 특정--- --- \\n --- --- 과업에 활용되는 특수 AI로 분류했으며, 특수 AI에서는 5단계까지 달성되었으나,--- --- \\n --- --- 범용 AI는 현재 1단계 수준--- --- \\n --- --- <구글 딥마인드의 범용 AI 분류 프레임워크>\\n성능 특수 AI 예시 범용 AI 예시--- --- \\n --- --- 0단계: AI 아님 계산기 소프트웨어, 컴파일러 아마존 메커니컬 터크--- --- \\n --- --- 1단계: 신진(숙련되지 않은 인간) GOFAI(Good Old Fashioned Artificial Intelligence) 챗GPT, 바드, 라마2--- --- \\n --- --- 스마트 스피커(애플 시리, 아마존 알렉사, 구글--- --- \\n --- --- 2단계: 유능(숙련된 인간의 50% 이상) 미달성\\n어시스턴트), IBM 왓슨--- --- \\n --- --- 3단계: 전문가(숙련된 인간의 90% 이상) 문법 교정기(그래머리), 생성 이미지--- --- \\n --- --- 모델(달리2) 미달성--- --- \\n --- --- 4단계: 거장(숙련된 인간의 99% 이상) 딥블루, 알파고 미달성--- --- \\n --- --- 5단계: 초인간(인간을 100% 능가) 알파폴드, 알파제로, 스톡피시 미달성--- --- \\n --- --- ☞ 출처 : Arxiv.org, Levels of AGI: Operationalizing Progress on the Path to AGI, 2023.11.04.\\n16--- --- \\n --- --- ------ --- \\n --- --- 1. 정책/법제 2. 기업/산업 3. 기술/연구 4. 인력/교육--- --- \\n --- --- 영국 과학혁신기술부, AI 안전 연구소 설립 발표\\nKEY Contents--- --- \\n --- --- n 영국 과학혁신기술부가 첨단 AI 시스템에 대한 평가를 통해 안전성을 보장하기 위한 AI--- --- \\n --- --- 안전 연구소를 설립한다고 발표--- --- \\n --- --- n AI 안전 연구소는 핵심 기능으로 첨단 AI 시스템 평가 개발과 시행, AI 안전 연구 촉진,--- --- \\n --- --- 정보교류 활성화를 추진할 계획--- --- \\n --- --- £영국 AI 안전 연구소, 첨단 AI 시스템 평가와 AI 안전 연구, 정보 교류 추진--- --- \\n --- --- n 영국 과학혁신기술부가 2023년 11월 2일 첨단 AI 안전에 중점을 둔 국가 연구기관으로 AI--- --- \\n --- --- 안전 연구소(AI Safety Institute)를 설립한다고 발표--- --- \\n --- --- ∙ AI 안전 연구소는 첨단 AI의 위험을 이해하고 거버넌스 마련에 필요한 사회·기술적--- --- \\n --- --- 인프라 개발을 통해--- --- \\n --- --- 영국을 AI 안전 연구의 글로벌 허브로 확립하는 것을 목표로 함--- --- \\n --- --- ∙ 영국 정부는 향후 10년간 연구소에 공공자금을 투자해 연구를 지원할 계획으로,--- --- \\n --- --- 연구소는 △첨단 AI 시스템--- --- \\n --- --- 평가 개발과 시행 △AI 안전 연구 촉진 △정보 교류 활성화를 핵심 기능으로 함--- --- \\n --- --- n (첨단 AI 시스템 평가 개발과 시행) 시스템의 안전 관련 속성을 중심으로 안전과--- --- \\n --- --- 보안 기능을 이해--- --- \\n --- --- 하고 사회적 영향을 평가--- --- \\n --- --- ∙ 평가 우선순위는 △사이버범죄 조장, 허위 정보 유포 등 악의적으로 활용될 수--- --- \\n --- --- 있는 기능 △사회에 미치는--- --- \\n --- --- 영향 △시스템 안전과 보안 △인간의 통제력 상실 가능성 순--- --- \\n --- --- ∙ 연구소는 외부 기관과 협력해 자체 시스템 평가를 개발 및 수행하고, 평가와--- --- \\n --- --- 관련된 의견 공유 및 지침--- --- \\n --- --- 마련을 위해 전문가 커뮤니티를 소집할 계획--- --- \\n --- --- n (AI 안전 연구 촉진) 외부 연구자를 소집하고 다양한 예비 연구 프로젝트를 통해 AI--- --- \\n --- --- 안전 기초연구를 수행--- --- \\n --- --- ∙ AI 시스템의 효과적 거버넌스를 위한 도구 개발* 및 안전한 AI 시스템 개발을 위한--- --- \\n --- --- 새로운 접근 방식 연구를 수행--- --- \\n --- --- * 편향된 훈련 데이터에 대한 분석기술, 민감한 정보를 포함하는 AI 시스템에 대한 미세--- --- \\n --- --- 조정 방법--- --- \\n --- --- n (정보 교류 활성화) 현행 개인정보보호와 데이터 규제 하에서 연구소와--- --- \\n --- --- 정책입안자, 국제 파트너,--- --- \\n --- --- 학계, 시민사회 및 일반 대중과 정보 공유 채널을 구축--- --- \\n --- --- ∙ AI 안전성 정상회의(AI Safety Summit)에서 합의된 대로 첨단 AI 모델의 평가 후 해당 모델이 배포된--- --- \\n --- --- 타국의 정부 및 연구소와 평가 결과를 공유하고, 학계와 대중이 AI 시스템의 피해와--- --- \\n --- --- 취약점을 보고할 수--- --- \\n --- --- 있는 명확한 절차를 수립\\n☞ 출처 : Gov.uk, Introducing the AI Safety Institute, 2023.11.02.\\nVenturebeat, Researchers turn to Harry Potter to make AI forget about copyrighted material, 2023.10.06.--- --- \\n --- --- ------ --- \\n --- --- SPRi AI Brief |\\n2023-12월호\\n유튜브, 2024년부터 AI 생성 콘텐츠 표시 의무화\\nKEY Contents--- --- \\n --- --- n 유튜브가 몇 달 안에 생성 AI를 사용한 콘텐츠에 AI 라벨 표시를 의무화하기로 했으며,--- --- \\n --- --- 이를--- --- \\n --- --- 준수하지 않는 콘텐츠는 삭제하고 크리에이터에 대한 수익 배분도 중단할 수 있다고--- --- \\n --- --- 설명--- --- \\n --- --- n 유튜브는 AI 생성 콘텐츠가 신원 파악이 가능한 개인을 모방한 경우 개인정보 침해--- --- \\n --- --- 신고--- --- \\n --- --- 절차에 따라 콘텐츠 삭제 요청도 받을 계획--- --- \\n --- --- £유튜브, 생성 AI 콘텐츠에 AI 라벨 표시 안 하면 콘텐츠 삭제--- --- \\n --- --- n 유튜브가 2023년 11월 14일 공식 블로그를 통해 몇 달 안에 생성 AI를 사용한 콘텐츠에 AI--- --- \\n --- --- 라벨을 표시하는 새로운 규칙을 시행한다고 발표--- --- \\n --- --- ∙ 실제로 일어나지 않은 사건을 사실적으로 묘사하거나 실제로 하지 않은 말이나 행동을--- --- \\n --- --- 보여주는 콘텐츠와--- --- \\n --- --- 같이 AI 도구를 사용해 사실적으로 변경되거나 합성된 콘텐츠에는 AI 라벨을 표시 필요--- --- \\n --- --- ∙ 유튜브는 이러한 규칙이 선거나 분쟁 상황, 공중 보건, 공직자 관련 문제와 같이--- --- \\n --- --- 민감한 주제를 다루는--- --- \\n --- --- 콘텐츠에서 특히 중요하다고 강조했으며, 크리에이터가 AI로 제작한 콘텐츠에 AI--- --- \\n --- --- 라벨을 표시하지 않으면--- --- \\n --- --- 해당 콘텐츠는 삭제되고 광고 수익을 배분하는 유튜브 파트너 프로그램도 정지될--- --- \\n --- --- 수 있음--- --- \\n --- --- ∙ 유튜브는 두 가지 방식으로 AI를 이용한 콘텐츠의 변경이나 합성 여부를--- --- \\n --- --- 시청자에게 전달할 계획으로--- --- \\n --- --- 동영상 설명 패널에 라벨을 표시하는 방식이 기본이며, 민감한 주제를 다루는 특정--- --- \\n --- --- 유형의 콘텐츠는 동영상--- --- \\n --- --- 플레이어에 더욱 눈에 띄는 라벨을 적용--- --- \\n --- --- ∙ 유튜브는 커뮤니티 정책에 위반되는 일부 합성 콘텐츠에 대해서는 라벨 지정--- --- \\n --- --- 여부와 관계없이 삭제할--- --- \\n --- --- 방침으로, 가령 사실적인 폭력을 보여주는 합성 동영상이 시청자에게 충격이나--- --- \\n --- --- 혐오감을 줄 수 있다면--- --- \\n --- --- 삭제될 수 있음--- --- \\n --- --- £유튜브, 특정인을 모방한 AI 생성 콘텐츠에 대한 삭제 요청에도 대응 계획--- --- \\n --- --- n 유튜브는 몇 달 내에 신원 파악이 가능한 개인의 얼굴이나 음성을 모방한 AI 생성--- --- \\n --- --- 콘텐츠에 대하--- --- \\n --- --- 여 개인정보 침해 신고 절차를 마련해 삭제 요청을 받을 계획--- --- \\n --- --- ∙ 단, 모든 콘텐츠가 삭제 대상은 아니며 유튜브는 콘텐츠가 패러디나 풍자인지,--- --- \\n --- --- 해당 영상에서 삭제 요청을--- --- \\n --- --- 한 특정인을 식별할 수 있는지, 공직자나 유명인이 등장하는지 등 다양한 요소를--- --- \\n --- --- 고려할 예정--- --- \\n --- --- ∙ 유튜브는 음반사가 아티스트의 고유한 노래나 목소리를 모방한 AI 생성 음악에--- --- \\n --- --- 대하여 삭제를 요청할 수--- --- \\n --- --- 있는 기능도 도입할 방침\\n☞ 출처 : Youtube, Our approach to responsible AI innovation, 2023.11.14.\\n14--- --- \\n --- --- ------ --- \\n --- --- 1. 정책/법제 2. 기업/산업 3. 기술/연구 4. 인력/교육--- --- \\n --- --- 빌 게이츠, AI 에이전트로 인한 컴퓨터 사용의 패러다임 변화 전망\\nKEY Contents--- --- \\n --- --- n 빌 게이츠가 5년 내 일상언어로 모든 작업을 처리할 수 있는 AI 에이전트가 보급되며--- --- \\n --- --- 컴퓨터를--- --- \\n --- --- 사용하는 방식이 완전히 바뀔 것으로 예상--- --- \\n --- --- n 에이전트의 보급은 컴퓨터 분야를 넘어 산업 전 영역에 영향을 미칠 전망으로 특히--- --- \\n --- --- 의료와--- --- \\n --- --- 교육, 생산성, 엔터테인먼트·쇼핑 영역에서 고가로 제공되던 서비스가 대중화될--- --- \\n --- --- 전망--- --- \\n --- --- £5년 내 기기에 일상언어로 말하기만 하면 되는 AI 에이전트의 보급 예상--- --- \\n --- --- n 빌 게이츠 마이크로소프트 창업자가 2023년 11월 9일 공식 블로그를 통해 AI 에이전트가--- --- \\n --- --- 컴퓨터--- --- \\n --- --- 사용방식과 소프트웨어 산업을 완전히 변화시킬 것이라는 전망을 제시--- --- \\n --- --- ∙ 자연어에 반응하고 사용자에 대한 지식을 바탕으로 다양한 작업을 수행하는--- --- \\n --- --- 소프트웨어를 의미하는--- --- \\n --- --- 에이전트는 컴퓨터 사용방식이 키보드 입력에서 아이콘 클릭으로 바뀐 이후 최대의--- --- \\n --- --- 컴퓨팅 혁명을--- --- \\n --- --- 가져올 전망--- --- \\n --- --- ∙ 현재는 컴퓨터 작업 시 작업 내용에 따라 각각 다른 앱을 사용해야 하지만 5년 내--- --- \\n --- --- 에이전트의 발전으로--- --- \\n --- --- 기기에 일상언어로 말하기만 하면 되는 미래가 도래할 것--- --- \\n --- --- ∙ 온라인에 접속하는 모든 사람이 AI 기반의 개인 비서를 사용할 수 있게 되며, 에이전트는--- --- \\n --- --- 사용자에 대한--- --- \\n --- --- 풍부한 지식을 바탕으로 맞춤화된 대응이 가능하며 시간이 지날수록 개선됨--- --- \\n --- --- ∙ 일례로 여행 계획 수립 시 AI 챗봇이 예산에 맞는 호텔을 제안하는데 머문다면,--- --- \\n --- --- 에이전트는 사용자의 여행--- --- \\n --- --- 패턴을 분석해 여행지를 제안하고 관심사에 따른 활동을 추천하며 선호하는 스타일의--- --- \\n --- --- 레스토랑 예약도 가능--- --- \\n --- --- £AI 에이전트가 의료와 교육, 생산성, 엔터테인먼트·쇼핑 영역의 서비스 대중화를--- --- \\n --- --- 주도할 것--- --- \\n --- --- n 에이전트로 인해 주목할 만한 변화는 고비용 서비스의 대중화로 특히 △의료 △교육--- --- \\n --- --- △생산성 △--- --- \\n --- --- 엔터테인먼트·쇼핑의 4개 영역에서 대규모 변화 예상--- --- \\n --- --- ∙ (의료) 에이전트가 환자 분류를 지원하고 건강 문제에 대한 조언을 제공하며 치료의--- --- \\n --- --- 필요 여부를 결정하면서--- --- \\n --- --- 의료진의 의사결정과 생산성 향상에 기여--- --- \\n --- --- ∙ (교육) 에이전트가 1대 1 가정교사의 역할을 맡아 모든 학생에게 평등한 교육--- --- \\n --- --- 기회를 제공할 수 있으며,--- --- \\n --- --- 아이가 좋아하는 게임이나 노래 등을 활용해 시청각 기반의 풍부한 맞춤형 교육--- --- \\n --- --- 경험을 제공--- --- \\n --- --- ∙ (생산성) 사용자의 아이디어를 기반으로 에이전트가 사업계획과 발표 자료 작성,--- --- \\n --- --- 제품 이미지 생성을--- --- \\n --- --- 지원하며, 임원의 개인 비서와 같은 역할도 수행--- --- \\n --- --- ∙ (엔터테인먼트·쇼핑) 쇼핑 시 에이전트가 모든 리뷰를 읽고 요약해 최적의 제품을--- --- \\n --- --- 추천하고 사용자 대신--- --- \\n --- --- 주문할 수 있으며 사용자의 관심사에 맞춤화된 뉴스와 엔터테인먼트를 구독 가능--- --- \\n --- --- ☞ 출처 : GatesNotes, AI is about to completely change how you use computers, 2023.11.09.--- --- \\n --- --- ------ --- \\n --- --- SPRi AI Brief |\\n2023-12월호\\nIDC, 2027년 AI 소프트웨어 매출 2,500억 달러 돌파 전망\\nKEY Contents--- --- \\n --- --- n IDC의 예측에 의하면 AI 소프트웨어 시장은 2027년 2,510억 달러로 달할 전망이며, 생성--- --- \\n --- --- AI 플랫폼과 애플리케이션은 2027년까지 283억 달러의 매출을 창출할 전망--- --- \\n --- --- n 2023년 기준 AI 소프트웨어 매출의 3분의 1을 차지하는 최대 시장인 AI 애플리케이션은--- --- \\n --- --- 2027년까지 21.1%의 연평균 성장률을 기록할 전망--- --- \\n --- --- £기업들의 AI 투자 증가에 힘입어 AI 소프트웨어 시장 급성장 예상--- --- \\n --- --- n 시장조사기관 IDC는 AI 소프트웨어 시장이 2022년 640억 달러에서 2027년 2,510억 달러로 연평--- --- \\n --- --- 균 성장률 31.4%를 기록하며 급성장할 것으로 예상--- --- \\n --- --- ∙ AI 소프트웨어 시장은 AI 플랫폼, AI 애플리케이션, AI 시스템 인프라 소프트웨어(SIS), AI--- --- \\n --- --- 애플리케이션--- --- \\n --- --- 개발·배포(AI AD&D) 소프트웨어를 포괄--- --- \\n --- --- ∙ 협업, 콘텐츠 관리, 전사적 자원관리(ERM), 공급망 관리, 생산 및 운영,--- --- \\n --- --- 엔지니어링, 고객관계관리(CRM)를--- --- \\n --- --- 포함하는 AI 애플리케이션은 AI 소프트웨어의 최대 시장으로 2023년 전체 매출의 약 3분의 1을--- --- \\n --- --- 차지하며--- --- \\n --- --- 2027년까지 21.1%의 연평균 성장률을 기록할 전망--- --- \\n --- --- ∙ AI 비서를 포함한 AI 모델과 애플리케이션의 개발을 뒷받침하는 AI 플랫폼은 두 번째로--- --- \\n --- --- 시장 규모가 큰--- --- \\n --- --- 분야로, 2027년까지 35.8%의 연평균 성장률이 예상됨--- --- \\n --- --- ∙ 분석, 비즈니스 인텔리전스, 데이터 관리와 통합을 포함하는 AI SIS는 기존--- --- \\n --- --- 소프트웨어 시스템과 통합되어--- --- \\n --- --- 방대한 데이터를 활용한 의사결정과 운영 최적화를 지원하며, 현재 매출 규모는--- --- \\n --- --- 비교적 작지만 5년간--- --- \\n --- --- 연평균 성장률은 32.6%로 시장 전체를 웃돌 전망--- --- \\n --- --- ∙ 애플리케이션 개발, 소프트웨어 품질과 수명주기 관리 소프트웨어,--- --- \\n --- --- 애플리케이션 플랫폼을 포함하는 AI--- --- \\n --- --- AD&D는 향후 5년간 카테고리 중 가장 높은 38.7%의 연평균 성장률이 예상됨--- --- \\n --- --- n IDC에 따르면 경제적 불확실성과 시장 역학의 변화에도 AI와 자동화 기술에 대한--- --- \\n --- --- 기업들의 투자--- --- \\n --- --- 의지는 확고하며, 기업들은 AI 도입이 사업 성공과 경쟁우위에 필수적이라고 인식--- --- \\n --- --- ∙ IDC 설문조사에 따르면 향후 12개월 동안 응답자의 3분의 1은 기업이 특정 사용 사례나--- --- \\n --- --- 응용 영역에서--- --- \\n --- --- 외부 AI 소프트웨어의 구매를 고려하거나 외부 AI 소프트웨어와 내부 자원의 결합을--- --- \\n --- --- 고려--- --- \\n --- --- n 한편, AI 소프트웨어 시장에 포함되지 않는 생성 AI 플랫폼과 애플리케이션은--- --- \\n --- --- 2027년까지 283억--- --- \\n --- --- 달러의 매출을 창출할 전망\\n☞ 출처 : IDC, IDC Forecasts Revenue for Artificial Intelligence Software Will Reach $279 Billion Worldwide in\\n2027, 2023.10.31.\\n12--- --- \\n --- --- ------ --- \\n --- --- 1. 정책/법제 2. 기업/산업 3. 기술/연구 4. 인력/교육--- --- \\n --- --- 구글, 앤스로픽에 20억 달러 투자로 생성 AI 협력 강화\\nKEY Contents--- --- \\n --- --- n 구글이 앤스로픽에 최대 20억 달러 투자에 합의하고 5억 달러를 우선 투자했으며,--- --- \\n --- --- 앤스로픽은--- --- \\n --- --- 구글과 클라우드 서비스 사용 계약도 체결--- --- \\n --- --- n 3대 클라우드 사업자인 구글, 마이크로소프트, 아마존은 차세대 AI 모델의 대표--- --- \\n --- --- 기업인--- --- \\n --- --- 앤스로픽 및 오픈AI와 협력을 확대하는 추세--- --- \\n --- --- £구글, 앤스로픽에 최대 20억 달러 투자 합의 및 클라우드 서비스 제공--- --- \\n --- --- n 구글이 2023년 10월 27일 앤스로픽에 최대 20억 달러를 투자하기로 합의했으며, 이 중 5억--- --- \\n --- --- 달러를 우선 투자하고 향후 15억 달러를 추가로 투자할 방침--- --- \\n --- --- ∙ 구글은 2023년 2월 앤스로픽에 이미 5억 5,000만 달러를 투자한 바 있으며, 아마존도--- --- \\n --- --- 지난 9월--- --- \\n --- --- 앤스로픽에 최대 40억 달러의 투자 계획을 공개--- --- \\n --- --- ∙ 한편, 2023년 11월 8일 블룸버그 보도에 따르면 앤스로픽은 구글의 클라우드 서비스--- --- \\n --- --- 사용을 위해--- --- \\n --- --- 4년간 30억 달러 규모의 계약을 체결--- --- \\n --- --- ∙ 오픈AI 창업자 그룹의 일원이었던 다리오(Dario Amodei)와 다니엘라 아모데이(Daniela Amodei)--- --- \\n --- --- 남매가 2021년 설립한 앤스로픽은 챗GPT의 대항마 ‘클로드(Claude)’ LLM을 개발--- --- \\n --- --- n 아마존과 구글의 앤스로픽 투자에 앞서, 마이크로소프트는 차세대 AI 모델의 대표--- --- \\n --- --- 주자인 오픈--- --- \\n --- --- AI와 협력을 확대--- --- \\n --- --- ∙ 마이크로소프트는 오픈AI에 앞서 투자한 30억 달러에 더해 2023년 1월 추가로 100억 달러를--- --- \\n --- --- 투자하기로 하면서 오픈AI의 지분 49%를 확보했으며, 오픈AI는 마이크로소프트의--- --- \\n --- --- 애저(Azure)--- --- \\n --- --- 클라우드 플랫폼을 사용해 AI 모델을 훈련--- --- \\n --- --- £구글, 클라우드 경쟁력 강화를 위해 생성 AI 투자 확대--- --- \\n --- --- n 구글은 수익률이 높은 클라우드 컴퓨팅 시장에서 아마존과 마이크로소프트를--- --- \\n --- --- 따라잡고자 생성 AI를--- --- \\n --- --- 통한 기업 고객의 클라우드 지출 확대를 위해 AI 투자를 지속--- --- \\n --- --- ∙ 구글은 앤스로픽 외에도 AI 동영상 제작 도구를 개발하는 런웨이(Runway)와 오픈소스--- --- \\n --- --- 소프트웨어--- --- \\n --- --- 기업 허깅 페이스(Hugging Face)에도 투자--- --- \\n --- --- ∙ 구글은 챗GPT의 기반 기술과 직접 경쟁할 수 있는 차세대 LLM ‘제미니(Gemini)’를 포함한--- --- \\n --- --- 자체 AI--- --- \\n --- --- 시스템 개발에도 수십억 달러를 투자했으며, 2024년 제미니를 출시할 계획--- --- \\n --- --- ☞ 출처 : The Wall Street Journal, Google Commits $2 Billion in Funding to AI Startup Anthropic, 2023.10.27.\\nBloomberg, AI Startup Anthropic to Use Google Chips in Expanded Partnership, 2023.11.09.--- --- \\n --- --- ------ --- \\n --- --- SPRi AI Brief |\\n2023-12월호\\n삼성전자, 자체 개발 생성 AI ‘삼성 가우스’ 공개\\nKEY Contents--- --- \\n --- --- n 삼성전자가 온디바이스에서 작동 가능하며 언어, 코드, 이미지의 3개 모델로--- --- \\n --- --- 구성된 자체 개발 생성--- --- \\n --- --- AI 모델 ‘삼성 가우스’를 공개--- --- \\n --- --- n 삼성전자는 삼성 가우스를 다양한 제품에 단계적으로 탑재할 계획으로,--- --- \\n --- --- 온디바이스 작동이 가능한--- --- \\n --- --- 삼성 가우스는 외부로 사용자 정보가 유출될 위험이 없다는 장점을 보유--- --- \\n --- --- £언어, 코드, 이미지의 3개 모델로 구성된 삼성 가우스, 온디바이스 작동 지원--- --- \\n --- --- n 삼성전자가 2023년 11월 8일 열린 ‘삼성 AI 포럼 2023’ 행사에서 자체 개발한 생성 AI 모델--- --- \\n --- --- ‘삼성 가우스’를 최초 공개--- --- \\n --- --- ∙ 정규분포 이론을 정립한 천재 수학자 가우스(Gauss)의 이름을 본뜬 삼성 가우스는--- --- \\n --- --- 다양한 상황에--- --- \\n --- --- 최적화된 크기의 모델 선택이 가능--- --- \\n --- --- ∙ 삼성 가우스는 라이선스나 개인정보를 침해하지 않는 안전한 데이터를 통해--- --- \\n --- --- 학습되었으며,--- --- \\n --- --- 온디바이스에서 작동하도록 설계되어 외부로 사용자의 정보가 유출되지 않는--- --- \\n --- --- 장점을 보유--- --- \\n --- --- ∙ 삼성전자는 삼성 가우스를 활용한 온디바이스 AI 기술도 소개했으며, 생성 AI--- --- \\n --- --- 모델을 다양한 제품에--- --- \\n --- --- 단계적으로 탑재할 계획--- --- \\n --- --- n 삼성 가우스는 △텍스트를 생성하는 언어모델 △코드를 생성하는 코드 모델--- --- \\n --- --- △이미지를 생성하는--- --- \\n --- --- 이미지 모델의 3개 모델로 구성--- --- \\n --- --- ∙ 언어 모델은 클라우드와 온디바이스 대상 다양한 모델로 구성되며, 메일 작성,--- --- \\n --- --- 문서 요약, 번역 업무의--- --- \\n --- --- 처리를 지원--- --- \\n --- --- ∙ 코드 모델 기반의 AI 코딩 어시스턴트 ‘코드아이(code.i)’는 대화형 인터페이스로--- --- \\n --- --- 서비스를 제공하며--- --- \\n --- --- 사내 소프트웨어 개발에 최적화--- --- \\n --- --- ∙ 이미지 모델은 창의적인 이미지를 생성하고 기존 이미지를 원하는 대로 바꿀 수--- --- \\n --- --- 있도록 지원하며--- --- \\n --- --- 저해상도 이미지의 고해상도 전환도 지원--- --- \\n --- --- n IT 전문지 테크리퍼블릭(TechRepublic)은 온디바이스 AI가 주요 기술 트렌드로 부상했다며,--- --- \\n --- --- 2024년부터 가우스를 탑재한 삼성 스마트폰이 메타의 라마(Llama)2를 탑재한 퀄컴 기기--- --- \\n --- --- 및 구글--- --- \\n --- --- 어시스턴트를 적용한 구글 픽셀(Pixel)과 경쟁할 것으로 예상--- --- \\n --- --- ☞ 출처 : 삼성전자, ‘삼성 AI 포럼’서 자체 개발 생성형 AI ‘삼성 가우스’ 공개,--- --- \\n --- --- 2023.11.08.--- --- \\n --- --- 삼성전자, ‘삼성 개발자 콘퍼런스 코리아 2023’ 개최, 2023.11.14.\\nTechRepublic, Samsung Gauss: Samsung Research Reveals Generative AI, 2023.11.08.\\n10--- --- \\n --- --- ------ --- \\n --- --- 1. 정책/법제 2. 기업/산업 3. 기술/연구 4. 인력/교육--- --- \\n --- --- 알리바바 클라우드, 최신 LLM ‘통이치엔원 2.0’ 공개\\nKEY Contents--- --- \\n --- --- n 알리바바 클라우드가 복잡한 지침 이해, 광고문구 작성, 추론, 암기 등에서 성능이--- --- \\n --- --- 향상된 최신--- --- \\n --- --- LLM ‘통이치엔원 2.0’을 공개--- --- \\n --- --- n 알리바바 클라우드는 산업별로 특화된 생성 AI 모델을 공개하는 한편, 모델--- --- \\n --- --- 개발과 애플리케이션--- --- \\n --- --- 구축 절차를 간소화하는 올인원 AI 모델 구축 플랫폼도 출시--- --- \\n --- --- £알리바바의 통이치엔원 2.0, 주요 벤치마크 테스트에서 여타 LLM 능가--- --- \\n --- --- n 중국의 알리바바 클라우드가 2023년 10월 31일 열린 연례 기술 컨퍼런스에서 최신 LLM--- --- \\n --- --- ‘통이--- --- \\n --- --- 치엔원(Tongyi Qianwen) 2.0’을 공개--- --- \\n --- --- ∙ 알리바바 클라우드는 통이치엔원 2.0이 2023년 4월 출시된 1.0 버전보다 복잡한 지침--- --- \\n --- --- 이해,--- --- \\n --- --- 광고문구 작성, 추론, 암기 등에서 성능이 향상되었다고 설명--- --- \\n --- --- ∙ 통이치엔원 2.0은 언어 이해 테스트(MMLU), 수학(GSM8k), 질문 답변(ARC-C)과 같은 벤치마크--- --- \\n --- --- 테스트에서 라마(Llama-2-70B)와 GPT-3.5를 비롯한 주요 AI 모델을 능가--- --- \\n --- --- ∙ 통이치엔원 2.0은 알리바바 클라우드의 웹사이트와 모바일 앱을 통해 대중에--- --- \\n --- --- 제공되며 개발자는--- --- \\n --- --- API를 통해 사용 가능--- --- \\n --- --- n 알리바바 클라우드는 여러 산업 영역에서 생성 AI를 활용해 사업 성과를 개선할 수--- --- \\n --- --- 있도록 지원--- --- \\n --- --- 하는 산업별 모델도 출시--- --- \\n --- --- ∙ 산업 영역은 고객지원, 법률 상담, 의료, 금융, 문서관리, 오디오와 동영상 관리,--- --- \\n --- --- 코드 개발, 캐릭터--- --- \\n --- --- 제작을 포함--- --- \\n --- --- n 알리바바 클라우드는 급증하는 생성 AI 수요에 대응해 모델 개발과 애플리케이션--- --- \\n --- --- 구축 절차를--- --- \\n --- --- 간소화하는 올인원 AI 모델 구축 플랫폼 ‘젠AI(GenAI)’도 공개--- --- \\n --- --- ∙ 이 플랫폼은 데이터 관리, 모델 배포와 평가, 신속한 엔지니어링을 위한 종합 도구--- --- \\n --- --- 모음을 제공하여--- --- \\n --- --- 다양한 기업들이 맞춤형 AI 모델을 한층 쉽게 개발할 수 있도록 지원--- --- \\n --- --- ∙ 생성 AI 개발에 필요한 컴퓨팅과 데이터 처리 요구사항을 지원하기 위해 AI 플랫폼(PAI),--- --- \\n --- --- 데이터베이스 솔루션, 컨테이너 서비스와 같은 클라우드 신제품도 발표--- --- \\n --- --- n 알리바바 클라우드는 AI 개발을 촉진하기 위해 올해 말까지 720억 개 매개변수를 가진--- --- \\n --- --- 통이치엔원--- --- \\n --- --- 모델을 오픈소스화한다는 계획도 공개\\n☞ 출처 : Alibaba Cloud, Alibaba Cloud Launches Tongyi Qianwen 2.0 and Industry-specific Models to Support\\nCustomers Reap Benefits of Generative AI, 2023.10.31.--- --- \\n --- --- ------ --- \\n --- --- SPRi AI Brief |\\n2023-12월호\\n코히어, 데이터 투명성 확보를 위한 데이터 출처 탐색기 공개\\nKEY Contents--- --- \\n --- --- n 코히어와 12개 기관이 광범위한 데이터셋에 대한 감사를 통해 원본 데이터 출처,--- --- \\n --- --- 재라이선스 상태,--- --- \\n --- --- 작성자 등 다양한 정보를 제공하는 ‘데이터 출처 탐색기’ 플랫폼을 출시--- --- \\n --- --- n 대화형 플랫폼을 통해 개발자는 데이터셋의 라이선스 상태를 쉽게 파악할 수--- --- \\n --- --- 있으며 데이터셋의--- --- \\n --- --- 구성과 계보도 추적 가능--- --- \\n --- --- £데이터 출처 탐색기, 광범위한 데이터셋 정보 제공을 통해 데이터 투명성 향상--- --- \\n --- --- n AI 기업 코히어(Cohere)가 매사추세츠 공과⼤(MIT), 하버드⼤ 로스쿨, 카네기멜론⼤ 등 12개--- --- \\n --- --- 기관과--- --- \\n --- --- 함께 2023년 10월 25일 ‘데이터 출처 탐색기(Data Provenance Explorer)’ 플랫폼을 공개--- --- \\n --- --- ∙ AI 모델 훈련에 사용되는 데이터셋의 불분명한 출처로 인해 데이터 투명성이--- --- \\n --- --- 확보되지 않아 다양한--- --- \\n --- --- 법적·윤리적 문제가 발생--- --- \\n --- --- ∙ 이에 연구진은 가장 널리 사용되는 2,000여 개의 미세조정 데이터셋을 감사 및 추적하여--- --- \\n --- --- 데이터셋에--- --- \\n --- --- 원본 데이터소스에 대한 태그, 재라이선스(Relicensing) 상태, 작성자, 기타 데이터 속성을--- --- \\n --- --- 지정하고--- --- \\n --- --- 이러한 정보에 접근할 수 있는 플랫폼을 출시--- --- \\n --- --- ∙ 대화형 플랫폼 형태의 데이터 출처 탐색기를 통해 데이터셋의 라이선스 상태를--- --- \\n --- --- 쉽게 파악할 수 있으며,--- --- \\n --- --- 주요 데이터셋의 구성과 데이터 계보도 추적 가능--- --- \\n --- --- n 연구진은 오픈소스 데이터셋에 대한 광범위한 감사를 통해 데이터 투명성에 영향을--- --- \\n --- --- 미치는 주요--- --- \\n --- --- 요인을 발견--- --- \\n --- --- ∙ 깃허브(GitHub), 페이퍼위드코드(Papers with Code)와 같은 크라우드소싱 플랫폼에서 수집한--- --- \\n --- --- 데이터로 훈련된 오픈소스 LLM에서는 데이터 라이선스의 누락 비율이 72~83%에 달함--- --- \\n --- --- ∙ 또한 크라우드소싱 플랫폼이 할당한 라이선스는 데이터셋 원저작자의 의도보다 더--- --- \\n --- --- 광범위한 사용을--- --- \\n --- --- 허용한 경우가 상당수--- --- \\n --- --- ∙ 데이터 생태계 분석 결과, 부정확하거나 모호한 라이선스 문서화 등 데이터 출처--- --- \\n --- --- 입증과 관련된 관행--- --- \\n --- --- 전반에서 구조적 문제가 드러남--- --- \\n --- --- n 연구진은 데이터 출처 탐색기만으로는 해결이 어려운 법적 이슈도 존재한다며--- --- \\n --- --- 일관된 법적 프레임--- --- \\n --- --- 워크의 필요성을 제기--- --- \\n --- --- ∙ 일례로 데이터를 수집한 지역, 모델 훈련 지역, 모델 배포 지역마다 규제가 다르면--- --- \\n --- --- 어떤 법률을--- --- \\n --- --- 적용해야 하는지 실무자의 판단이 어려울 수 있으며, 서로 다른 라이선스를 적용받는--- --- \\n --- --- 개별 데이터셋을--- --- \\n --- --- 하나로 통합해 사용하는 경우에도 각각의 라이선스 조건 준수에 어려움이 발생--- --- \\n --- --- ☞ 출처 : Cohere, Data Provenance Explorer Launches to Tackle Data Transparency Crisis, 2023.10.25.\\n8--- --- \\n --- --- ------ --- \\n --- --- 1. 정책/법제 2. 기업/산업 3. 기술/연구 4. 인력/교육--- --- \\n --- --- 미국 프런티어 모델 포럼, 1,000만 달러 규모의 AI 안전 기금 조성\\nKEY Contents--- --- \\n --- --- n 구글, 앤스로픽, 마이크로소프트, 오픈AI가 참여하는 프런티어 모델 포럼이--- --- \\n --- --- 자선단체와 함께 AI--- --- \\n --- --- 안전 연구를 위한 1,000만 달러 규모의 AI 안전 기금을 조성--- --- \\n --- --- n 프런티어 모델 포럼은 AI 모델의 취약점을 발견하고 검증하는 레드팀 활동을--- --- \\n --- --- 지원하기 위한--- --- \\n --- --- 모델 평가 기법 개발에 자금을 중점 지원할 계획--- --- \\n --- --- £프런티어 모델 포럼, 자선단체와 함께 AI 안전 연구를 위한 기금 조성--- --- \\n --- --- n 구글, 앤스로픽, 마이크로소프트, 오픈AI가 출범한 프런티어 모델 포럼이 2023년 10월--- --- \\n --- --- 25일 AI 안전--- --- \\n --- --- 연구를 위한 기금을 조성한다고 발표--- --- \\n --- --- ∙ 참여사들은 맥거번 재단(Patrick J. McGovern Foundation), 데이비드 앤 루실 패커드 재단(The--- --- \\n --- --- David and Lucile Packard Foundation) 등의 자선단체와 함께 AI 안전 연구를 위한 기금에\\n1,000만 달러 이상을 기부--- --- \\n --- --- ∙ 또한 신기술의 거버넌스와 안전 분야에서 전문성을 갖춘 브루킹스 연구소 출신의--- --- \\n --- --- 크리스 메서롤(Chris--- --- \\n --- --- Meserole)을 포럼의 상무이사로 임명--- --- \\n --- --- n 최근 AI 기술이 급속히 발전하면서 AI 안전에 관한 연구가 부족한 시점에, 포럼은--- --- \\n --- --- 이러한 격차를 해소--- --- \\n --- --- 하기 위해 AI 안전 기금을 조성--- --- \\n --- --- ∙ 참여사들은 지난 7월 백악관 주재의 AI 안전 서약에서 외부자의 AI 시스템 취약점--- --- \\n --- --- 발견과 신고를--- --- \\n --- --- 촉진하기로 약속했으며, 약속을 이행하기 위해 기금을 활용해 외부 연구집단의 AI--- --- \\n --- --- 시스템 평가에--- --- \\n --- --- 자금을 지원할 계획--- --- \\n --- --- £AI 안전 기금으로 AI 레드팀을 위한 모델 평가 기법 개발을 중점 지원할 계획--- --- \\n --- --- n 프런티어 모델 포럼은 AI 안전 기금을 통해 AI 레드팀 활동을 위한 새로운 모델 평가--- --- \\n --- --- 기법의 개발을--- --- \\n --- --- 중점 지원할 예정--- --- \\n --- --- ∙ 포럼에 따르면 AI 레드팀에 대한 자금 지원은 AI 모델의 안전과 보안 기준의 개선과--- --- \\n --- --- 함께 AI 시스템--- --- \\n --- --- 위험 대응 방안에 관한 산업계와 정부, 시민사회의 통찰력 확보에 도움이 될--- --- \\n --- --- 전망으로, 포럼은 향후 몇--- --- \\n --- --- 달 안에 기금 지원을 위한 제안 요청을 받을 계획--- --- \\n --- --- n 프런티어 모델 포럼은 출범 이후 업계 전반에 걸쳐 AI 레드팀 구성에 관한--- --- \\n --- --- 모범사례 공유를 추진하는--- --- \\n --- --- 한편, 첨단 AI 모델의 취약점이나 잠재적으로 위험한 기능 및 위험 완화 관련 정보를--- --- \\n --- --- 공유할 수--- --- \\n --- --- 있는 공개 절차도 개발 중\\n☞ 출처: Google, Anthropic, Google, Microsoft and OpenAI announce Executive Director of the Frontier Model\\nForum and over $10 million for a new AI Safety Fund, 2023.10.25.--- --- \\n --- --- ------ --- \\n --- --- SPRi AI Brief |\\n2023-12월호\\nEU AI 법 3자 협상, 기반모델 규제 관련 견해차로 난항\\nKEY Contents--- --- \\n --- --- n 유럽의회, EU 집행위원회, EU 이사회가 진행 중인 AI 법 최종협상에서 프랑스, 이탈리아,--- --- \\n --- --- 독일이 기반모델에 대한 규제에 반대하며 협상이 난관에 봉착--- --- \\n --- --- n 프랑스, 이탈리아, 독일 3개국은 기반모델 개발기업에 대하여 자율적--- --- \\n --- --- 행동강령을 도입하고--- --- \\n --- --- 준수를 의무화하는 방안을 제안--- --- \\n --- --- £AI 법 3자 협상, 이사회 일부 국가가 기반모델 규제에 반대하며 차질--- --- \\n --- --- n 유럽의회, EU 집행위원회, EU 이사회가 ‘AI 법(AI act)’에 대한 최종협상을 진행 중인 가운데,--- --- \\n --- --- 일부 국가가 기반모델에 대한 규제에 반대하며 협상이 난관에 봉착--- --- \\n --- --- ∙ 10월 24일 열린 3자 협상 회의에서는 사회에 더 큰 영향을 미치는 강력한 AI 모델에 더--- --- \\n --- --- 엄격한 규칙을--- --- \\n --- --- 적용하는 계층적 접근방식에 따라 기반 모델 규제에 대한 기본적인 합의에 도달--- --- \\n --- --- ∙ 그러나 11월 10일 열린 통신작업반 회의에서 EU 이사회의 프랑스, 독일, 이탈리아--- --- \\n --- --- 대표가--- --- \\n --- --- 기반모델에 대한 모든 유형의 규제에 반대하며 협상이 중단됨--- --- \\n --- --- n 유럽 정책 미디어 유랙티브(Euractive)에 따르면 프랑스 AI 기업 미스트랄(Mistral)이 로비를--- --- \\n --- --- 통해--- --- \\n --- --- 기반모델에 대한 규제 반대를 주도--- --- \\n --- --- ∙ 독일의 대표적인 AI 기업 알레프 알파(Aleph Alpha) 역시 독일 정부에 압력을 행사하고 있으며,--- --- \\n --- --- 이들--- --- \\n --- --- 기업은 EU의 AI 규제로 인해 미국과 중국의 경쟁사보다 뒤처질 것을 우려--- --- \\n --- --- £독일, 프랑스, 이탈리아 3개국, 기반모델에 대한 ‘의무적 자율규제’ 제안--- --- \\n --- --- n 통신작업반 회의가 결렬된 이후 독일, 프랑스, 이탈리아는 2023년 11월 19일 비공식--- --- \\n --- --- 문서를 통해--- --- \\n --- --- ‘의무적 자율규제(Mandatory Self-regulation)’ 방식의 기반모델 규제를 제안--- --- \\n --- --- ∙ 3개국은 기반모델 전반에 대한 규제가 기술 중립적이고 위험 기반의 AI 규제--- --- \\n --- --- 원칙에 어긋난다고--- --- \\n --- --- 주장하며 기반모델 전반에 대한 규제가 아닌, 특정 용도로 사용될 수 있는 AI--- --- \\n --- --- 시스템에 대한 규제를 요구--- --- \\n --- --- ∙ 3개국은 자발적인 행동강령을 도입하고 준수를 의무화하는 방안을 제안하며,--- --- \\n --- --- 기반모델 개발기업에--- --- \\n --- --- 머신러닝 기술 정보와 모델의 기능과 한계를 요약한 ‘모델 카드’ 작성을--- --- \\n --- --- 요구하겠다고 설명--- --- \\n --- --- ∙ 3개국은 AI 감독기관이 모델 카드를 토대로 기반모델 개발기업의 행동강령 준수--- --- \\n --- --- 여부를 확인하되,--- --- \\n --- --- 위반 시 곧바로 제재를 가하지 않고 위반행위 분석과 영향 평가를 시행한 후--- --- \\n --- --- 제재하는 방안을 제안--- --- \\n --- --- ☞ 출처: Euractiv, EU’s AI Act negotiations hit the brakes over foundation models, 2023.11.1.\\nEuractiv, France, Germany, Italy push for ‘mandatory self-regulation’ for foundation models in EU’s AI law, 2023.11.19.\\n6--- --- \\n --- --- ------ --- \\n --- --- 1. 정책/법제 2. 기업/산업 3. 기술/연구 4. 인력/교육--- --- \\n --- --- 미국 연방거래위원회, 저작권청에 소비자 보호와 경쟁 측면의 AI 의견서 제출\\nKEY Contents--- --- \\n --- --- n 미국 FTC는 저작권청이 실시한 저작권과 AI 관련 질의공고에 대하여 소비자 보호와--- --- \\n --- --- 경쟁--- --- \\n --- --- 측면의 의견을 제시--- --- \\n --- --- n FTC는 생성 AI로 인한 창작자와 소비자 피해의 가능성에 우려를 표시하는 한편, 일부--- --- \\n --- --- 빅테크가 막대한 재원을 활용해 시장 지배력을 더욱 강화할 수 있다는 우려를 제기--- --- \\n --- --- £FTC, 생성 AI로 인한 소비자와 창작자의 피해 및 빅테크의 시장 지배력 강화 우려--- --- \\n --- --- n 미국 연방거래위원회(FTC)가 2023년 10월 30일 저작권청(U.S. Copyright Office, USCO)이--- --- \\n --- --- 지난 9월 발표한 저작권과 AI 관련 질의공고(Notice of Inquiry, NOI)에 대한 의견서를 발표--- --- \\n --- --- ∙ 저작권청은 생성 AI와 관련된 저작권법과 정책 이슈를 조사하고 있으며, 폭넓은--- --- \\n --- --- 의견 수렴을 통해--- --- \\n --- --- 입법과 규제 조치의 필요성을 검토할 계획--- --- \\n --- --- ∙ FTC는 생성 AI의 개발과 배포가 소비자, 근로자, 중소기업에 피해를 줄 수 있다며--- --- \\n --- --- 소비자의 개인정보--- --- \\n --- --- 침해, 차별과 편견의 자동화, 사기 범죄 등 AI 사용과 관련된 위험에 주목--- --- \\n --- --- n FTC는 저작권법에 따른 권리와 책임 범위를 넘어서는 저작권 문제에 주목하여 생성--- --- \\n --- --- AI로 인해--- --- \\n --- --- 창작자의 경쟁력이 불공정한 피해를 볼 수 있으며, 소비자가 특정 창작자의 작품을--- --- \\n --- --- 생성 AI가--- --- \\n --- --- 만들었다고 오해할 소지가 있다고 지적--- --- \\n --- --- ∙ 저작권법에 저촉되는 행위는 불공정 경쟁이나 기만행위에도 해당될 수--- --- \\n --- --- 있으며, 창작자의 평판 악화,--- --- \\n --- --- 저작물의 가치 저하나 개인정보 유출로 소비자에 상당한 피해를 초래 가능--- --- \\n --- --- n FTC는 일부 빅테크가 막대한 재원을 활용해 생성 AI 사용자의 이탈을 막고 저작권이 있는--- --- \\n --- --- 상용--- --- \\n --- --- 데이터에 대한 독점 라이선스를 확보해 시장 지배력을 더욱 강화할 수 있다는 우려도--- --- \\n --- --- 제기--- --- \\n --- --- ∙ 이와 관련 FTC는 아마존 AI 비서 ‘알렉사(Alexa)’와 스마트홈 보안 기기 ‘링(Ring)’이--- --- \\n --- --- 소비자의 사적--- --- \\n --- --- 정보를 알고리즘 훈련에 사용하여 프라이버시를 침해한 혐의를 조사하는 등 법적--- --- \\n --- --- 권한을 활용해 AI--- --- \\n --- --- 관련 불법 행위에 대처하고 있음--- --- \\n --- --- * FTC는 2023년 5월 31일 동의를 받지 않고 어린이들의 음성과 위치 정보를 활용한 ‘알렉사’와--- --- \\n --- --- 고객의 사적 영상에 대하여--- --- \\n --- --- 직원에게 무제한 접근 권한을 부여한 ‘링’에 3,080만 달러(약 420억 원)의 과징금을 부과--- --- \\n --- --- n FTC는 빠르게 발전하는 생성 AI가 여러 산업과 비즈니스에 변화를 가져올 수 있지만,--- --- \\n --- --- 현행법상--- --- \\n --- --- AI에 관한 예외 조항은 없다며, 모든 권한을 활용해 소비자를 보호하고 개방적이고--- --- \\n --- --- 공정한 경쟁--- --- \\n --- --- 시장을 유지하겠다고 강조\\n☞ 출처: FTC, In Comment Submitted to U.S. Copyright Office, FTC Raises AI-related Competition and\\nConsumer Protection Issues, Stressing That It Will Use Its Authority to Protect Competition and\\nConsumers in AI Markets, 2023.10.30.--- --- \\n --- --- ------ --- \\n --- --- SPRi AI Brief |\\n2023-12월호\\n미국 법원, 예술가들이 생성 AI 기업에 제기한 저작권 소송 기각\\nKEY Contents--- --- \\n --- --- n 미국 캘리포니아 북부지방법원은 미드저니, 스태빌리티AI, 디비언트아트를--- --- \\n --- --- 대상으로 예술가--- --- \\n --- --- 3인이 제기한 저작권 침해 소송을 기각--- --- \\n --- --- n 법원은 기각 이유로 고소장에 제시된 상당수 작품이 저작권청에 등록되지--- --- \\n --- --- 않았으며, AI로--- --- \\n --- --- 생성된 이미지와 특정 작품 간 유사성을 입증하기 어렵다는 점을 제시--- --- \\n --- --- £예술가들의 AI 저작권 침해 소송, 저작권 미등록과 증거불충분으로 기각--- --- \\n --- --- n 미국 캘리포니아 북부지방법원의 윌리엄 오릭(William Orrick) 판사는 2023년 10월 30일 미드저니--- --- \\n --- --- (Midjourney), 스태빌리티AI(Stability AI), 디비언트아트(DeviantArt)에 제기된 저작권 침해 소송을 기각--- --- \\n --- --- ∙ 2023년 1월 예술가 사라 앤더슨(Sarah Anderson), 캘리 맥커넌(Kelly McKernan), 칼라--- --- \\n --- --- 오르티즈(Karla Ortiz)는 이미지 생성 AI 서비스를 개발한 3개 기업을 상대로 저작권 침해--- --- \\n --- --- 소송을 제기--- --- \\n --- --- ∙ 예술가들은 3개 기업이 AI 모델을 학습시키기 위해 원작자 동의 없이 작품을 학습--- --- \\n --- --- 데이터셋에--- --- \\n --- --- 포함하여 저작권을 침해했다고 주장했으며, 법원은 지난 4월 피소 기업들이 제출한--- --- \\n --- --- 기각 신청을--- --- \\n --- --- 수용해 소송을 기각--- --- \\n --- --- n 오릭 판사는 판결문에서 소송을 기각한 핵심 이유로 예술가들의 저작권 미등록을--- --- \\n --- --- 제시--- --- \\n --- --- ∙ 판결문은 소송을 제기한 캘리 맥커넌과 칼라 오르티즈가 미국 저작권청에 예술--- --- \\n --- --- 작품에 대한 저작권을--- --- \\n --- --- 제출하지 않았다는 점을 지적했으며, 사라 앤더슨은 고소장에 인용된 수백 개의 작품--- --- \\n --- --- 중 16개 작품에--- --- \\n --- --- 대해서만 저작권을 보유--- --- \\n --- --- n 판결문은 또한 생성 AI 모델 훈련에 사용된 모든 이미지에 저작권이 있다거나, 생성--- --- \\n --- --- AI로 만든--- --- \\n --- --- 이미지가 저작물을 이용해 훈련되었으므로 저작물의 파생 이미지라는 주장은--- --- \\n --- --- 개연성이 부족하다고--- --- \\n --- --- 지적--- --- \\n --- --- ∙ AI는 새로운 이미지를 생성할 때 다양한 예술가의 작품을 참조하므로, 생성된--- --- \\n --- --- 이미지와 저작권을 가진--- --- \\n --- --- 특정 작품과의 실질적 유사성을 입증할 수 없다면 저작권 침해를 인정받기 어려움--- --- \\n --- --- n 오릭 판사는 원고 측에 고소장을 수정하고 저작권이 침해된 특정 이미지를--- --- \\n --- --- 중심으로 소송 범위를--- --- \\n --- --- 줄여 소송을 다시 제기할 것을 요청--- --- \\n --- --- ∙ 단, 사라 앤더슨이 저작권을 보유한 16개 작품을 무단으로 복제한 스태빌리티AI에 대한--- --- \\n --- --- 저작권 침해--- --- \\n --- --- 소송은 인정되어 계속 진행됨\\n☞ 출처: Venturebeat, Midjourney, Stability AI and DeviantArt win a victory in copyright case by artists- but the\\nfight continues, 2023.10.30.\\n4--- --- \\n --- --- ------ --- \\n --- --- 1. 정책/법제 2. 기업/산업 3. 기술/연구 4. 인력/교육--- --- \\n --- --- 영국 AI 안전성 정상회의에 참가한 28개국, AI 위험에 공동 대응 선언\\nKEY Contents--- --- \\n --- --- n 영국 블레츨리 파크에서 개최된 AI 안전성 정상회의에 참가한 28개국들이 AI 안전--- --- \\n --- --- 보장을--- --- \\n --- --- 위한 협력 방안을 담은 블레츨리 선언을 발표--- --- \\n --- --- n 첨단 AI를 개발하는 국가와 기업들은 AI 시스템에 대한 안전 테스트 계획에--- --- \\n --- --- 합의했으며,--- --- \\n --- --- 영국의 AI 안전 연구소가 전 세계 국가와 협력해 테스트를 주도할 예정--- --- \\n --- --- £AI 안전성 정상회의 참가국들, 블레츨리 선언 통해 AI 안전 보장을 위한 협력에 합의--- --- \\n --- --- n 2023년 11월 1~2일 영국 블레츨리 파크에서 열린 AI 안전성 정상회의(AI Safety Summit)에--- --- \\n --- --- 참가한 28개국 대표들이 AI 위험 관리를 위한 ‘블레츨리 선언’을 발표--- --- \\n --- --- ∙ 선언은 AI 안전 보장을 위해 국가, 국제기구, 기업, 시민사회, 학계를 포함한 모든--- --- \\n --- --- 이해관계자의 협력이--- --- \\n --- --- 중요하다고 강조했으며, 특히 최첨단 AI 시스템 개발 기업은 안전 평가를 비롯한--- --- \\n --- --- 적절한 조치를 취하여--- --- \\n --- --- AI 시스템의 안전을 보장할 책임이 있다고 지적--- --- \\n --- --- ∙ 각국은 AI 안전 보장을 위해 첨단 AI 개발기업의 투명성 향상, 적절한 평가지표와--- --- \\n --- --- 안전 테스트 도구--- --- \\n --- --- 개발, 공공부문 역량 구축과 과학 연구개발 등의 분야에서 협력하기로 합의--- --- \\n --- --- £영국 총리, 정부 주도의 첨단 AI 시스템 안전 테스트 계획 발표--- --- \\n --- --- n 리시 수낙 영국 총리는 AI 안전성 정상회의를 마무리하며 첨단 AI 모델에 대한 안전성--- --- \\n --- --- 시험 계획--- --- \\n --- --- 수립과 테스트 수행을 주도할 영국 AI 안전 연구소의 출범을 발표--- --- \\n --- --- ∙ 첨단 AI 모델의 안전 테스트는 국가 안보와 안전, 사회적 피해를 포함한 여러 잠재적--- --- \\n --- --- 유해 기능에 대한--- --- \\n --- --- 시험을 포함하며, 참석자들은 정부 주도의 외부 안전 테스트에 합의--- --- \\n --- --- ∙ 각국 정부는 테스트와 기타 안전 연구를 위한 공공부문 역량에 투자하고,--- --- \\n --- --- 테스트 결과가 다른 국가와--- --- \\n --- --- 관련된 경우 해당 국가와 결과를 공유하며, 적절한 시기에 공동 표준 개발을 위해--- --- \\n --- --- 노력하기로 합의--- --- \\n --- --- n 참가국들은 튜링상을 수상한 AI 학자인 요슈아 벤지오 교수가 주도하는 ‘과학의--- --- \\n --- --- 현황(State of--- --- \\n --- --- the Science)’ 보고서 작성에도 합의했으며, 보고서를 통해 첨단 AI의 위험과 가능성에 관한--- --- \\n --- --- 기존 연구를 과학적으로 평가하고 향후 AI 안전 연구를 위한 우선순위를 제시할--- --- \\n --- --- 계획--- --- \\n --- --- n 한국은 영국 정부와 6개월 뒤에 온라인으로 AI 미니 정상회의를 공동 개최하기로--- --- \\n --- --- 합의했으며,--- --- \\n --- --- 프랑스 정부와는 1년 후 대면 정상회의를 개최할 예정--- --- \\n --- --- ☞ 출처: Gov.uk, The Bletchley Declaration by Countries Attending the AI Safety Summit, 1-2 November 2023, 2023.11.01.\\nGov.uk, World leaders, top AI companies set out plan for safety testing of frontier as first global AI Safety Summit\\nconcludes, 2023.11.02.--- --- \\n --- --- ------ --- \\n --- --- SPRi AI Brief |\\n2023-12월호--- --- \\n --- --- G7, 히로시마 AI 프로세스를 통해 AI 기업 대상 국제 행동강령에 합의\\nKEY Contents--- --- \\n --- --- n G7이 첨단 AI 시스템을 개발하는 기업을 대상으로 AI 위험 식별과 완화를 위해 자발적인--- --- \\n --- --- 채택을 권고하는 AI 국제 행동강령을 마련--- --- \\n --- --- n 행동강령은 AI 수명주기 전반에 걸친 위험 평가와 완화, 투명성과 책임성의 보장,--- --- \\n --- --- 정보공유와--- --- \\n --- --- 이해관계자 간 협력, 보안 통제, 콘텐츠 인증과 출처 확인 등의 조치를 요구--- --- \\n --- --- £G7, 첨단 AI 시스템의 위험 관리를 위한 국제 행동강령 마련--- --- \\n --- --- n 주요 7개국(G7)*은 2023년 10월 30일 ‘히로시마 AI 프로세스’를 통해 AI 기업 대상의 AI 국제--- --- \\n --- --- 행동강령(International Code of Conduct for Advanced AI Systems)에 합의--- --- \\n --- --- ∙ G7은 2023년 5월 일본 히로시마에서 개최된 정상회의에서 생성 AI에 관한 국제규범--- --- \\n --- --- 마련과--- --- \\n --- --- 정보공유를 위해 ‘히로시마 AI 프로세스’를 출범**--- --- \\n --- --- ∙ 기업의 자발적 채택을 위해 마련된 이번 행동강령은 기반모델과 생성 AI를 포함한--- --- \\n --- --- 첨단 AI 시스템의--- --- \\n --- --- 위험 식별과 완화에 필요한 조치를 포함--- --- \\n --- --- * 주요 7개국(G7)은 미국, 일본, 독일, 영국, 프랑스, 이탈리아, 캐나다를 의미--- --- \\n --- --- ** 5월 정상회의에는 한국, 호주, 베트남 등을 포함한 8개국이 초청을 받았으나, AI 국제--- --- \\n --- --- 행동강령에는 우선 G7 국가만 포함하여 채택--- --- \\n --- --- n G7은 행동강령을 통해 아래의 조치를 제시했으며, 빠르게 발전하는 기술에 대응할 수--- --- \\n --- --- 있도록--- --- \\n --- --- 이해관계자 협의를 통해 필요에 따라 개정할 예정--- --- \\n --- --- ∙ 첨단 AI 시스템의 개발 과정에서 AI 수명주기 전반에 걸쳐 위험을 평가 및 완화하는--- --- \\n --- --- 조치를 채택하고,--- --- \\n --- --- 첨단 AI 시스템의 출시와 배포 이후 취약점과 오용 사고, 오용 유형을 파악해 완화--- --- \\n --- --- ∙ 첨단 AI 시스템의 성능과 한계를 공개하고 적절하거나 부적절한 사용영역을 알리는--- --- \\n --- --- 방법으로 투명성을--- --- \\n --- --- 보장하고 책임성을 강화--- --- \\n --- --- ∙ 산업계, 정부, 시민사회, 학계를 포함해 첨단 AI 시스템을 개발하는 조직 간--- --- \\n --- --- 정보공유와 사고 발생 시--- --- \\n --- --- 신고를 위해 협력하고, 위험 기반 접근방식을 토대로 개인정보보호 정책과 위험--- --- \\n --- --- 완화 조치를 포함하는--- --- \\n --- --- AI 거버넌스와 위험 관리 정책을 마련--- --- \\n --- --- ∙ AI 수명주기 전반에 걸쳐 물리보안, 사이버보안, 내부자 위협 보안을 포함한 강력한--- --- \\n --- --- 보안 통제 구현--- --- \\n --- --- ∙ 사용자가 AI 생성 콘텐츠를 식별할 수 있도록 워터마크를 비롯하여 기술적으로--- --- \\n --- --- 가능한 기법으로--- --- \\n --- --- 신뢰할 수 있는 콘텐츠 인증과 출처 확인 메커니즘을 개발 및 구축--- --- \\n --- --- ∙ 사회적 위험과 안전·보안 문제를 완화하는 연구와 효과적인 완화 대책에 우선--- --- \\n --- --- 투자하고, 기후 위기--- --- \\n --- --- 대응, 세계 보건과 교육 등 세계적 난제 해결을 위한 첨단 AI 시스템을 우선 개발--- --- \\n --- --- ∙ 국제 기술 표준의 개발 및 채택을 가속화하고, 개인정보와 지식재산권 보호를--- --- \\n --- --- 위해 데이터 입력과 수집--- --- \\n --- --- 시 적절한 보호 장치 구현\\n☞ 출처: G7, Hiroshima Process International Code of Conduct for Advanced AI Systems, 2023.10.30.\\n2--- --- \\n --- --- ------ --- \\n --- --- 1. 정책/법제 2. 기업/산업 3. 기술/연구 4. 인력/교육--- --- \\n --- --- 미국, 안전하고 신뢰할 수 있는 AI 개발과 사용에 관한 행정명령 발표\\nKEY Contents--- --- \\n --- --- n 미국 바이든 대통령이 ‘안전하고 신뢰할 수 있는 AI 개발과 사용에 관한 행정명령’에--- --- \\n --- --- 서명하고--- --- \\n --- --- 광범위한 행정 조치를 명시--- --- \\n --- --- n 행정명령은 △AI의 안전과 보안 기준 마련 △개인정보보호 △형평성과 시민권 향상--- --- \\n --- --- △소비자--- --- \\n --- --- 보호 △노동자 지원 △혁신과 경쟁 촉진 △국제협력을 골자로 함--- --- \\n --- --- £바이든 대통령, AI 행정명령 통해 안전하고 신뢰할 수 있는 AI 개발과 활용 추진--- --- \\n --- --- n 미국 바이든 대통령이 2023년 10월 30일 연방정부 차원에서 안전하고 신뢰할 수 있는 AI--- --- \\n --- --- 개발과--- --- \\n --- --- 사용을 보장하기 위한 행정명령을 발표--- --- \\n --- --- ∙ 행정명령은 △AI의 안전과 보안 기준 마련 △개인정보보호 △형평성과 시민권 향상--- --- \\n --- --- △소비자 보호--- --- \\n --- --- △노동자 지원 △혁신과 경쟁 촉진 △국제협력에 관한 내용을 포괄--- --- \\n --- --- n (AI 안전과 보안 기준) 강력한 AI 시스템을 개발하는 기업에게 안전 테스트 결과와--- --- \\n --- --- 시스템에 관한--- --- \\n --- --- 주요 정보를 미국 정부와 공유할 것을 요구하고, AI 시스템의 안전성과 신뢰성 확인을--- --- \\n --- --- 위한 표준 및--- --- \\n --- --- AI 생성 콘텐츠 표시를 위한 표준과 모범사례 확립을 추진--- --- \\n --- --- ∙ △1026 플롭스(FLOPS, Floating Point Operation Per Second)를 초과하는 컴퓨팅 성능 또는 생물학적--- --- \\n --- --- 서열 데이터를 주로 사용하고 1023플롭스를 초과하는 컴퓨팅 성능을 사용하는 모델 △단일--- --- \\n --- --- 데이터센터에서--- --- \\n --- --- 1,000Gbit/s 이상의 네트워킹으로 연결되며 AI 훈련에서 이론상 최대 1020 플롭스를 처리할--- --- \\n --- --- 수 있는--- --- \\n --- --- 컴퓨팅 용량을 갖춘 컴퓨팅 클러스터가 정보공유 요구대상--- --- \\n --- --- n (형평성과 시민권 향상) 법률, 주택, 보건 분야에서 AI의 무책임한 사용으로 인한--- --- \\n --- --- 차별과 편견 및 기타--- --- \\n --- --- 문제를 방지하는 조치를 확대--- --- \\n --- --- ∙ 형사사법 시스템에서 AI 사용 모범사례를 개발하고, 주택 임대 시 AI 알고리즘 차별을--- --- \\n --- --- 막기 위한 명확한--- --- \\n --- --- 지침을 제공하며, 보건복지 부문에서 책임 있는 AI 배포와 사용을 위한 전략을 마련--- --- \\n --- --- n (소비자 보호와 근로자 지원) 의료 분야에서 책임 있는 AI 사용을 촉진하고 맞춤형--- --- \\n --- --- 개인교습 등 학교--- --- \\n --- --- 내 AI 교육 도구 관련 자원을 개발하며, AI로 인한 근로자 피해를 완화하고 이점을--- --- \\n --- --- 극대화하는 원칙과--- --- \\n --- --- 모범사례를 마련\\nn (혁신과 경쟁 촉진) 국가AI연구자원(National Artificial Intelligence Research Resource, NAIRR)*을--- --- \\n --- --- 통해 미국 전역의 AI 연구를 촉진하고, 중소기업과 개발자에 기술과 인프라를 지원--- --- \\n --- --- * 국가 차원에서 AI 연구 인프라를 확충해 더 많은 AI 연구자에게 인프라를 지원하는--- --- \\n --- --- 프로그램--- --- \\n --- --- ∙ 비자 기준과 인터뷰 절차의 현대화와 간소화로 AI 관련 주요 분야의 전문 지식을--- --- \\n --- --- 갖춘 외국인들이 미국에서--- --- \\n --- --- 공부하고 취업할 수 있도록 지원\\n☞ 출처 : The White House, Executive Order on the Safe, Secure, and Trustworthy Development and Use of\\nArtificial Intelligence (E.O. 14110), 2023.10.30.--- --- \\n --- --- --- \\n\\n\\nⅠ\\n. 인공지능 산업 동향 브리프\\n\\n\\n\\n ------ --- \\n --- --- 2023년 12월호\\nⅠ\\n. 인공지능 산업 동향 브리프\\n1. 정책/법제--- --- \\n --- --- ▹ 미국, 안전하고 신뢰할 수 있는 AI 개발과 사용에 관한 행정명령 발표 ·························1--- --- \\n --- --- ▹ G7, 히로시마 AI 프로세스를 통해 AI 기업 대상 국제 행동강령에 합의···························2--- --- \\n --- --- ▹ 영국 AI 안전성 정상회의에 참가한 28개국, AI 위험에 공동 대응 선언···························3--- --- \\n --- --- ▹ 미국 법원, 예술가들이 생성 AI 기업에 제기한 저작권 소송 기각·····································4--- --- \\n --- --- ▹ 미국 연방거래위원회, 저작권청에 소비자 보호와 경쟁 측면의 AI 의견서--- --- \\n --- --- 제출·················5--- --- \\n --- --- ▹ EU AI 법 3자 협상, 기반모델 규제 관련 견해차로 난항···················································6--- --- \\n --- --- 2. 기업/산업--- --- \\n --- --- ▹ 미국 프런티어 모델 포럼, 1,000만 달러 규모의 AI 안전 기금 조성································7--- --- \\n --- --- ▹ 코히어, 데이터 투명성 확보를 위한 데이터 출처 탐색기 공개 ·······································8--- --- \\n --- --- ▹ 알리바바 클라우드, 최신 LLM ‘통이치엔원 2.0’ 공개 ······················································9--- --- \\n --- --- ▹ 삼성전자, 자체 개발 생성 AI ‘삼성 가우스’ 공개 ···························································10--- --- \\n --- --- ▹ 구글, 앤스로픽에 20억 달러 투자로 생성 AI 협력 강화 ················································11--- --- \\n --- --- ▹ IDC, 2027년 AI 소프트웨어 매출 2,500억 달러 돌파 전망···········································12--- --- \\n --- --- ▹ 빌 게이츠, AI 에이전트로 인한 컴퓨터 사용의 패러다임 변화 전망································13--- --- \\n --- --- ▹ 유튜브, 2024년부터 AI 생성 콘텐츠 표시 의무화····························································14--- --- \\n --- --- 3. 기술/연구--- --- \\n --- --- ▹ 영국 과학혁신기술부, AI 안전 연구소 설립 발표······························································15--- --- \\n --- --- ▹ 구글 딥마인드, 범용 AI 모델의 기능과 동작에 대한 분류 체계 발표······························16--- --- \\n --- --- ▹ 갈릴레오의 LLM 환각 지수 평가에서 GPT-4가 가장 우수 ···········································17--- --- \\n --- --- 4. 인력/교육--- --- \\n --- --- ▹ 영국 옥스퍼드 인터넷 연구소, AI 기술자의 임금이 평균 21% 높아·······························18\\nⅡ--- --- \\n --- --- . 주요 행사\\n▹CES 2024·····························································································································19--- --- \\n --- --- ▹AIMLA 2024·························································································································19--- --- \\n --- --- ▹AAAI Conference on Artificial Intelligence··································································19--- --- \\n --- --- --- \\n\\n\\n12\\n2023년 월호'"
      ]
     },
     "execution_count": 56,
     "metadata": {},
     "output_type": "execute_result"
    }
   ],
   "source": [
    "fmt_txt(df)"
   ]
  },
  {
   "cell_type": "markdown",
   "id": "ecc49b18",
   "metadata": {},
   "source": [
    "`embed_cluster_summarize_texts` \n",
    "\n",
    "- 텍스트 리스트에 대해 임베딩 → 클러스터링 → 요약 까지 전체 프로세스를 수행합니다.\n",
    "\n",
    "**과정**\n",
    "\n",
    "- 임베딩 & 클러스터링: `embed_cluster_texts` 함수를 이용해 입력된 텍스트를 임베딩하고 클러스터링한 결과를 `df_clusters` 로 얻습니다. 이 `df_clusters` 는 각 문서와 그 문서를 할당받은 (하나 이상일 수 있는) 클러스터를 가지고 있습니다.\n",
    "  \n",
    "- 클러스터 할당 확장: 어떤 문서가 여러 클러스터에 속할 수 있으므로, 이를 행 단위로 '문서-클러스터' 페어로 확장한 `expanded_df` 를 만듭니다. 이렇게 하면 이후 처리(특히 요약 단계)에서 각 클러스터별로 문서를 쉽게 그룹화할 수 있습니다.\n",
    "\n",
    "- LLM(대형 언어 모델)을 이용한 요약: 각 클러스터에 속한 문서들의 텍스트를 하나의 문자열로 합친 뒤(`fmt_txt` 사용), 프롬프트 템플릿을 통해 LLM에 전달합니다. LLM은 해당 클러스터에 대한 요약 문장을 생성합니다.\n",
    "\n",
    "- 요약 결과 정리: 클러스터별 요약 결과를 `df_summary` DataFrame에 저장합니다. 여기에는 summaries(요약문), level(입력 파라미터로 받은 처리 수준), cluster(클러스터 식별자)가 포함됩니다."
   ]
  },
  {
   "cell_type": "code",
   "execution_count": null,
   "id": "c242240e",
   "metadata": {},
   "outputs": [],
   "source": [
    "### 🧠 함수의 큰 흐름\n",
    "# 1. 텍스트 → 임베딩\n",
    "# 2. 임베딩 → 클러스터링\n",
    "# 3. 클러스터를 펼쳐서 처리하기 쉽게 변환\n",
    "# 4. 각 클러스터의 텍스트들을 모아 LLM 요약\n",
    "# 5. 결과를 두 개의 DataFrame으로 반환\n",
    "### ✅ 입력과 출력\n",
    "# 📥 입력\n",
    "# texts: 텍스트 리스트\n",
    "# level: 요약의 레벨 정보 (메타데이터용)\n",
    "# 📤 출력\n",
    "# df_clusters: 각 텍스트의 임베딩과 클러스터 결과 (원본 기반)\n",
    "# df_summary: 각 클러스터에 대한 요약 정보 (요약 중심)\n",
    "\n",
    "\n",
    "def embed_cluster_summarize_texts(\n",
    "    texts: List[str], level: int\n",
    ") -> Tuple[pd.DataFrame, pd.DataFrame]:\n",
    "    \"\"\"\n",
    "    텍스트 목록에 대해 임베딩, 클러스터링 및 요약을 수행합니다. 이 함수는 먼저 텍스트에 대한 임베딩을 생성하고,\n",
    "    유사성을 기반으로 클러스터링을 수행한 다음, 클러스터 할당을 확장하여 처리를 용이하게 하고 각 클러스터 내의 내용을 요약합니다.\n",
    "\n",
    "    매개변수:\n",
    "    - texts: 처리할 텍스트 문서 목록입니다.\n",
    "    - level: 처리의 깊이나 세부 사항을 정의할 수 있는 정수 매개변수입니다.\n",
    "\n",
    "    반환값:\n",
    "    - 두 개의 데이터프레임을 포함하는 튜플:\n",
    "      1. 첫 번째 데이터프레임(`df_clusters`)은 원본 텍스트, 그들의 임베딩, 그리고 클러스터 할당을 포함합니다.\n",
    "      2. 두 번째 데이터프레임(`df_summary`)은 각 클러스터에 대한 요약, 지정된 세부 수준, 그리고 클러스터 식별자를 포함합니다.\n",
    "    \"\"\"\n",
    "\n",
    "    # 텍스트를 임베딩하고 클러스터링하여 'text', 'embd', 'cluster' 열이 있는 데이터프레임을 생성합니다.\n",
    "    df_clusters = embed_cluster_texts(texts)\n",
    "\n",
    "    # 클러스터를 쉽게 조작하기 위해 데이터프레임을 확장할 준비를 합니다.\n",
    "    expanded_list = []\n",
    "\n",
    "    # 데이터프레임 항목을 문서-클러스터 쌍으로 확장하여 처리를 간단하게 합니다.\n",
    "    ### 결과 예시\n",
    "    #    text                    cluster\n",
    "    # 0  \"Apple ...\"             0\n",
    "    # 1  \"Dog ...\"               1\n",
    "\n",
    "    for index, row in df_clusters.iterrows():\n",
    "        for cluster in row[\"cluster\"]:\n",
    "            expanded_list.append(\n",
    "                {\"text\": row[\"text\"], \"embd\": row[\"embd\"], \"cluster\": cluster}\n",
    "            )\n",
    "\n",
    "    # 확장된 목록에서 새 데이터프레임을 생성합니다.\n",
    "    expanded_df = pd.DataFrame(expanded_list)\n",
    "\n",
    "    # 처리를 위해 고유한 클러스터 식별자를 검색합니다.\n",
    "    # 클러스터 ID 추출\n",
    "    all_clusters = expanded_df[\"cluster\"].unique()\n",
    "\n",
    "    print(f\"--Generated {len(all_clusters)} clusters--\")\n",
    "\n",
    "    # 요약\n",
    "    template = \"\"\"여기 LangChain 표현 언어 문서의 하위 집합이 있습니다.\n",
    "    LangChain 표현 언어는 LangChain에서 체인을 구성하는 방법을 제공합니다.\n",
    "    제공된 문서의 자세한 요약을 제공하십시오.\n",
    "    \n",
    "    문서:\n",
    "    {context}\n",
    "    \"\"\"\n",
    "\n",
    "    prompt = ChatPromptTemplate.from_template(template)\n",
    "    chain = prompt | llm | StrOutputParser()\n",
    "\n",
    "    # 각 클러스터 내의 텍스트를 요약을 위해 포맷팅합니다.\n",
    "    summaries = []\n",
    "\n",
    "    # 각 클러스터마다 요약\n",
    "    for i in all_clusters:\n",
    "        df_cluster = expanded_df[expanded_df[\"cluster\"] == i]\n",
    "        formatted_txt = fmt_txt(df_cluster)\n",
    "        summaries.append(chain.invoke({\"context\": formatted_txt}))\n",
    "\n",
    "    # 요약, 해당 클러스터 및 레벨을 저장할 데이터프레임을 생성합니다.\n",
    "    df_summary = pd.DataFrame(\n",
    "        {\n",
    "            \"summaries\": summaries,\n",
    "            \"level\": [level] * len(summaries),\n",
    "            \"cluster\": list(all_clusters),\n",
    "        }\n",
    "    )\n",
    "    return df_clusters, df_summary"
   ]
  },
  {
   "cell_type": "markdown",
   "id": "a99121bc",
   "metadata": {},
   "source": [
    "### 위 함수 📌 시각 요약\n",
    "  ![alt text](111-2.png)"
   ]
  },
  {
   "cell_type": "markdown",
   "id": "95191d59",
   "metadata": {},
   "source": [
    "`recursive_embed_cluster_summarize`\n",
    "* 텍스트 데이터를 \"재귀적으로\" 임베딩 → 클러스터링 → 요약하는 함수\n",
    "* \"요약의 요약을 반복해서 점점 압축된 핵심 요약을 얻는 것\"\n",
    "- texts\n",
    "- │\n",
    "- ├─ Level 1: embed_cluster_summarize_texts(texts)\n",
    "- │    ├─ 클러스터링 → 요약\n",
    "- │    └─ summaries = [요약1, 요약2, ...]\n",
    "- │\n",
    "- ├─ Level 2: embed_cluster_summarize_texts(summaries)\n",
    "- │    ├─ 클러스터링 → 요약\n",
    "- │    └─ summaries = [요약의 요약1, 요약의 요약2, ...]\n",
    "- │\n",
    "- ├─ ...\n",
    "- │\n",
    "- └─ Level N: 마지막 재귀\n",
    "\n",
    "- 텍스트 데이터에 대해 여러 \"단계(Level)\"에 걸쳐 클러스터링과 요약을 반복적으로 수행합니다.\n",
    "- 처음에는 원본 텍스트에 대해 클러스터링 및 요약을 수행한 뒤, 각 클러스터 요약을 다음 단계의 입력 텍스트로 삼아 다시 임베딩 → 클러스터링 → 요약을 반복합니다."
   ]
  },
  {
   "cell_type": "code",
   "execution_count": 58,
   "id": "c417dece",
   "metadata": {},
   "outputs": [],
   "source": [
    "def recursive_embed_cluster_summarize(\n",
    "    texts: List[str], level: int = 1, n_levels: int = 3\n",
    ") -> Dict[int, Tuple[pd.DataFrame, pd.DataFrame]]:\n",
    "    # 각 레벨에서의 결과를 저장할 사전\n",
    "    results = {}\n",
    "\n",
    "    # 현재 레벨에 대해 임베딩, 클러스터링, 요약 수행\n",
    "    df_clusters, df_summary = embed_cluster_summarize_texts(texts, level)\n",
    "\n",
    "    # 현재 레벨의 결과 저장\n",
    "    results[level] = (df_clusters, df_summary)\n",
    "\n",
    "    # 추가 재귀가 가능하고 의미가 있는지 결정\n",
    "    unique_clusters = df_summary[\"cluster\"].nunique()\n",
    "\n",
    "    # 현재 레벨이 최대 레벨보다 낮고, 유니크한 클러스터가 1개 이상인 경우\n",
    "    if level < n_levels and unique_clusters > 1:\n",
    "        # 다음 레벨의 재귀 입력 텍스트로 요약 사용\n",
    "        new_texts = df_summary[\"summaries\"].tolist()\n",
    "        next_level_results = recursive_embed_cluster_summarize(\n",
    "            new_texts, level + 1, n_levels\n",
    "        )\n",
    "\n",
    "        # 다음 레벨의 결과를 현재 결과 사전에 병합\n",
    "        results.update(next_level_results)\n",
    "\n",
    "    return results"
   ]
  },
  {
   "cell_type": "code",
   "execution_count": null,
   "id": "688a662b",
   "metadata": {},
   "outputs": [
    {
     "name": "stdout",
     "output_type": "stream",
     "text": [
      "--Generated 154 clusters--\n",
      "--Generated 29 clusters--\n",
      "--Generated 6 clusters--\n"
     ]
    },
    {
     "data": {
      "text/plain": [
       "3"
      ]
     },
     "execution_count": 59,
     "metadata": {},
     "output_type": "execute_result"
    }
   ],
   "source": [
    "results = recursive_embed_cluster_summarize(texts_split)\n",
    "len(results)\n",
    "# results = {\n",
    "#   1: (df_clusters_1, df_summary_1),  # 원본 텍스트 기준 요약\n",
    "#   2: (df_clusters_2, df_summary_2),  # 요약의 요약\n",
    "#   3: (df_clusters_3, df_summary_3),  # 핵심 요약\n",
    "# }"
   ]
  },
  {
   "cell_type": "code",
   "execution_count": 60,
   "id": "55a61935",
   "metadata": {},
   "outputs": [
    {
     "data": {
      "text/plain": [
       "{1: (                                                  text  \\\n",
       "  0                              홈페이지 : https://spri.kr/   \n",
       "  1    보고서와 관련된 문의는 AI정책연구실(jayoo@spri.kr, 031-739-73...   \n",
       "  2                                                  ---   \n",
       "  3                          Ⅱ\\n. 주요 행사 일정\\n행사명 행사 주요 개요   \n",
       "  4               - 미국 소비자기술 협회(CTA)가 주관하는 세계 최대 가전·IT·소   \n",
       "  ..                                                 ...   \n",
       "  765  ▹ 영국 옥스퍼드 인터넷 연구소, AI 기술자의 임금이 평균 21% 높아······...   \n",
       "  766  . 주요 행사\\n▹CES 2024····························...   \n",
       "  767  ▹AIMLA 2024···································...   \n",
       "  768  ▹AAAI Conference on Artificial Intelligence···...   \n",
       "  769                             --- \\n\\n\\n12\\n2023년 월호   \n",
       "  \n",
       "                                                    embd  \\\n",
       "  0    [-0.0026456278283149004, -0.02380448393523693,...   \n",
       "  1    [0.03162676468491554, 0.002825413830578327, 0....   \n",
       "  2    [0.051134202629327774, 0.002439019037410617, 0...   \n",
       "  3    [-0.007267317734658718, -0.0167356226593256, 0...   \n",
       "  4    [0.004773746244609356, 0.03261294960975647, 0....   \n",
       "  ..                                                 ...   \n",
       "  765  [-0.01698564551770687, 0.017158733680844307, -...   \n",
       "  766  [0.005128100048750639, -0.02969302237033844, 0...   \n",
       "  767  [0.02323923073709011, -0.015452736057341099, 0...   \n",
       "  768  [0.005626913625746965, -0.027294829487800598, ...   \n",
       "  769  [0.04267948493361473, 0.03185632824897766, 0.0...   \n",
       "  \n",
       "                                                 cluster  \n",
       "  0                                               [11.0]  \n",
       "  1                                               [29.0]  \n",
       "  2    [13.0, 13.0, 13.0, 13.0, 15.0, 15.0, 16.0, 16....  \n",
       "  3                                              [134.0]  \n",
       "  4                                               [59.0]  \n",
       "  ..                                                 ...  \n",
       "  765                                            [141.0]  \n",
       "  766                                             [11.0]  \n",
       "  767                                             [11.0]  \n",
       "  768                                              [8.0]  \n",
       "  769                                             [12.0]  \n",
       "  \n",
       "  [770 rows x 3 columns],\n",
       "                                               summaries  level  cluster\n",
       "  0    제공된 문서는 LangChain 표현 언어에 대한 내용이 아니라, 2024년 주요 ...      1     11.0\n",
       "  1    제공된 문서는 LangChain 표현 언어에 대한 설명보다는 AI 정책 및 AI 사...      1     29.0\n",
       "  2    제공된 문서는 LangChain 표현 언어에 관한 내용이지만, 실제 문서 내용이 모...      1     13.0\n",
       "  3    제공된 문서는 LangChain 표현 언어에 관한 내용으로, LangChain에서 ...      1     15.0\n",
       "  4    제공된 문서는 LangChain 표현 언어에 관한 내용으로, LangChain에서 ...      1     16.0\n",
       "  ..                                                 ...    ...      ...\n",
       "  149  제공된 문서는 LangChain 표현 언어에 대한 설명을 시작하려는 의도가 있으나,...      1    151.0\n",
       "  150  제공된 문서는 2023년 10월 30일 주요 7개국(G7)이 ‘히로시마 AI 프로세...      1      9.0\n",
       "  151  제공된 문서는 미국 바이든 대통령이 2023년 10월 30일 발표한 ‘안전하고 신뢰...      1     31.0\n",
       "  152  제공된 문서는 LangChain 표현 언어에 대한 설명보다는, 바이든 대통령이 발표...      1     25.0\n",
       "  153  제공된 문서의 내용이 \"4. 인력/교육\"이라는 제목만 포함되어 있어 구체적인 세부 ...      1     71.0\n",
       "  \n",
       "  [154 rows x 3 columns]),\n",
       " 2: (                                                  text  \\\n",
       "  0    제공된 문서는 LangChain 표현 언어에 대한 내용이 아니라, 2024년 주요 ...   \n",
       "  1    제공된 문서는 LangChain 표현 언어에 대한 설명보다는 AI 정책 및 AI 사...   \n",
       "  2    제공된 문서는 LangChain 표현 언어에 관한 내용이지만, 실제 문서 내용이 모...   \n",
       "  3    제공된 문서는 LangChain 표현 언어에 관한 내용으로, LangChain에서 ...   \n",
       "  4    제공된 문서는 LangChain 표현 언어에 관한 내용으로, LangChain에서 ...   \n",
       "  ..                                                 ...   \n",
       "  149  제공된 문서는 LangChain 표현 언어에 대한 설명을 시작하려는 의도가 있으나,...   \n",
       "  150  제공된 문서는 2023년 10월 30일 주요 7개국(G7)이 ‘히로시마 AI 프로세...   \n",
       "  151  제공된 문서는 미국 바이든 대통령이 2023년 10월 30일 발표한 ‘안전하고 신뢰...   \n",
       "  152  제공된 문서는 LangChain 표현 언어에 대한 설명보다는, 바이든 대통령이 발표...   \n",
       "  153  제공된 문서의 내용이 \"4. 인력/교육\"이라는 제목만 포함되어 있어 구체적인 세부 ...   \n",
       "  \n",
       "                                                    embd cluster  \n",
       "  0    [0.016875285655260086, 0.0030837575905025005, ...   [2.0]  \n",
       "  1    [0.010522177442908287, 0.0330197699368, -0.013...  [19.0]  \n",
       "  2    [0.020471543073654175, 0.04532984644174576, -0...  [24.0]  \n",
       "  3    [0.025270529091358185, 0.03790579363703728, -0...   [9.0]  \n",
       "  4    [0.026776008307933807, 0.03351130336523056, -0...   [9.0]  \n",
       "  ..                                                 ...     ...  \n",
       "  149  [0.004443557932972908, 0.04033893346786499, -0...  [10.0]  \n",
       "  150  [-0.00956848356872797, 0.02511143498122692, 0....  [14.0]  \n",
       "  151  [0.04047847166657448, 0.0011580284917727113, 0...  [14.0]  \n",
       "  152  [0.020612431690096855, 0.020429696887731552, 0...  [19.0]  \n",
       "  153  [0.007660164497792721, 0.051177866756916046, -...  [10.0]  \n",
       "  \n",
       "  [154 rows x 3 columns],\n",
       "                                              summaries  level  cluster\n",
       "  0   제공된 문서들은 LangChain 표현 언어에 대한 설명이나 체인 구성 방법에 관한...      2      2.0\n",
       "  1   제공된 문서들은 모두 LangChain 표현 언어에 대한 구체적인 설명이나 체인 구...      2     19.0\n",
       "  2   제공된 문서들은 LangChain 표현 언어에 관한 내용의 일부 또는 요약으로, 구...      2     24.0\n",
       "  3   제공된 문서는 LangChain 표현 언어에 관한 내용으로, LangChain 프레...      2      9.0\n",
       "  4   제공된 문서는 LangChain 표현 언어에 관한 내용으로 보이나, 실제로는 매우 ...      2     10.0\n",
       "  5   제공된 문서들은 모두 LangChain 표현 언어에 대한 구체적 설명이나 체인 구성...      2      6.0\n",
       "  6   제공된 문서들은 LangChain 표현 언어 자체에 대한 구체적 문법이나 사용법 설...      2     21.0\n",
       "  7   제공된 문서들은 LangChain 표현 언어에 대한 구체적인 설명이나 체인 구성 방...      2     28.0\n",
       "  8   제공된 문서들은 영국 내 AI 관련 연구와 정책, 국제 협력 현황을 다루고 있으며,...      2     17.0\n",
       "  9   제공된 문서들은 모두 LangChain 표현 언어에 대한 구체적이고 직접적인 설명이...      2     22.0\n",
       "  10  제공된 문서들은 모두 LangChain 표현 언어에 대해 매우 제한적이고 단편적인 ...      2      8.0\n",
       "  11  제공된 여러 문서 요약을 종합하면 다음과 같습니다.\\n\\n---\\n\\n**LangC...      2     13.0\n",
       "  12  제공된 문서들은 모두 LangChain 표현 언어에 관한 내용의 일부임을 명시하고 ...      2     20.0\n",
       "  13  제공된 문서들은 LangChain 표현 언어 자체에 대한 구체적 설명보다는, AI ...      2      4.0\n",
       "  14  제공된 문서들은 모두 LangChain 표현 언어 자체에 대한 직접적인 설명이나 기...      2     23.0\n",
       "  15  제공된 여러 단편적이고 불완전한 텍스트를 종합하면, LangChain 표현 언어에 ...      2     26.0\n",
       "  16  제공된 문서들은 LangChain 표현 언어 자체에 대한 구체적 설명보다는, AI ...      2      0.0\n",
       "  17  제공된 문서들은 LangChain 표현 언어에 대한 직접적인 설명이나 구체적인 문법...      2     25.0\n",
       "  18  제공된 문서들은 LangChain 표현 언어에 관한 설명이 아니라, 주로 저작권 침...      2     11.0\n",
       "  19  제공된 문서들은 LangChain 표현 언어와 직접적인 관련 내용보다는, 구글 딥마...      2      3.0\n",
       "  20  제공된 문서는 LangChain 표현 언어에 대한 구체적 설명이나 기술적 내용보다는...      2     16.0\n",
       "  21  제공된 문서는 LangChain 표현 언어에 대해 소개하려는 의도를 가지고 있으나,...      2      1.0\n",
       "  22  제공된 문서들은 LangChain 표현 언어에 대해 다음과 같이 요약할 수 있습니다...      2     27.0\n",
       "  23  제공된 문서들은 모두 생성 AI와 관련된 법적, 정책적, 산업적 이슈를 다루고 있으...      2     15.0\n",
       "  24  제공된 문서는 LangChain 표현 언어에 대해 간략히 소개하면서, 실제로는 다음...      2     12.0\n",
       "  25  제공된 문서는 LangChain 표현 언어에 관한 내용이 아니라, 구글과 AI 스타...      2      7.0\n",
       "  26  제공된 문서는 LangChain 표현 언어에 대해 간단히 “LangChain에서 체...      2      5.0\n",
       "  27  제공된 문서들은 LangChain 표현 언어와 직접적인 관련성은 적으나, AI 안전...      2     14.0\n",
       "  28  제공된 문서들은 2023년 말 유럽연합(EU) 내 AI 법안(‘AI Act’) 최종...      2     18.0),\n",
       " 3: (                                                 text  \\\n",
       "  0   제공된 문서들은 LangChain 표현 언어에 대한 설명이나 체인 구성 방법에 관한...   \n",
       "  1   제공된 문서들은 모두 LangChain 표현 언어에 대한 구체적인 설명이나 체인 구...   \n",
       "  2   제공된 문서들은 LangChain 표현 언어에 관한 내용의 일부 또는 요약으로, 구...   \n",
       "  3   제공된 문서는 LangChain 표현 언어에 관한 내용으로, LangChain 프레...   \n",
       "  4   제공된 문서는 LangChain 표현 언어에 관한 내용으로 보이나, 실제로는 매우 ...   \n",
       "  5   제공된 문서들은 모두 LangChain 표현 언어에 대한 구체적 설명이나 체인 구성...   \n",
       "  6   제공된 문서들은 LangChain 표현 언어 자체에 대한 구체적 문법이나 사용법 설...   \n",
       "  7   제공된 문서들은 LangChain 표현 언어에 대한 구체적인 설명이나 체인 구성 방...   \n",
       "  8   제공된 문서들은 영국 내 AI 관련 연구와 정책, 국제 협력 현황을 다루고 있으며,...   \n",
       "  9   제공된 문서들은 모두 LangChain 표현 언어에 대한 구체적이고 직접적인 설명이...   \n",
       "  10  제공된 문서들은 모두 LangChain 표현 언어에 대해 매우 제한적이고 단편적인 ...   \n",
       "  11  제공된 여러 문서 요약을 종합하면 다음과 같습니다.\\n\\n---\\n\\n**LangC...   \n",
       "  12  제공된 문서들은 모두 LangChain 표현 언어에 관한 내용의 일부임을 명시하고 ...   \n",
       "  13  제공된 문서들은 LangChain 표현 언어 자체에 대한 구체적 설명보다는, AI ...   \n",
       "  14  제공된 문서들은 모두 LangChain 표현 언어 자체에 대한 직접적인 설명이나 기...   \n",
       "  15  제공된 여러 단편적이고 불완전한 텍스트를 종합하면, LangChain 표현 언어에 ...   \n",
       "  16  제공된 문서들은 LangChain 표현 언어 자체에 대한 구체적 설명보다는, AI ...   \n",
       "  17  제공된 문서들은 LangChain 표현 언어에 대한 직접적인 설명이나 구체적인 문법...   \n",
       "  18  제공된 문서들은 LangChain 표현 언어에 관한 설명이 아니라, 주로 저작권 침...   \n",
       "  19  제공된 문서들은 LangChain 표현 언어와 직접적인 관련 내용보다는, 구글 딥마...   \n",
       "  20  제공된 문서는 LangChain 표현 언어에 대한 구체적 설명이나 기술적 내용보다는...   \n",
       "  21  제공된 문서는 LangChain 표현 언어에 대해 소개하려는 의도를 가지고 있으나,...   \n",
       "  22  제공된 문서들은 LangChain 표현 언어에 대해 다음과 같이 요약할 수 있습니다...   \n",
       "  23  제공된 문서들은 모두 생성 AI와 관련된 법적, 정책적, 산업적 이슈를 다루고 있으...   \n",
       "  24  제공된 문서는 LangChain 표현 언어에 대해 간략히 소개하면서, 실제로는 다음...   \n",
       "  25  제공된 문서는 LangChain 표현 언어에 관한 내용이 아니라, 구글과 AI 스타...   \n",
       "  26  제공된 문서는 LangChain 표현 언어에 대해 간단히 “LangChain에서 체...   \n",
       "  27  제공된 문서들은 LangChain 표현 언어와 직접적인 관련성은 적으나, AI 안전...   \n",
       "  28  제공된 문서들은 2023년 말 유럽연합(EU) 내 AI 법안(‘AI Act’) 최종...   \n",
       "  \n",
       "                                                   embd cluster  \n",
       "  0   [-1.1945685400860384e-05, 0.010445183143019676...   [3.0]  \n",
       "  1   [0.02221190370619297, 0.03267659246921539, -0....   [2.0]  \n",
       "  2   [0.009055192582309246, 0.048978690057992935, -...   [1.0]  \n",
       "  3   [0.0177784264087677, 0.05621679499745369, -0.0...   [1.0]  \n",
       "  4   [-0.011564173735678196, 0.035568855702877045, ...   [1.0]  \n",
       "  5   [0.002557937754318118, 0.0052106138318777084, ...   [3.0]  \n",
       "  6   [0.017560340464115143, 0.06993362307548523, -0...   [5.0]  \n",
       "  7   [0.016301335766911507, 0.031240982934832573, -...   [5.0]  \n",
       "  8   [0.00023811000573914498, 0.0468953475356102, 0...   [4.0]  \n",
       "  9   [0.008606933057308197, 0.049435701221227646, -...   [5.0]  \n",
       "  10  [0.007470404729247093, 0.04760861396789551, -0...   [1.0]  \n",
       "  11  [-0.00011791651922976598, 0.06373965740203857,...   [1.0]  \n",
       "  12  [-0.005342474207282066, 0.07059898227453232, -...   [1.0]  \n",
       "  13  [0.03034532070159912, 0.0486849881708622, -0.0...   [2.0]  \n",
       "  14  [0.029048657044768333, 0.05281573906540871, -0...   [5.0]  \n",
       "  15  [0.030361007899045944, 0.04558892175555229, -0...   [0.0]  \n",
       "  16  [0.018494952470064163, 0.026905113831162453, -...   [3.0]  \n",
       "  17  [0.029180850833654404, 0.06126784160733223, -0...   [1.0]  \n",
       "  18  [0.032267071306705475, 0.06982751935720444, 0....   [5.0]  \n",
       "  19  [0.007542673498392105, 0.052269745618104935, -...   [3.0]  \n",
       "  20  [0.047777801752090454, 0.045902691781520844, -...   [2.0]  \n",
       "  21  [-0.004125630017369986, 0.03713762015104294, -...   [0.0]  \n",
       "  22  [0.03213828429579735, 0.06874074041843414, -0....   [1.0]  \n",
       "  23  [0.04209449142217636, 0.025637881830334663, -0...   [4.0]  \n",
       "  24  [0.007625970058143139, 0.028432974591851234, -...   [5.0]  \n",
       "  25  [0.02547711879014969, 0.03750276938080788, 0.0...   [3.0]  \n",
       "  26  [0.006892924662679434, -0.004920909181237221, ...   [0.0]  \n",
       "  27  [0.024348122999072075, 0.05174226686358452, -0...   [4.0]  \n",
       "  28  [-0.018832268193364143, 0.050730135291814804, ...   [4.0]  ,\n",
       "                                             summaries  level  cluster\n",
       "  0  제공된 문서들은 LangChain 표현 언어 자체에 대한 구체적인 설명이나 체인 구...      3      3.0\n",
       "  1  제공된 문서들은 LangChain 표현 언어 자체에 대한 구체적 기술 설명이나 체인...      3      2.0\n",
       "  2  제공된 여러 문서의 내용을 종합하여 LangChain 표현 언어에 대해 요약하면 다...      3      1.0\n",
       "  3  제공된 문서들의 하위 집합은 LangChain 표현 언어 자체의 구체적인 문법, 사...      3      5.0\n",
       "  4  제공된 문서들은 LangChain 표현 언어 자체에 대한 직접적 설명보다는, AI ...      3      4.0\n",
       "  5  제공된 여러 단편적이고 불완전한 텍스트를 종합한 결과, LangChain 표현 언어...      3      0.0)}"
      ]
     },
     "execution_count": 60,
     "metadata": {},
     "output_type": "execute_result"
    }
   ],
   "source": [
    "results"
   ]
  },
  {
   "cell_type": "markdown",
   "id": "8db60197",
   "metadata": {},
   "source": [
    "전체 문서의 개수를 확인합니다."
   ]
  },
  {
   "cell_type": "code",
   "execution_count": 61,
   "id": "2de5a73a",
   "metadata": {},
   "outputs": [
    {
     "data": {
      "text/plain": [
       "770"
      ]
     },
     "execution_count": 61,
     "metadata": {},
     "output_type": "execute_result"
    }
   ],
   "source": [
    "# 전체 문서의 개수\n",
    "len(texts_split)"
   ]
  },
  {
   "cell_type": "markdown",
   "id": "87ab3e94",
   "metadata": {},
   "source": [
    "이제 `recursive_embed_cluster_summarize` 함수를 호출하여 트리 구축을 시작합니다.\n",
    "\n",
    "- `level=1` 은 첫 번째 단계의 클러스터링 및 요약부터 시작한다는 의미입니다.\n",
    "- `n_levels=3` 은 최대 세 단계까지(조건이 맞는 한) 클러스터링과 요약을 재귀적으로 반복할 수 있다는 뜻입니다.\n",
    "- \n",
    "결과적으로, 원본 텍스트(leaf_texts)는 먼저 level=1에서 요약되고 클러스터링됩니다. 그 결과로 나온 각 클러스터의 요약이 다음 단계의 입력(level=2)이 되고, 이를 다시 요약하여 클러스터링 한 결과가 level=3 단계의 입력이 될 수 있습니다. \n",
    "\n",
    "이 과정을 통해 점차 더 추상적이고 집약된 요약 정보를 얻을 수 있게 됩니다."
   ]
  },
  {
   "cell_type": "code",
   "execution_count": 62,
   "id": "e429ad5d",
   "metadata": {},
   "outputs": [
    {
     "name": "stdout",
     "output_type": "stream",
     "text": [
      "--Generated 129 clusters--\n",
      "--Generated 29 clusters--\n",
      "--Generated 5 clusters--\n"
     ]
    }
   ],
   "source": [
    "# 트리 구축\n",
    "leaf_texts = texts_split.copy()\n",
    "\n",
    "# 재귀적으로 임베딩, 클러스터링 및 요약을 수행하여 결과를 얻음\n",
    "results = recursive_embed_cluster_summarize(leaf_texts, level=1, n_levels=3)"
   ]
  },
  {
   "cell_type": "code",
   "execution_count": null,
   "id": "4c4c9339",
   "metadata": {},
   "outputs": [
    {
     "data": {
      "text/plain": [
       "dict_keys([1, 2, 3])"
      ]
     },
     "execution_count": 63,
     "metadata": {},
     "output_type": "execute_result"
    }
   ],
   "source": [
    "### 레벨이 3개로 나뉘어져 있고, 레벨마다 두 개의 테이블이 있다.\n",
    "results.keys()"
   ]
  },
  {
   "cell_type": "code",
   "execution_count": 69,
   "id": "c3d113d9",
   "metadata": {},
   "outputs": [
    {
     "data": {
      "text/html": [
       "<div>\n",
       "<style scoped>\n",
       "    .dataframe tbody tr th:only-of-type {\n",
       "        vertical-align: middle;\n",
       "    }\n",
       "\n",
       "    .dataframe tbody tr th {\n",
       "        vertical-align: top;\n",
       "    }\n",
       "\n",
       "    .dataframe thead th {\n",
       "        text-align: right;\n",
       "    }\n",
       "</style>\n",
       "<table border=\"1\" class=\"dataframe\">\n",
       "  <thead>\n",
       "    <tr style=\"text-align: right;\">\n",
       "      <th></th>\n",
       "      <th>text</th>\n",
       "      <th>embd</th>\n",
       "      <th>cluster</th>\n",
       "    </tr>\n",
       "  </thead>\n",
       "  <tbody>\n",
       "    <tr>\n",
       "      <th>0</th>\n",
       "      <td>홈페이지 : https://spri.kr/</td>\n",
       "      <td>[-0.0026220136787742376, -0.023787720128893852...</td>\n",
       "      <td>[108.0]</td>\n",
       "    </tr>\n",
       "    <tr>\n",
       "      <th>1</th>\n",
       "      <td>보고서와 관련된 문의는 AI정책연구실(jayoo@spri.kr, 031-739-73...</td>\n",
       "      <td>[0.03161846846342087, 0.002487662248313427, 0....</td>\n",
       "      <td>[72.0]</td>\n",
       "    </tr>\n",
       "    <tr>\n",
       "      <th>2</th>\n",
       "      <td>---</td>\n",
       "      <td>[0.05114144831895828, 0.0024631440173834562, 0...</td>\n",
       "      <td>[34.0, 34.0, 34.0, 35.0, 35.0, 36.0, 36.0, 37....</td>\n",
       "    </tr>\n",
       "    <tr>\n",
       "      <th>3</th>\n",
       "      <td>Ⅱ\\n. 주요 행사 일정\\n행사명 행사 주요 개요</td>\n",
       "      <td>[-0.0072489711456000805, -0.0167401023209095, ...</td>\n",
       "      <td>[42.0]</td>\n",
       "    </tr>\n",
       "    <tr>\n",
       "      <th>4</th>\n",
       "      <td>- 미국 소비자기술 협회(CTA)가 주관하는 세계 최대 가전·IT·소</td>\n",
       "      <td>[0.004694562405347824, 0.03264385089278221, 0....</td>\n",
       "      <td>[61.0]</td>\n",
       "    </tr>\n",
       "    <tr>\n",
       "      <th>...</th>\n",
       "      <td>...</td>\n",
       "      <td>...</td>\n",
       "      <td>...</td>\n",
       "    </tr>\n",
       "    <tr>\n",
       "      <th>765</th>\n",
       "      <td>▹ 영국 옥스퍼드 인터넷 연구소, AI 기술자의 임금이 평균 21% 높아······...</td>\n",
       "      <td>[-0.01683976873755455, 0.016932042315602303, -...</td>\n",
       "      <td>[73.0]</td>\n",
       "    </tr>\n",
       "    <tr>\n",
       "      <th>766</th>\n",
       "      <td>. 주요 행사\\n▹CES 2024····························...</td>\n",
       "      <td>[0.005128100048750639, -0.02969302237033844, 0...</td>\n",
       "      <td>[103.0]</td>\n",
       "    </tr>\n",
       "    <tr>\n",
       "      <th>767</th>\n",
       "      <td>▹AIMLA 2024···································...</td>\n",
       "      <td>[0.023226182907819748, -0.015439022332429886, ...</td>\n",
       "      <td>[103.0]</td>\n",
       "    </tr>\n",
       "    <tr>\n",
       "      <th>768</th>\n",
       "      <td>▹AAAI Conference on Artificial Intelligence···...</td>\n",
       "      <td>[0.005623756442219019, -0.02729555033147335, 0...</td>\n",
       "      <td>[104.0]</td>\n",
       "    </tr>\n",
       "    <tr>\n",
       "      <th>769</th>\n",
       "      <td>--- \\n\\n\\n12\\n2023년 월호</td>\n",
       "      <td>[0.04269938915967941, 0.031824637204408646, 0....</td>\n",
       "      <td>[40.0]</td>\n",
       "    </tr>\n",
       "  </tbody>\n",
       "</table>\n",
       "<p>770 rows × 3 columns</p>\n",
       "</div>"
      ],
      "text/plain": [
       "                                                  text  \\\n",
       "0                              홈페이지 : https://spri.kr/   \n",
       "1    보고서와 관련된 문의는 AI정책연구실(jayoo@spri.kr, 031-739-73...   \n",
       "2                                                  ---   \n",
       "3                          Ⅱ\\n. 주요 행사 일정\\n행사명 행사 주요 개요   \n",
       "4               - 미국 소비자기술 협회(CTA)가 주관하는 세계 최대 가전·IT·소   \n",
       "..                                                 ...   \n",
       "765  ▹ 영국 옥스퍼드 인터넷 연구소, AI 기술자의 임금이 평균 21% 높아······...   \n",
       "766  . 주요 행사\\n▹CES 2024····························...   \n",
       "767  ▹AIMLA 2024···································...   \n",
       "768  ▹AAAI Conference on Artificial Intelligence···...   \n",
       "769                             --- \\n\\n\\n12\\n2023년 월호   \n",
       "\n",
       "                                                  embd  \\\n",
       "0    [-0.0026220136787742376, -0.023787720128893852...   \n",
       "1    [0.03161846846342087, 0.002487662248313427, 0....   \n",
       "2    [0.05114144831895828, 0.0024631440173834562, 0...   \n",
       "3    [-0.0072489711456000805, -0.0167401023209095, ...   \n",
       "4    [0.004694562405347824, 0.03264385089278221, 0....   \n",
       "..                                                 ...   \n",
       "765  [-0.01683976873755455, 0.016932042315602303, -...   \n",
       "766  [0.005128100048750639, -0.02969302237033844, 0...   \n",
       "767  [0.023226182907819748, -0.015439022332429886, ...   \n",
       "768  [0.005623756442219019, -0.02729555033147335, 0...   \n",
       "769  [0.04269938915967941, 0.031824637204408646, 0....   \n",
       "\n",
       "                                               cluster  \n",
       "0                                              [108.0]  \n",
       "1                                               [72.0]  \n",
       "2    [34.0, 34.0, 34.0, 35.0, 35.0, 36.0, 36.0, 37....  \n",
       "3                                               [42.0]  \n",
       "4                                               [61.0]  \n",
       "..                                                 ...  \n",
       "765                                             [73.0]  \n",
       "766                                            [103.0]  \n",
       "767                                            [103.0]  \n",
       "768                                            [104.0]  \n",
       "769                                             [40.0]  \n",
       "\n",
       "[770 rows x 3 columns]"
      ]
     },
     "execution_count": 69,
     "metadata": {},
     "output_type": "execute_result"
    }
   ],
   "source": [
    "results[1][0]"
   ]
  },
  {
   "cell_type": "code",
   "execution_count": 70,
   "id": "506d1cee",
   "metadata": {},
   "outputs": [
    {
     "data": {
      "text/html": [
       "<div>\n",
       "<style scoped>\n",
       "    .dataframe tbody tr th:only-of-type {\n",
       "        vertical-align: middle;\n",
       "    }\n",
       "\n",
       "    .dataframe tbody tr th {\n",
       "        vertical-align: top;\n",
       "    }\n",
       "\n",
       "    .dataframe thead th {\n",
       "        text-align: right;\n",
       "    }\n",
       "</style>\n",
       "<table border=\"1\" class=\"dataframe\">\n",
       "  <thead>\n",
       "    <tr style=\"text-align: right;\">\n",
       "      <th></th>\n",
       "      <th>summaries</th>\n",
       "      <th>level</th>\n",
       "      <th>cluster</th>\n",
       "    </tr>\n",
       "  </thead>\n",
       "  <tbody>\n",
       "    <tr>\n",
       "      <th>0</th>\n",
       "      <td>제공된 문서는 LangChain 표현 언어에 대한 설명이라기보다는, 5G, AR&amp;V...</td>\n",
       "      <td>1</td>\n",
       "      <td>108.0</td>\n",
       "    </tr>\n",
       "    <tr>\n",
       "      <th>1</th>\n",
       "      <td>제공된 문서는 LangChain 표현 언어에 대한 직접적인 설명보다는 AI 정책 및...</td>\n",
       "      <td>1</td>\n",
       "      <td>72.0</td>\n",
       "    </tr>\n",
       "    <tr>\n",
       "      <th>2</th>\n",
       "      <td>제공된 문서는 LangChain 표현 언어에 관한 내용이지만, 실제 문서 내용이 모...</td>\n",
       "      <td>1</td>\n",
       "      <td>34.0</td>\n",
       "    </tr>\n",
       "    <tr>\n",
       "      <th>3</th>\n",
       "      <td>제공된 문서는 LangChain 표현 언어에 관한 내용이지만, 실제 문서 내용이 모...</td>\n",
       "      <td>1</td>\n",
       "      <td>35.0</td>\n",
       "    </tr>\n",
       "    <tr>\n",
       "      <th>4</th>\n",
       "      <td>제공된 문서는 LangChain 표현 언어에 관한 내용으로, LangChain에서 ...</td>\n",
       "      <td>1</td>\n",
       "      <td>36.0</td>\n",
       "    </tr>\n",
       "    <tr>\n",
       "      <th>...</th>\n",
       "      <td>...</td>\n",
       "      <td>...</td>\n",
       "      <td>...</td>\n",
       "    </tr>\n",
       "    <tr>\n",
       "      <th>124</th>\n",
       "      <td>제공된 문서는 LangChain 표현 언어에 대한 설명을 시작하려는 의도로 보이나,...</td>\n",
       "      <td>1</td>\n",
       "      <td>64.0</td>\n",
       "    </tr>\n",
       "    <tr>\n",
       "      <th>125</th>\n",
       "      <td>제공된 문서는 LangChain 표현 언어에 대한 설명보다는 법원 판결과 관련된 내...</td>\n",
       "      <td>1</td>\n",
       "      <td>62.0</td>\n",
       "    </tr>\n",
       "    <tr>\n",
       "      <th>126</th>\n",
       "      <td>제공된 문서는 LangChain 표현 언어에 대한 설명을 시작하는 부분과, 저작권 ...</td>\n",
       "      <td>1</td>\n",
       "      <td>67.0</td>\n",
       "    </tr>\n",
       "    <tr>\n",
       "      <th>127</th>\n",
       "      <td>제공된 문서는 미국 바이든 대통령이 2023년 10월 30일 발표한 ‘안전하고 신뢰...</td>\n",
       "      <td>1</td>\n",
       "      <td>74.0</td>\n",
       "    </tr>\n",
       "    <tr>\n",
       "      <th>128</th>\n",
       "      <td>제공된 문서 내용이 매우 제한적이며, 실제 LangChain 표현 언어에 대한 구체...</td>\n",
       "      <td>1</td>\n",
       "      <td>40.0</td>\n",
       "    </tr>\n",
       "  </tbody>\n",
       "</table>\n",
       "<p>129 rows × 3 columns</p>\n",
       "</div>"
      ],
      "text/plain": [
       "                                             summaries  level  cluster\n",
       "0    제공된 문서는 LangChain 표현 언어에 대한 설명이라기보다는, 5G, AR&V...      1    108.0\n",
       "1    제공된 문서는 LangChain 표현 언어에 대한 직접적인 설명보다는 AI 정책 및...      1     72.0\n",
       "2    제공된 문서는 LangChain 표현 언어에 관한 내용이지만, 실제 문서 내용이 모...      1     34.0\n",
       "3    제공된 문서는 LangChain 표현 언어에 관한 내용이지만, 실제 문서 내용이 모...      1     35.0\n",
       "4    제공된 문서는 LangChain 표현 언어에 관한 내용으로, LangChain에서 ...      1     36.0\n",
       "..                                                 ...    ...      ...\n",
       "124  제공된 문서는 LangChain 표현 언어에 대한 설명을 시작하려는 의도로 보이나,...      1     64.0\n",
       "125  제공된 문서는 LangChain 표현 언어에 대한 설명보다는 법원 판결과 관련된 내...      1     62.0\n",
       "126  제공된 문서는 LangChain 표현 언어에 대한 설명을 시작하는 부분과, 저작권 ...      1     67.0\n",
       "127  제공된 문서는 미국 바이든 대통령이 2023년 10월 30일 발표한 ‘안전하고 신뢰...      1     74.0\n",
       "128  제공된 문서 내용이 매우 제한적이며, 실제 LangChain 표현 언어에 대한 구체...      1     40.0\n",
       "\n",
       "[129 rows x 3 columns]"
      ]
     },
     "execution_count": 70,
     "metadata": {},
     "output_type": "execute_result"
    }
   ],
   "source": [
    "results[1][1]"
   ]
  },
  {
   "cell_type": "code",
   "execution_count": 73,
   "id": "9acd0870",
   "metadata": {},
   "outputs": [
    {
     "data": {
      "text/html": [
       "<div>\n",
       "<style scoped>\n",
       "    .dataframe tbody tr th:only-of-type {\n",
       "        vertical-align: middle;\n",
       "    }\n",
       "\n",
       "    .dataframe tbody tr th {\n",
       "        vertical-align: top;\n",
       "    }\n",
       "\n",
       "    .dataframe thead th {\n",
       "        text-align: right;\n",
       "    }\n",
       "</style>\n",
       "<table border=\"1\" class=\"dataframe\">\n",
       "  <thead>\n",
       "    <tr style=\"text-align: right;\">\n",
       "      <th></th>\n",
       "      <th>text</th>\n",
       "      <th>embd</th>\n",
       "      <th>cluster</th>\n",
       "    </tr>\n",
       "  </thead>\n",
       "  <tbody>\n",
       "    <tr>\n",
       "      <th>0</th>\n",
       "      <td>제공된 문서들은 LangChain 표현 언어에 대한 구체적이고 실질적인 설명이나 체...</td>\n",
       "      <td>[-0.004334051627665758, 0.03586605563759804, -...</td>\n",
       "      <td>[3.0]</td>\n",
       "    </tr>\n",
       "    <tr>\n",
       "      <th>1</th>\n",
       "      <td>제공된 여러 문서들은 모두 **LangChain 표현 언어 자체에 대한 구체적 설명...</td>\n",
       "      <td>[0.02327398769557476, 0.03808298334479332, -0....</td>\n",
       "      <td>[4.0]</td>\n",
       "    </tr>\n",
       "    <tr>\n",
       "      <th>2</th>\n",
       "      <td>제공된 문서는 LangChain 표현 언어에 관한 내용임을 알 수 있으나, 실제 문...</td>\n",
       "      <td>[0.01372564397752285, 0.031900860369205475, -0...</td>\n",
       "      <td>[2.0]</td>\n",
       "    </tr>\n",
       "    <tr>\n",
       "      <th>3</th>\n",
       "      <td>제공된 여러 단편적 문서 내용을 종합하면, LangChain 표현 언어는 다음과 같...</td>\n",
       "      <td>[0.02473674714565277, 0.04862183704972267, -0....</td>\n",
       "      <td>[0.0]</td>\n",
       "    </tr>\n",
       "    <tr>\n",
       "      <th>4</th>\n",
       "      <td>제공된 문서들은 주로 EU 내 AI 법(AI Act) 제정 및 기반모델(Founda...</td>\n",
       "      <td>[0.015201035887002945, 0.04443379491567612, 0....</td>\n",
       "      <td>[1.0]</td>\n",
       "    </tr>\n",
       "    <tr>\n",
       "      <th>5</th>\n",
       "      <td>제공된 문서들은 모두 LangChain 표현 언어에 대한 구체적 설명이나 체인 구성...</td>\n",
       "      <td>[0.015847740694880486, 0.018610192462801933, -...</td>\n",
       "      <td>[4.0]</td>\n",
       "    </tr>\n",
       "    <tr>\n",
       "      <th>6</th>\n",
       "      <td>제공된 문서들은 모두 LangChain 표현 언어에 대한 직접적인 설명이나 체인 구...</td>\n",
       "      <td>[0.022804930806159973, 0.05258014053106308, -0...</td>\n",
       "      <td>[4.0]</td>\n",
       "    </tr>\n",
       "    <tr>\n",
       "      <th>7</th>\n",
       "      <td>제공된 문서는 LangChain 표현 언어에 대한 직접적이고 구체적인 설명보다는, ...</td>\n",
       "      <td>[0.016360556706786156, 0.05305593088269234, -0...</td>\n",
       "      <td>[2.0]</td>\n",
       "    </tr>\n",
       "    <tr>\n",
       "      <th>8</th>\n",
       "      <td>제공된 문서는 LangChain 표현 언어에 관한 내용의 일부로, LangChain...</td>\n",
       "      <td>[0.01755683869123459, 0.02638312242925167, 0.0...</td>\n",
       "      <td>[0.0]</td>\n",
       "    </tr>\n",
       "    <tr>\n",
       "      <th>9</th>\n",
       "      <td>제공된 문서들은 LangChain 표현 언어에 대한 설명이 아니라, AI 기술과 시...</td>\n",
       "      <td>[0.010195399634540081, 0.04058496654033661, -0...</td>\n",
       "      <td>[4.0]</td>\n",
       "    </tr>\n",
       "    <tr>\n",
       "      <th>10</th>\n",
       "      <td>제공된 문서들은 모두 LangChain 표현 언어에 대한 구체적이고 기술적인 설명이...</td>\n",
       "      <td>[0.02453741990029812, 0.04432832449674606, -0....</td>\n",
       "      <td>[3.0]</td>\n",
       "    </tr>\n",
       "    <tr>\n",
       "      <th>11</th>\n",
       "      <td>제공된 문서들은 LangChain 표현 언어에 대해 단편적이고 불완전한 정보를 담고...</td>\n",
       "      <td>[-0.008247677236795425, 0.049422793090343475, ...</td>\n",
       "      <td>[2.0]</td>\n",
       "    </tr>\n",
       "    <tr>\n",
       "      <th>12</th>\n",
       "      <td>제공된 문서들은 모두 ‘LangChain 표현 언어’라는 주제와 관련된 일부 텍스트...</td>\n",
       "      <td>[0.01386038027703762, 0.06085141375660896, -0....</td>\n",
       "      <td>[2.0]</td>\n",
       "    </tr>\n",
       "    <tr>\n",
       "      <th>13</th>\n",
       "      <td>제공된 문서들은 LangChain 표현 언어에 대한 직접적인 설명이나 체인 구성 방...</td>\n",
       "      <td>[0.021617664024233818, 0.057263925671577454, -...</td>\n",
       "      <td>[4.0]</td>\n",
       "    </tr>\n",
       "    <tr>\n",
       "      <th>14</th>\n",
       "      <td>제공된 문서들은 모두 LangChain 표현 언어 자체의 구체적인 설명이나 체인 구...</td>\n",
       "      <td>[-0.0029028949793428183, 0.07055286318063736, ...</td>\n",
       "      <td>[2.0]</td>\n",
       "    </tr>\n",
       "    <tr>\n",
       "      <th>15</th>\n",
       "      <td>제공된 문서는 LangChain 표현 언어에 관한 일부 내용을 담고 있으나, 텍스트...</td>\n",
       "      <td>[0.0026405099779367447, 0.01841058023273945, -...</td>\n",
       "      <td>[0.0]</td>\n",
       "    </tr>\n",
       "    <tr>\n",
       "      <th>16</th>\n",
       "      <td>제공된 문서들은 표면적으로는 LangChain 표현 언어에 관한 내용으로 소개되었으...</td>\n",
       "      <td>[0.00943794846534729, 0.06374190747737885, -0....</td>\n",
       "      <td>[2.0]</td>\n",
       "    </tr>\n",
       "    <tr>\n",
       "      <th>17</th>\n",
       "      <td>제공된 문서들은 LangChain 표현 언어 자체보다는 범용 인공지능(AGI)과 A...</td>\n",
       "      <td>[-0.004588537849485874, 0.018561435863375664, ...</td>\n",
       "      <td>[4.0]</td>\n",
       "    </tr>\n",
       "    <tr>\n",
       "      <th>18</th>\n",
       "      <td>제공된 문서들은 LangChain 표현 언어에 관한 단편적이고 부분적인 내용을 담고...</td>\n",
       "      <td>[0.03948107734322548, 0.033964913338422775, -0...</td>\n",
       "      <td>[2.0]</td>\n",
       "    </tr>\n",
       "    <tr>\n",
       "      <th>19</th>\n",
       "      <td>제공된 문서는 LangChain 표현 언어에 대해 매우 제한적이고 단편적인 정보만을...</td>\n",
       "      <td>[0.034213703125715256, 0.03198624774813652, -0...</td>\n",
       "      <td>[0.0]</td>\n",
       "    </tr>\n",
       "    <tr>\n",
       "      <th>20</th>\n",
       "      <td>제공된 문서들은 2023년을 전후로 한 주요 국가 및 국제기구들의 첨단 AI 시스템...</td>\n",
       "      <td>[0.015394769608974457, 0.06354019790887833, 0....</td>\n",
       "      <td>[1.0]</td>\n",
       "    </tr>\n",
       "    <tr>\n",
       "      <th>21</th>\n",
       "      <td>제공된 문서는 LangChain 표현 언어와는 무관하며, 2023년 12월 발행된 ...</td>\n",
       "      <td>[0.04091780632734299, 0.027797214686870575, -0...</td>\n",
       "      <td>[3.0]</td>\n",
       "    </tr>\n",
       "    <tr>\n",
       "      <th>22</th>\n",
       "      <td>제공된 문서들은 LangChain 표현 언어에 관한 설명이 아니라, 주로 유튜브의 ...</td>\n",
       "      <td>[0.015198438428342342, 0.05298060178756714, -0...</td>\n",
       "      <td>[3.0]</td>\n",
       "    </tr>\n",
       "    <tr>\n",
       "      <th>23</th>\n",
       "      <td>제공된 문서는 LangChain 표현 언어에 관한 매우 불완전하고 단편적인 내용으로...</td>\n",
       "      <td>[0.00914123933762312, 0.024889204651117325, -0...</td>\n",
       "      <td>[0.0]</td>\n",
       "    </tr>\n",
       "    <tr>\n",
       "      <th>24</th>\n",
       "      <td>제공된 문서는 LangChain 표현 언어에 대해 간략히 소개하며, 이 언어가 La...</td>\n",
       "      <td>[0.01114599872380495, -0.013455687090754509, -...</td>\n",
       "      <td>[0.0]</td>\n",
       "    </tr>\n",
       "    <tr>\n",
       "      <th>25</th>\n",
       "      <td>제공된 문서는 크게 두 부분으로 구성되어 있습니다.\\n\\n1. **LangChain...</td>\n",
       "      <td>[0.03992864862084389, 0.05238795652985573, -0....</td>\n",
       "      <td>[1.0]</td>\n",
       "    </tr>\n",
       "    <tr>\n",
       "      <th>26</th>\n",
       "      <td>제공된 문서들은 LangChain 표현 언어에 관한 내용이 아니라, 구글과 앤스로픽...</td>\n",
       "      <td>[0.01813097856938839, 0.035160768777132034, 0....</td>\n",
       "      <td>[4.0]</td>\n",
       "    </tr>\n",
       "    <tr>\n",
       "      <th>27</th>\n",
       "      <td>LangChain 표현 언어 문서는 LangChain 프레임워크 내에서 체인(cha...</td>\n",
       "      <td>[0.01298944465816021, 0.03070404939353466, -0....</td>\n",
       "      <td>[0.0]</td>\n",
       "    </tr>\n",
       "    <tr>\n",
       "      <th>28</th>\n",
       "      <td>제공된 문서는 LangChain 표현 언어와는 무관하며, 주로 생성 AI(Gener...</td>\n",
       "      <td>[0.02939794212579727, 0.023009655997157097, 0....</td>\n",
       "      <td>[1.0]</td>\n",
       "    </tr>\n",
       "  </tbody>\n",
       "</table>\n",
       "</div>"
      ],
      "text/plain": [
       "                                                 text  \\\n",
       "0   제공된 문서들은 LangChain 표현 언어에 대한 구체적이고 실질적인 설명이나 체...   \n",
       "1   제공된 여러 문서들은 모두 **LangChain 표현 언어 자체에 대한 구체적 설명...   \n",
       "2   제공된 문서는 LangChain 표현 언어에 관한 내용임을 알 수 있으나, 실제 문...   \n",
       "3   제공된 여러 단편적 문서 내용을 종합하면, LangChain 표현 언어는 다음과 같...   \n",
       "4   제공된 문서들은 주로 EU 내 AI 법(AI Act) 제정 및 기반모델(Founda...   \n",
       "5   제공된 문서들은 모두 LangChain 표현 언어에 대한 구체적 설명이나 체인 구성...   \n",
       "6   제공된 문서들은 모두 LangChain 표현 언어에 대한 직접적인 설명이나 체인 구...   \n",
       "7   제공된 문서는 LangChain 표현 언어에 대한 직접적이고 구체적인 설명보다는, ...   \n",
       "8   제공된 문서는 LangChain 표현 언어에 관한 내용의 일부로, LangChain...   \n",
       "9   제공된 문서들은 LangChain 표현 언어에 대한 설명이 아니라, AI 기술과 시...   \n",
       "10  제공된 문서들은 모두 LangChain 표현 언어에 대한 구체적이고 기술적인 설명이...   \n",
       "11  제공된 문서들은 LangChain 표현 언어에 대해 단편적이고 불완전한 정보를 담고...   \n",
       "12  제공된 문서들은 모두 ‘LangChain 표현 언어’라는 주제와 관련된 일부 텍스트...   \n",
       "13  제공된 문서들은 LangChain 표현 언어에 대한 직접적인 설명이나 체인 구성 방...   \n",
       "14  제공된 문서들은 모두 LangChain 표현 언어 자체의 구체적인 설명이나 체인 구...   \n",
       "15  제공된 문서는 LangChain 표현 언어에 관한 일부 내용을 담고 있으나, 텍스트...   \n",
       "16  제공된 문서들은 표면적으로는 LangChain 표현 언어에 관한 내용으로 소개되었으...   \n",
       "17  제공된 문서들은 LangChain 표현 언어 자체보다는 범용 인공지능(AGI)과 A...   \n",
       "18  제공된 문서들은 LangChain 표현 언어에 관한 단편적이고 부분적인 내용을 담고...   \n",
       "19  제공된 문서는 LangChain 표현 언어에 대해 매우 제한적이고 단편적인 정보만을...   \n",
       "20  제공된 문서들은 2023년을 전후로 한 주요 국가 및 국제기구들의 첨단 AI 시스템...   \n",
       "21  제공된 문서는 LangChain 표현 언어와는 무관하며, 2023년 12월 발행된 ...   \n",
       "22  제공된 문서들은 LangChain 표현 언어에 관한 설명이 아니라, 주로 유튜브의 ...   \n",
       "23  제공된 문서는 LangChain 표현 언어에 관한 매우 불완전하고 단편적인 내용으로...   \n",
       "24  제공된 문서는 LangChain 표현 언어에 대해 간략히 소개하며, 이 언어가 La...   \n",
       "25  제공된 문서는 크게 두 부분으로 구성되어 있습니다.\\n\\n1. **LangChain...   \n",
       "26  제공된 문서들은 LangChain 표현 언어에 관한 내용이 아니라, 구글과 앤스로픽...   \n",
       "27  LangChain 표현 언어 문서는 LangChain 프레임워크 내에서 체인(cha...   \n",
       "28  제공된 문서는 LangChain 표현 언어와는 무관하며, 주로 생성 AI(Gener...   \n",
       "\n",
       "                                                 embd cluster  \n",
       "0   [-0.004334051627665758, 0.03586605563759804, -...   [3.0]  \n",
       "1   [0.02327398769557476, 0.03808298334479332, -0....   [4.0]  \n",
       "2   [0.01372564397752285, 0.031900860369205475, -0...   [2.0]  \n",
       "3   [0.02473674714565277, 0.04862183704972267, -0....   [0.0]  \n",
       "4   [0.015201035887002945, 0.04443379491567612, 0....   [1.0]  \n",
       "5   [0.015847740694880486, 0.018610192462801933, -...   [4.0]  \n",
       "6   [0.022804930806159973, 0.05258014053106308, -0...   [4.0]  \n",
       "7   [0.016360556706786156, 0.05305593088269234, -0...   [2.0]  \n",
       "8   [0.01755683869123459, 0.02638312242925167, 0.0...   [0.0]  \n",
       "9   [0.010195399634540081, 0.04058496654033661, -0...   [4.0]  \n",
       "10  [0.02453741990029812, 0.04432832449674606, -0....   [3.0]  \n",
       "11  [-0.008247677236795425, 0.049422793090343475, ...   [2.0]  \n",
       "12  [0.01386038027703762, 0.06085141375660896, -0....   [2.0]  \n",
       "13  [0.021617664024233818, 0.057263925671577454, -...   [4.0]  \n",
       "14  [-0.0029028949793428183, 0.07055286318063736, ...   [2.0]  \n",
       "15  [0.0026405099779367447, 0.01841058023273945, -...   [0.0]  \n",
       "16  [0.00943794846534729, 0.06374190747737885, -0....   [2.0]  \n",
       "17  [-0.004588537849485874, 0.018561435863375664, ...   [4.0]  \n",
       "18  [0.03948107734322548, 0.033964913338422775, -0...   [2.0]  \n",
       "19  [0.034213703125715256, 0.03198624774813652, -0...   [0.0]  \n",
       "20  [0.015394769608974457, 0.06354019790887833, 0....   [1.0]  \n",
       "21  [0.04091780632734299, 0.027797214686870575, -0...   [3.0]  \n",
       "22  [0.015198438428342342, 0.05298060178756714, -0...   [3.0]  \n",
       "23  [0.00914123933762312, 0.024889204651117325, -0...   [0.0]  \n",
       "24  [0.01114599872380495, -0.013455687090754509, -...   [0.0]  \n",
       "25  [0.03992864862084389, 0.05238795652985573, -0....   [1.0]  \n",
       "26  [0.01813097856938839, 0.035160768777132034, 0....   [4.0]  \n",
       "27  [0.01298944465816021, 0.03070404939353466, -0....   [0.0]  \n",
       "28  [0.02939794212579727, 0.023009655997157097, 0....   [1.0]  "
      ]
     },
     "execution_count": 73,
     "metadata": {},
     "output_type": "execute_result"
    }
   ],
   "source": [
    "results[3][0]"
   ]
  },
  {
   "cell_type": "markdown",
   "id": "ff5156ee",
   "metadata": {},
   "source": [
    "다음으로는 vectorstore를 생성하고 로컬에 저장합니다.\n",
    "* texts_split 문서에 요약본을 넣고 모든 문서내용을 vectorstore에 저장"
   ]
  },
  {
   "cell_type": "code",
   "execution_count": 65,
   "id": "822f26cf",
   "metadata": {},
   "outputs": [
    {
     "data": {
      "text/plain": [
       "['홈페이지 : https://spri.kr/',\n",
       " '보고서와 관련된 문의는 AI정책연구실(jayoo@spri.kr, 031-739-7352)으로 연락주시기 바랍니다.',\n",
       " '---',\n",
       " 'Ⅱ\\n. 주요 행사 일정\\n행사명 행사 주요 개요',\n",
       " '- 미국 소비자기술 협회(CTA)가 주관하는 세계 최대 가전·IT·소',\n",
       " '비재 전시회로 5G, AR&VR, 디지털헬스, 교통·모빌리티 등',\n",
       " '주요 카테고리 중심으로 기업들이 최신의 기술 제품군을 전시',\n",
       " '- CTA 사피로 회장은 가장 주목받는 섹터로 AI를 조명하였으며,',\n",
       " '모든 산업을 포괄한다는 의미에서 ‘올 온(All on)’을 주제로 한\\nCES 2024',\n",
       " '이번 전시에는 500곳 이상의 한국기업 참가 예정\\n기간 장소 홈페이지']"
      ]
     },
     "execution_count": 65,
     "metadata": {},
     "output_type": "execute_result"
    }
   ],
   "source": [
    "leaf_texts[:10]"
   ]
  },
  {
   "cell_type": "code",
   "execution_count": 74,
   "id": "fbd18b8a",
   "metadata": {},
   "outputs": [],
   "source": [
    "from langchain_community.vectorstores import FAISS\n",
    "\n",
    "all_texts = leaf_texts.copy()\n",
    "\n",
    "# 레벨을 정렬하여 순회\n",
    "for level in sorted(results.keys()):\n",
    "    # 현재 레벨의 DataFrame에서 요약을 추출\n",
    "    summaries = results[level][1][\"summaries\"].tolist()\n",
    "    # 현재 레벨의 요약을 all_texts에 추가합니다.\n",
    "    all_texts.extend(summaries)\n",
    "\n",
    "# 이제 all_texts를 사용하여 FAISS vectorstore를 구축합니다.\n",
    "vectorstore = FAISS.from_texts(texts=all_texts, embedding=embeddings)"
   ]
  },
  {
   "cell_type": "code",
   "execution_count": 83,
   "id": "80edbdf5",
   "metadata": {},
   "outputs": [
    {
     "data": {
      "text/plain": [
       "933"
      ]
     },
     "execution_count": 83,
     "metadata": {},
     "output_type": "execute_result"
    }
   ],
   "source": [
    "len(all_texts)"
   ]
  },
  {
   "cell_type": "code",
   "execution_count": 84,
   "id": "1352f2a1",
   "metadata": {},
   "outputs": [
    {
     "data": {
      "text/plain": [
       "['제공된 문서는 LangChain 표현 언어에 대해 간략히 소개하며, 이 언어가 LangChain 내에서 체인을 구성하는 방법을 제공한다는 점을 알립니다. 문서에서는 특히 에이전트(agent) 기술의 발전과 보급이 컴퓨터 분야를 넘어 산업 전반에 걸쳐 큰 변화를 가져올 것임을 강조합니다. 키보드 입력에서 아이콘 클릭으로의 변화 이후, 에이전트의 등장이 사용자 경험과 작업 흐름에 중대한 전환점이 될 것임을 시사합니다. 그러나 문서 자체는 LangChain 표현 언어의 구체적인 구조, 문법, 사용법 등에 대한 상세한 설명이나 예시는 포함하지 않고 있어, 실제 언어의 작동 방식이나 활용법에 대한 정보는 부족한 상태입니다. 요약하면, 문서는 LangChain 표현 언어의 개념적 역할과 에이전트 기술의 중요성을 소개하는 데 그치고 있습니다.',\n",
       " '제공된 문서는 크게 두 부분으로 구성되어 있습니다.\\n\\n1. **LangChain 표현 언어에 대한 설명**  \\n   - LangChain 표현 언어는 LangChain 프레임워크 내에서 체인을 구성하는 방법을 정의하는 언어입니다.  \\n   - 이를 통해 사용자는 다양한 컴포넌트(예: LLM, 도구, API 호출 등)를 연결하여 복잡한 작업 흐름을 설계하고 실행할 수 있습니다.  \\n   - 문서에서는 LangChain 표현 언어가 체인 구성의 핵심 역할을 하며, 이를 통해 자동화 및 확장 가능한 애플리케이션 개발이 가능함을 시사합니다.\\n\\n2. **생성 AI와 저작권 관련 법적 이슈**  \\n   - 문서 후반부에는 생성 AI(특히 이미지 생성 모델)와 관련된 저작권 분쟁 사례가 포함되어 있습니다.  \\n   - 여러 예술가들이 AI 기업을 상대로 저작권 침해 소송을 제기했으나, 법원은 증거 불충분 및 저작권 미등록 등을 이유로 소송을 기각했습니다.  \\n   - 법원은 AI가 생성한 이미지가 단일 원저작물의 파생물이 아니며, AI 훈련에 사용된 이미지들에 모두 저작권이 있다고 보지 않는 입장을 취하고 있습니다.  \\n   - 이 부분은 LangChain 표현 언어와 직접적인 관련은 없으며, 생성 AI 기술과 저작권법 간의 현재 법적 논쟁 상황을 다루고 있습니다.\\n\\n---\\n\\n**요약:**  \\n문서는 LangChain 표현 언어가 LangChain 내에서 체인을 구성하는 방법을 제공하는 기술적 언어임을 설명하는 한편, 생성 AI 이미지와 관련된 저작권 분쟁 및 법원의 판결 사례를 함께 다루고 있습니다. 두 주제는 별개의 내용으로, LangChain 표현 언어는 체인 설계에 집중하는 반면, 저작권 관련 내용은 생성 AI 기술의 법적 쟁점에 관한 것입니다.',\n",
       " '제공된 문서들은 LangChain 표현 언어에 관한 내용이 아니라, 구글과 앤스로픽(Anthropic) 간의 대규모 투자 및 협력 소식을 다루고 있습니다. 주요 요점은 다음과 같습니다:\\n\\n- 구글이 생성 AI 분야에서 앤스로픽에 최대 20억 달러를 투자하기로 합의했으며, 이미 일부 금액(5억~5억 5,000만 달러)을 선투자한 상태입니다.\\n- 앤스로픽은 구글의 클라우드 서비스와 칩을 활용해 AI 모델을 운영하며, ‘클로드(Claude)’라는 대형 언어 모델을 개발한 AI 스타트업입니다.\\n- 구글은 앤스로픽뿐 아니라 AI 동영상 제작 도구 개발사 런웨이(Runway) 등 다양한 AI 스타트업과 협력하며 AI 생태계 전반에 걸쳐 투자를 확대하고 있습니다.\\n- 이번 투자는 구글이 아마존, 마이크로소프트 등과 경쟁하는 클라우드 및 생성 AI 시장에서 입지를 강화하기 위한 전략적 행보로 평가됩니다.\\n- 출처는 The Wall Street Journal(2023.10.27), Bloomberg(2023.11.09) 등 주요 언론 보도입니다.\\n\\n요약하면, 문서들은 LangChain 표현 언어와는 무관하며, 구글의 생성 AI 및 클라우드 서비스 분야에서 앤스로픽과의 협력 강화 및 대규모 투자 현황을 중심으로 한 최신 AI 산업 동향을 다루고 있습니다.',\n",
       " 'LangChain 표현 언어 문서는 LangChain 프레임워크 내에서 체인(chain)을 구성하는 방법을 정의하는 언어적 도구를 제공합니다. 즉, LangChain 표현 언어는 복잡한 작업 흐름을 여러 개의 모듈이나 함수로 나누어 연결하는 과정을 체계적으로 기술할 수 있도록 설계된 하위 집합 언어입니다.\\n\\n주요 내용 요약:\\n- LangChain 표현 언어는 LangChain에서 체인을 구성하는 방식을 명확하고 구조적으로 표현할 수 있게 해준다.\\n- 이를 통해 사용자는 다양한 AI 모델, 도구, API 호출 등을 조합하여 복합적인 작업 흐름을 설계하고 실행할 수 있다.\\n- 표현 언어는 체인의 각 단계(예: 입력 처리, 모델 호출, 후처리 등)를 정의하고, 단계 간 데이터 흐름과 제어 흐름을 관리하는 역할을 한다.\\n- 이 언어를 활용하면 코드 작성 없이도 복잡한 AI 체인을 시각적 혹은 선언적 방식으로 설계할 수 있어 개발 생산성을 높인다.\\n- LangChain 표현 언어는 LangChain의 핵심 기능인 체인 구성과 실행을 보다 직관적이고 재사용 가능하게 만드는 도구로서 기능한다.\\n\\n요약하면, LangChain 표현 언어는 LangChain 내에서 AI 체인을 선언적이고 체계적으로 설계할 수 있도록 지원하는 언어적 수단으로, 복잡한 AI 작업 흐름을 모듈화하고 연결하는 데 중점을 둔 하위 집합 언어입니다.',\n",
       " '제공된 문서는 LangChain 표현 언어와는 무관하며, 주로 생성 AI(Generative AI) 기술과 관련된 미국 내 법적·규제적 이슈를 다루고 있습니다. 주요 내용은 다음과 같습니다:\\n\\n1. **미국 연방거래위원회(FTC)의 의견서**  \\n   - FTC는 생성 AI가 소비자와 창작자에게 잠재적 피해를 줄 수 있음을 경고하며, 저작권 침해, 개인정보 보호 문제, 시장 경쟁 저해 우려를 제기합니다.  \\n   - 특히 빅테크 기업들이 AI 시장에서 지배력을 강화해 중소기업과 신생 기업의 경쟁을 어렵게 할 가능성에 대해 우려합니다.  \\n   - FTC는 이러한 문제에 대응하기 위해 적극적인 규제와 감독 의지를 표명하고 있습니다.\\n\\n2. **저작권 침해 소송 사례**  \\n   - 예술가들이 Midjourney, Stability AI, DeviantArt 등 생성 AI 기업들을 상대로 저작권 침해 소송을 제기했으나, 미국 법원은 일단 이들 기업에 유리한 판결을 내렸습니다.  \\n   - 다만, 소송은 완전히 종료되지 않았으며, 저작권 보호를 위한 법적 다툼은 계속되고 있습니다.\\n\\n3. **개인정보 보호 문제**  \\n   - FTC는 AI 관련 기기들이 동의 없이 어린이 음성 및 위치 정보를 수집한 사례를 언급하며, 개인정보 보호에 대한 경각심을 강조합니다.\\n\\n4. **산업 및 비즈니스 영향**  \\n   - 생성 AI의 빠른 발전이 산업 전반에 변화를 가져오지만, 소비자, 근로자, 중소기업에 미칠 부정적 영향에 대한 주의가 필요하다고 지적합니다.\\n\\n요약하면, 문서는 생성 AI 기술 발전에 따른 저작권, 개인정보 보호, 시장 경쟁 문제에 대해 미국 규제 당국과 법원이 어떻게 대응하고 있는지를 설명하며, LangChain 표현 언어와는 관련이 없음을 명확히 하고 있습니다.',\n",
       " '제공된 문서들은 LangChain 표현 언어에 대한 구체적이고 기술적인 설명이나 체인 구성 방법에 관한 내용이 전혀 포함되어 있지 않습니다. 대신, 문서들은 다음과 같은 비관련 주제들로 구성되어 있습니다:\\n\\n- 2023~2024년 주요 첨단기술 전시회(CES 2024, AIMLA 2024 등) 및 국제 행사 소개, 행사 일정과 참가 기업 현황\\n- 5G, AR&VR, 디지털헬스, 교통·모빌리티 등 첨단 기술 분야의 시장 성장 전망과 투자 동향\\n- 임금 인상 사례, 법적 제재, 노동자 지원, 공정 경쟁, 혁신 촉진, 국제협력 등 사회·경제적 이슈\\n- 유튜브의 AI 생성 콘텐츠 표시 정책, AI 라벨링 의무화, 개인정보 침해 대응, 콘텐츠 삭제 및 수익 중단 절차\\n- 콘텐츠 신뢰성 확보, 출처 확인, 합성 콘텐츠 관리, 라벨링 정책 등 유튜브 콘텐츠 관리 전반\\n\\n요약하면, 제공된 문서들은 LangChain 표현 언어의 기능, 문법, 사용법, 체인 구성 방법 등에 관한 구체적이고 체계적인 정보가 전혀 없으며, LangChain과 직접적인 관련이 없는 산업 동향, 정책 안내, 행사 소개, 사회경제적 이슈, AI 콘텐츠 관리 정책 등의 단편적 정보들로 이루어져 있습니다. 따라서 이 문서들은 LangChain 표현 언어 문서라기보다는 관련 산업 및 기술, 정책 현황에 관한 일반적 정보나 뉴스, 시장 분석 자료로 판단됩니다.',\n",
       " '제공된 문서들의 하위 집합은 모두 **LangChain 표현 언어 자체에 대한 구체적인 설명, 문법, 사용법, 체인 구성 방법**에 관한 내용은 포함하고 있지 않습니다. 대신, AI 전반에 걸친 다양한 주제와 최신 동향, 연구 결과, 산업 현황, 정책 및 윤리 문제 등을 다루고 있습니다.\\n\\n---\\n\\n## 종합 요약\\n\\n1. **LangChain 표현 언어 관련 내용 부재**  \\n   - 문서들은 LangChain 표현 언어가 무엇인지, 어떻게 체인을 구성하는지, 문법이나 예시 등 구체적인 기술적 설명을 제공하지 않음.  \\n   - LangChain 표현 언어는 LangChain에서 체인을 구성하는 도구임이 간략히 언급될 뿐, 상세 정보는 별도의 전문 자료를 참고해야 함.\\n\\n2. **AI 정책, 안전, 윤리 및 거버넌스**  \\n   - AI 안전 연구 촉진, AI 정책 및 규제 강화, 소비자 보호와 차별 방지, 책임 있는 AI 사용 모범사례 개발 등 사회적·법적 이슈 집중.  \\n   - AI 위험 평가, AGI(범용 인공지능) 관련 위험 관리, AI 안전 연구 기금 조성, 다양한 이해관계자 협력체계 구축 동향 소개.\\n\\n3. **AI 기술 및 연구 동향**  \\n   - AI 및 기계학습 이론과 실무 연구, 첨단 AI 시스템 개발, AI 모델 성능 평가 및 벤치마크, 환각(hallucination) 문제와 신뢰성 이슈 분석.  \\n   - 구글, 마이크로소프트, 오픈AI, 앤스로픽 등 주요 기업들의 AI 모델 개발, 투자 및 협력 현황.  \\n   - 차세대 AI 시스템(예: 구글 제미니), 오픈소스 LLM, AI 에이전트 발전 및 미래 전망.\\n\\n4. **AI 경제적 영향 및 시장 동향**  \\n   - AI 기술자 임금 프리미엄, AI 소프트웨어 및 플랫폼 시장의 급성장 전망, 기업들의 AI 투자 확대와 사업 성공 필수 요소로 인식.  \\n   - AI 기술 간 결합성의 경제적 가치, AI 기반 서비스 대중화(의료, 교육, 생산성, 엔터테인먼트 등).\\n\\n5. **AI 에이전트 및 범용 AI(AGI) 발전**  \\n   - AGI 성능 및 자율성 단계별 분류 체계, AI 에이전트가 자연어 명령으로 다양한 작업을 수행하는 미래 전망.  \\n   - AI 에이전트의 산업별 활용 사례와 서비스 대중화 현황.\\n\\n6. **AI 데이터 및 모델 훈련 문제**  \\n   - 데이터 출처 불명확성, 편향 문제, 민감 정보 처리, AI 모델 취약점과 위험 완화 방안.  \\n   - 고성능 컴퓨팅 및 초고속 네트워크 활용 현황.\\n\\n7. **AI 산업 내 투자 및 협력 사례**  \\n   - 구글의 앤스로픽에 대한 대규모 투자, 클라우드 서비스 및 AI 스타트업과의 협력 확대.  \\n   - 주요 클라우드 사업자(구글, MS, 아마존)와 AI 플랫폼 경쟁 구도.\\n\\n---\\n\\n## 결론\\n\\n- 제공된 문서들은 **LangChain 표현 언어의 구체적 문법, 구조, 체인 구성 방법에 관한 설명이 전혀 없으며**, LangChain 표현 언어 문서라기보다는 AI 산업, 연구, 정책, 안전, 윤리, 경제, 기술 동향, AI 모델 성능 평가, AI 에이전트 및 AGI 발전 전망 등 AI 전반에 관한 광범위한 주제를 다룬 자료들의 집합임.  \\n- LangChain 표현 언어에 대한 자세한 이해나 요약이 필요하다면, 별도의 공식 문서나 전문 자료를 참고하는 것이 필수적임.\\n\\n---\\n\\n필요시 LangChain 표현 언어의 정의, 문법, 사용법, 체인 구성 예시 등을 포함한 전문 자료를 요청해 주시면 별도로 요약해 드릴 수 있습니다.',\n",
       " '제공된 LangChain 표현 언어 관련 문서들의 하위 집합을 종합적으로 요약하면 다음과 같습니다.\\n\\n---\\n\\n## 1. LangChain 표현 언어 개요 및 역할\\n\\n- **정의**: LangChain 표현 언어는 LangChain 프레임워크 내에서 여러 구성 요소(LLM, 도구, 메모리 등)를 연결하여 복잡한 작업 흐름이나 체인(chain)을 구성하는 방법을 제공하는 언어이다.\\n- **목적**: 사용자가 체계적이고 직관적으로 작업 흐름을 설계·관리하고, 다양한 자동화 및 에이전트 행동을 구현할 수 있도록 지원한다.\\n- **기대 효과**: 기존 소프트웨어 개발 및 사용 방식을 혁신하며, 생산성 향상과 맞춤형 작업 자동화를 가능하게 한다.\\n\\n## 2. 문서 내용의 한계 및 특성\\n\\n- 대부분 문서에서 LangChain 표현 언어의 구체적인 문법, 사용법, 예제, 기능 설명 등 기술적 세부사항은 제공되지 않음.\\n- 일부 문서는 LangChain 표현 언어와 직접 관련 없는 법적 소송, 저작권 문제, 정책·윤리적 이슈, 시스템 평가, 보안, 환각 문제 등 주변 주제를 다룸.\\n- 단편적이고 불완전한 정보가 많아, 표현 언어 자체에 대한 심층적 이해는 별도의 전문 자료가 필요함.\\n\\n## 3. 부수적 주제 및 관련 내용\\n\\n- **시스템 평가 및 악용 방지**: 연구소 및 외부 기관과 협력하여 LangChain 관련 시스템의 평가 체계 마련, 악의적 활용 방지, 규제 필요성 강조.\\n- **협력과 정보 교류**: 다양한 이해관계자 간 개인정보 보호를 준수하며 정보 공유 및 협력 네트워크 구축 노력.\\n- **국제 표준화 및 개인정보 보호**: 공공부문과 과학 연구개발 협력, 국제 기술 표준 개발 가속화, 개인정보 및 지식재산권 보호 중요성.\\n- **법적·윤리적 문제**: 저작권 침해, 프라이버시, 불공정 경쟁, 환각 문제 등 법적·윤리적 쟁점과 정책 대응.\\n- **데이터 및 기술 동향**: 데이터 분석, 클라우드 컴퓨팅, 고성능 컴퓨팅, 데이터 라이선스 관리, 정보 검색 및 맞춤형 구독 서비스 등 관련 기술 동향 일부 포함.\\n- **보안 및 온디바이스 실행**: 사용자 정보 유출 방지를 위한 온디바이스 실행 지원 등 보안성 강조.\\n\\n## 4. 개발자 지원 및 교육\\n\\n- LangChain 표현 언어는 개발자에게 코드 작성, 프로그램 및 에이전트 개발 도구를 제공하여 개발 생산성을 높임.\\n- 맞춤형 교육 콘텐츠와 실질적 작업 기반 성능 평가가 중요시됨.\\n\\n---\\n\\n## 종합 결론\\n\\n- LangChain 표현 언어는 LangChain 내에서 체인을 구성하는 핵심 도구로, 복잡한 작업 흐름과 자동화를 체계적으로 설계·관리할 수 있게 한다.\\n- 제공된 문서들은 이 언어의 기본 개념과 역할을 간략히 소개하는 수준이며, 구체적인 문법이나 사용법은 포함하지 않는다.\\n- 다수 문서가 법적, 윤리적, 정책적, 보안적 이슈 및 관련 기술 동향 등 주변 주제를 다루고 있어, 표현 언어 자체에 대한 심층적 이해를 위해서는 공식 문서나 전문 자료 참고가 필요하다.\\n- 향후 LangChain 표현 언어는 소프트웨어 개발, 품질 관리, 사용자 맞춤형 자동화, 보안성 강화 등 다양한 분야에서 활용 가능성이 크며, 개발자 생산성 향상과 산업 전반의 혁신을 기대할 수 있다.\\n\\n---\\n\\n필요시, LangChain 공식 문서나 개발자 가이드에서 구체적인 문법, 예제, 체인 구성 방법을 확인하는 것을 권장합니다.',\n",
       " '제공된 여러 단편적 문서 내용을 종합한 LangChain 표현 언어 요약은 다음과 같습니다.\\n\\n---\\n\\n## LangChain 표현 언어 요약\\n\\n### 1. 정의 및 목적  \\nLangChain 표현 언어는 LangChain 프레임워크 내에서 AI 체인(chain)을 구성하는 방법을 정의하는 특화된 언어적 도구입니다. 이를 통해 복잡한 작업 흐름을 여러 단계의 모듈, 함수, API 호출 등으로 나누어 체계적이고 선언적으로 설계·구현할 수 있도록 지원합니다.\\n\\n### 2. 주요 기능 및 역할  \\n- **체인 구성**: 다양한 AI 모델, 도구, API 등을 조합하여 복합적인 작업 흐름을 설계하고 실행할 수 있다.  \\n- **단계 정의 및 흐름 관리**: 입력 처리, 모델 호출, 후처리 등 각 단계의 역할과 데이터 흐름, 제어 흐름을 명확히 표현한다.  \\n- **평가 및 우선순위**: 체인 내 구성 요소들은 가능성이나 가치에 따라 평가되며, 높은 평가를 받은 요소가 우선 활용된다.  \\n- **맞춤화 및 성능 개선**: 시간 경과에 따른 체인 성능 개선과 맞춤형 대응이 가능하다.  \\n- **투명성 및 신뢰성**: 체인의 구성과 계보(추적 가능성)를 명확히 하여 투명성과 신뢰성을 확보한다.\\n\\n### 3. 적용 분야 및 고려사항  \\n- **다양한 산업 및 영역 적용**: 고객지원, 법률 상담, 의료, 금융, 문서관리, 교육 등 여러 산업과 분야에 적용 가능하다.  \\n- **법적·운영적 이슈**: 라이선스 준수, 보안 통제, 콘텐츠 인증, 출처 확인 등 법적·운영적 문제 해결을 위한 정책 관리와 이해관계자 협력이 중요하다.  \\n- **전문가 및 규칙 준수**: 전문가의 역할과 엄격한 규칙, 라벨링, 행정 조치 등을 통해 체인 운영의 안정성과 신뢰성을 강화한다.\\n\\n### 4. 문서의 한계 및 현황  \\n- 제공된 문서들은 구체적인 문법, 사용법, 예시 등 기술적 세부사항은 부족하며, 주로 개념적 역할과 적용 가능성, 분류 체계에 초점을 맞추고 있다.  \\n- 일부 문서에서는 AI 협업, 상태 관리, 에이전트 기술의 중요성 등을 언급하지만, 상세한 구현 방법은 포함되어 있지 않다.  \\n- 추가적인 완전한 문서나 예시가 제공되면 더 구체적이고 기술적인 이해가 가능할 것으로 보인다.\\n\\n---\\n\\n## 결론\\n\\nLangChain 표현 언어는 LangChain 프레임워크 내에서 AI 체인을 선언적이고 체계적으로 설계·구성·평가하는 언어적 수단입니다. 이를 통해 복잡한 AI 작업 흐름을 모듈화하고 연결하며, 맞춤화와 투명성을 지원합니다. 또한, 법적·운영적 측면에서의 협력과 관리가 병행되어 신뢰할 수 있고 효율적인 체인 구축을 가능하게 합니다. 다만, 현재 제공된 문서들은 구체적인 문법이나 사용법보다는 개념적 소개와 적용 분야에 중점을 둔 내용으로, 상세한 기술적 정보는 추가 자료가 필요합니다.',\n",
       " '제공된 문서들은 크게 세 가지 주요 주제를 다루고 있습니다:\\n\\n---\\n\\n### 1. EU 및 미국 AI 법률·규제 동향과 국제 협상 현황\\n\\n- **EU AI 법 및 기반모델 규제 협상**  \\n  - 유럽의회, EU 집행위원회, EU 이사회가 AI 법 최종 협상을 진행 중이며, 특히 프랑스, 독일, 이탈리아가 기반모델 규제 방안에서 입장 차이를 보임.  \\n  - ‘의무적 자율규제(mandatory self-regulation)’ 도입 여부가 핵심 쟁점이며, 독일은 강한 반대 입장으로 협상 난항.  \\n  - 2023년 11월 통신작업반 회의에서 협상 결렬, 이후 비공식 회의와 프랑스 AI 기업 미스트랄의 로비 활동 등이 협상에 영향.  \\n\\n- **미국 내 AI 규제 및 소비자 보호 동향**  \\n  - 미국 기업들은 EU의 엄격한 AI 규제가 자국 기업 경쟁력에 부정적 영향을 미칠 것을 우려.  \\n  - 연방거래위원회(FTC)와 저작권청이 AI 관련 소비자 보호, 저작권, 경쟁 환경에 관한 의견서를 제출하며 규제 방향 모색.  \\n  - AI 기술 발전에 따른 저작권 문제, 소비자 권익 보호, 공정 경쟁 확보가 주요 관심사임.\\n\\n- **종합 시사점**  \\n  - EU는 국가별 이해관계와 규제 방식 차이로 협상 지연 중이며, 미국은 글로벌 경쟁력 우려 속에서도 소비자 보호와 공정 경쟁 규제에 적극적.  \\n  - 양 지역 모두 AI 기술 발전에 따른 법적·윤리적 문제 해결과 시장 질서 확립을 위해 다양한 이해관계자 의견을 수렴하며 규제 체계 모색 중.\\n\\n---\\n\\n### 2. AI 안전성 확보 및 국제 협력 동향 (2023년 기준)\\n\\n- **영국 AI 안전 연구소 설립 및 정상회의**  \\n  - 영국 정부가 AI 안전성 평가·보장 위한 연구소 설립 발표, 10년간 공공자금 지원 계획.  \\n  - 28개국 참여 AI 안전성 정상회의에서 ‘블레츨리 선언’ 채택, AI 안전성 테스트, 위험 투명성 공유, 다자간 협력 의지 표명.  \\n  - 한국과의 AI 미니 정상회의 공동 개최 합의 등 지속적 국제 협력 약속.\\n\\n- **G7 ‘히로시마 AI 프로세스’ 및 국제 행동강령**  \\n  - G7 국가들이 AI 위험 관리, 투명성, 책임성, 안전성 확보를 위한 자발적 국제 행동강령 채택.  \\n  - 글로벌 AI 거버넌스 구축과 신뢰할 수 있는 AI 생태계 조성 목표.\\n\\n- **미국 AI 안전 및 신뢰성 행정명령**  \\n  - 바이든 대통령이 AI 안전성, 신뢰성, 개인정보 보호, 형평성 강화를 위한 정책 지침 발표.  \\n  - AI 시스템 안전성 검증 및 정보 공유 의무화, 책임감 있는 AI 활용과 사회적 신뢰 확보 목표.\\n\\n- **AI 연구 및 데이터 투명성 강화**  \\n  - AI 안전 연구 지원 확대, 국가 AI 연구 인프라 확충(예: 미국 NAIRR).  \\n  - 코히어 등 기관들이 데이터 출처 추적 플랫폼 공개, 데이터 투명성 및 신뢰성 제고 시도.\\n\\n- **종합 요약**  \\n  - 국가 및 국제 차원에서 AI 안전성·신뢰성 확보를 위한 연구, 정책, 협력, 데이터 투명성 강화 노력이 활발히 진행 중이며, 책임 있는 AI 개발과 글로벌 협력 체계 구축이 목표임.\\n\\n---\\n\\n### 3. LangChain 표현 언어 및 생성 AI 관련 법적 이슈\\n\\n- **LangChain 표현 언어**  \\n  - LangChain 프레임워크 내에서 체인을 구성하는 방법을 정의하는 기술적 언어.  \\n  - LLM, 도구, API 호출 등 다양한 컴포넌트를 연결해 복잡한 작업 흐름을 설계·실행 가능.  \\n  - 자동화 및 확장 가능한 애플리케이션 개발에 핵심 역할.\\n\\n- **생성 AI와 저작권 분쟁 사례**  \\n  - 생성 AI(특히 이미지 생성 모델) 관련 저작권 침해 소송이 미국에서 진행 중이나, 법원은 증거 불충분 및 저작권 미등록 등을 이유로 일부 소송을 기각.  \\n  - AI가 생성한 이미지가 단일 원저작물의 파생물이 아니라고 판단, AI 훈련에 사용된 이미지 모두에 저작권이 있다고 보지 않는 입장.  \\n  - 이 법적 논쟁은 LangChain 표현 언어와 직접 관련 없으며, 생성 AI 기술과 저작권법 간 현재 쟁점임.\\n\\n- **미국 내 생성 AI 규제 및 소비자 보호**  \\n  - FTC가 생성 AI의 저작권 침해, 개인정보 보호, 시장 경쟁 저해 우려를 제기하며 적극적 규제 의지 표명.  \\n  - AI 관련 개인정보 무단 수집 사례 지적, 산업 전반에 미칠 부정적 영향에 대한 경계 강조.\\n\\n- **종합 요약**  \\n  - LangChain 표현 언어는 체인 설계에 집중하는 기술적 도구이며, 생성 AI 관련 법적·규제 이슈는 별개로 미국 내 저작권, 개인정보 보호, 경쟁 정책 마련 과정에서 활발히 논의되고 있음.\\n\\n---\\n\\n## 전체 요약\\n\\n제공된 문서들은 AI 기술 발전에 따른 법적·윤리적·안전성 문제 해결과 규제 체계 마련을 위한 국제적·국가적 노력들을 다각도로 조명합니다. EU와 미국은 AI 법률 및 소비자 보호 정책에서 서로 다른 입장과 우려를 보이며, 특히 EU 내 기반모델 규제 협상 난항과 미국 내 AI 소비자 보호 및 경쟁 정책 마련이 두드러집니다. 한편, 영국, G7, 미국 등은 AI 안전성 확보와 국제 협력 강화를 위한 연구소 설립, 정상회의, 행동강령 채택, 행정명령 발표 등 구체적 조치를 추진 중입니다. LangChain 표현 언어는 AI 체인 구성 기술로서 별도의 기술적 주제이며, 생성 AI와 관련된 저작권 및 개인정보 보호 문제는 미국 내 법적·규제적 논쟁의 주요 이슈로 다뤄지고 있습니다.']"
      ]
     },
     "execution_count": 84,
     "metadata": {},
     "output_type": "execute_result"
    }
   ],
   "source": [
    "all_texts[-10:]"
   ]
  },
  {
   "cell_type": "markdown",
   "id": "b7eea66d",
   "metadata": {},
   "source": [
    "DB 를 로컬에 저장합니다.\n"
   ]
  },
  {
   "cell_type": "code",
   "execution_count": 75,
   "id": "15f67a9f",
   "metadata": {},
   "outputs": [],
   "source": [
    "import os\n",
    "\n",
    "DB_INDEX = \"RAPTOR\"\n",
    "\n",
    "# 기존 DB 인덱스가 존재하면 로드하여 vectorstore와 병합한 후 저장합니다.\n",
    "if os.path.exists(DB_INDEX):\n",
    "    local_index = FAISS.load_local(DB_INDEX, embeddings)\n",
    "    local_index.merge_from(vectorstore)\n",
    "    local_index.save_local(DB_INDEX)\n",
    "else:\n",
    "    vectorstore.save_local(folder_path=DB_INDEX)"
   ]
  },
  {
   "cell_type": "markdown",
   "id": "4ad41f05",
   "metadata": {},
   "source": [
    "`vectorstore` 로부터 `retriever`를 생성합니다."
   ]
  },
  {
   "cell_type": "code",
   "execution_count": 76,
   "id": "398b4dab",
   "metadata": {},
   "outputs": [],
   "source": [
    "# retriever 생성\n",
    "retriever = vectorstore.as_retriever()"
   ]
  },
  {
   "cell_type": "markdown",
   "id": "d6da0f7e",
   "metadata": {},
   "source": [
    "## RAG 체인 정의\n",
    "\n",
    "이제 생성된 vectorstore를 이용해 RAG 체인을 정의하고 실행하여 결과를 확인합니다."
   ]
  },
  {
   "cell_type": "code",
   "execution_count": 77,
   "id": "a9c26dc6",
   "metadata": {},
   "outputs": [],
   "source": [
    "from langchain_core.runnables import RunnablePassthrough\n",
    "from langchain_core.prompts import PromptTemplate\n",
    "\n",
    "# 프롬프트 정의\n",
    "prompt = PromptTemplate.from_template(\n",
    "    \"\"\"\n",
    "    You are an AI assistant specializing in Question-Answering (QA) tasks within a Retrieval-Augmented Generation (RAG) system. \n",
    "You are given PDF documents. Your primary mission is to answer questions based on provided context.\n",
    "Ensure your response is concise and directly addresses the question without any additional narration.\n",
    "\n",
    "###\n",
    "\n",
    "Your final answer should be written concisely (but include important numerical values, technical terms, jargon, and names).\n",
    "\n",
    "# Steps\n",
    "\n",
    "1. Carefully read and understand the context provided.\n",
    "2. Identify the key information related to the question within the context.\n",
    "3. Formulate a concise answer based on the relevant information.\n",
    "4. Ensure your final answer directly addresses the question.\n",
    "\n",
    "# Output Format:\n",
    "[General introduction of the answer]\n",
    "[Comprehensive answer to the question]\n",
    "\n",
    "###\n",
    "\n",
    "Remember:\n",
    "- It's crucial to base your answer solely on the **PROVIDED CONTEXT**. \n",
    "- DO NOT use any external knowledge or information not present in the given materials.\n",
    "\n",
    "###\n",
    "\n",
    "# Here is the user's QUESTION that you should answer:\n",
    "{question}\n",
    "\n",
    "# Here is the CONTEXT that you should use to answer the question:\n",
    "{context}\n",
    "\n",
    "[Note]\n",
    "- Answer should be written in Korean.\n",
    "\n",
    "# Your final ANSWER to the user's QUESTION:\"\"\"\n",
    ")\n",
    "\n",
    "\n",
    "# 문서 포맷팅\n",
    "def format_docs(docs):\n",
    "    return \"\\n\\n\".join(f\"<document>{doc.page_content}</document>\" for doc in docs)\n",
    "\n",
    "\n",
    "# RAG 체인 정의\n",
    "rag_chain = (\n",
    "    {\"context\": retriever | format_docs, \"question\": RunnablePassthrough()}\n",
    "    | prompt\n",
    "    | llm\n",
    "    | StrOutputParser()\n",
    ")"
   ]
  },
  {
   "cell_type": "markdown",
   "id": "52da8b08",
   "metadata": {},
   "source": [
    "[LangSmith 링크](https://smith.langchain.com/public/e5acd315-a662-4f93-aec3-04c80a8bd2a4/r)"
   ]
  },
  {
   "cell_type": "code",
   "execution_count": 92,
   "id": "e0efdda7",
   "metadata": {},
   "outputs": [
    {
     "name": "stdout",
     "output_type": "stream",
     "text": [
      "제공된 문서들은 LangChain 표현 언어 자체에 대한 구체적인 설명, 문법, 사용법, 체인 구성 방법을 포함하지 않고, AI 정책, 안전, 윤리, 연구, 경제적 영향, 기술 동향, AI 에이전트 활용, 데이터 문제 등 AI 전반에 관한 다양한 주제를 다루고 있습니다.\n",
      "\n",
      "주요 내용은 다음과 같습니다.\n",
      "\n",
      "1. **AI 정책 및 안전**  \n",
      "   - AI 안전 연구 촉진, AI 규제 강화, 소비자 보호, 차별 방지, 책임 있는 AI 사용 모범사례 개발(형사사법, 주택, 의료 분야)  \n",
      "   - AGI 위험 평가 및 사회적 영향 분석, 이해관계자 협력체계 구축\n",
      "\n",
      "2. **AI 기술 및 연구 동향**  \n",
      "   - AI 및 기계학습 이론과 실무 연구, 첨단 AI 시스템 개발, AI 모델 성능 평가 및 환각 문제 분석  \n",
      "   - 주요 기업(구글, MS, 오픈AI, 앤스로픽) AI 모델 개발 및 투자 현황  \n",
      "   - AI 에이전트의 산업별 활용과 서비스 대중화\n",
      "\n",
      "3. **AI 경제적 영향 및 시장 동향**  \n",
      "   - AI 소프트웨어 시장 급성장 전망, AI 기술자 임금 프리미엄, 기업들의 AI 투자 확대  \n",
      "   - AI 기술 간 결합성 및 경제적 가치 강조\n",
      "\n",
      "4. **데이터 및 모델 훈련 문제**  \n",
      "   - 데이터 출처 불명확성, 편향 문제, 민감 정보 처리, AI 모델 취약점 및 위험 완화 방안  \n",
      "   - 고성능 컴퓨팅 및 초고속 네트워크 활용 현황\n",
      "\n",
      "5. **LangChain 표현 언어 관련**  \n",
      "   - LangChain 표현 언어는 체인 구성 도구로 간략히 언급되나, 구체적 문법, 사용법, 예시는 제공되지 않음  \n",
      "   - 관련 기술 및 생태계 전반에 관한 단편적 정보만 포함\n",
      "\n",
      "결론적으로, 문서들은 LangChain 표현 언어의 구체적 내용보다는 AI 정책, 연구, 안전, 윤리, 경제, 기술 동향 등 AI 전반에 관한 광범위한 주제를 포괄적으로 다루고 있습니다. LangChain 표현 언어의 상세 정보는 별도의 전문 자료를 참고해야 합니다."
     ]
    }
   ],
   "source": [
    "# 추상적인 질문 실행\n",
    "answer = rag_chain.stream(\"AI관련 해당 문서가 다루는 주요 내용에 대해 정리해주세요.\")\n",
    "stream_response(answer)"
   ]
  },
  {
   "cell_type": "markdown",
   "id": "45f57edb",
   "metadata": {},
   "source": [
    "[LangSmith 링크](https://smith.langchain.com/public/bf58bdc0-ae03-4793-89ed-3d2bc95bd331/r)"
   ]
  },
  {
   "cell_type": "code",
   "execution_count": 86,
   "id": "02c6641e",
   "metadata": {},
   "outputs": [
    {
     "name": "stdout",
     "output_type": "stream",
     "text": [
      "Anthropic에 대한 투자 내용은 구글이 20억 달러를 투자했으며, 구글 칩을 활용하는 확장된 파트너십을 통해 AI 스타트업 Anthropic과 협력하고 있다는 점입니다."
     ]
    }
   ],
   "source": [
    "# mid level 질문 실행\n",
    "answer = rag_chain.stream(\"Anthropic 에 투자 관련된 내용을 요약하세요.\")\n",
    "stream_response(answer)"
   ]
  },
  {
   "cell_type": "markdown",
   "id": "ea6296b2",
   "metadata": {},
   "source": [
    "[LangSmith 링크](https://smith.langchain.com/public/d2869acc-ac9b-4d4d-85b9-33a73b43b535/r)"
   ]
  },
  {
   "cell_type": "code",
   "execution_count": 87,
   "id": "6e8193fb",
   "metadata": {},
   "outputs": [
    {
     "name": "stdout",
     "output_type": "stream",
     "text": [
      "삼성전자가 개발한 생성형 AI의 이름은 ‘삼성 가우스’이며, 발표일은 2023년 11월 8일이다."
     ]
    }
   ],
   "source": [
    "# Low Level 질문 실행\n",
    "answer = rag_chain.stream(\"삼성전자가 개발한 생성형 AI 의 이름과 발표일은?\")\n",
    "stream_response(answer)"
   ]
  },
  {
   "cell_type": "code",
   "execution_count": null,
   "id": "704f5f9b",
   "metadata": {},
   "outputs": [],
   "source": []
  }
 ],
 "metadata": {
  "kernelspec": {
   "display_name": "langchain-kr-KbDaaxJ8-py3.12",
   "language": "python",
   "name": "python3"
  },
  "language_info": {
   "codemirror_mode": {
    "name": "ipython",
    "version": 3
   },
   "file_extension": ".py",
   "mimetype": "text/x-python",
   "name": "python",
   "nbconvert_exporter": "python",
   "pygments_lexer": "ipython3",
   "version": "3.12.7"
  }
 },
 "nbformat": 4,
 "nbformat_minor": 5
}
